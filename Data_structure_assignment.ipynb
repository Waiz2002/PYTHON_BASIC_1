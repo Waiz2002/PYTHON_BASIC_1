{
  "nbformat": 4,
  "nbformat_minor": 0,
  "metadata": {
    "colab": {
      "provenance": []
    },
    "kernelspec": {
      "name": "python3",
      "display_name": "Python 3"
    },
    "language_info": {
      "name": "python"
    }
  },
  "cells": [
    {
      "cell_type": "markdown",
      "source": [
        "#**Data Types and Structures Theory Questions**"
      ],
      "metadata": {
        "id": "gH35Ksl2NKhO"
      }
    },
    {
      "cell_type": "markdown",
      "source": [
        "#**Q1) DP What are data structures, and why are they important?**\n",
        " A1)They’re like containers to keep your data organized — like putting your clothes in different drawers: shirts in one, pants in another.\n",
        "\n",
        "Why are they important?\n",
        "Faster work – if things are in the right place, you find them quicker.\n",
        "\n",
        "Easy to manage – keeps your data neat and clean.\n",
        "\n",
        "Helps in solving problems – the right structure makes coding simple and smart.\n",
        "\n",
        "Example:\n",
        "When you use your phone browser:\n",
        "\n",
        "Stack remembers your back history.\n",
        "\n",
        "Queue manages downloads in order.\n",
        "\n",
        "Hash table helps load pages faster from cache.\n",
        "\n",
        "\n",
        "\n"
      ],
      "metadata": {
        "id": "XYbt4i9tM0D6"
      }
    },
    {
      "cell_type": "markdown",
      "source": [
        "#**Q2) Explain the difference between mutable and immutable data types with examples**\n",
        "\n",
        "A2)In Python, data types are categorized into two main types: mutable and immutable, based on whether their values can be changed after the object is created.\n",
        "\n",
        "1. Mutable Data Types:\n",
        "Mutable data types are those which can be modified or changed after they are created. This means that we can update, add, or remove elements from them without creating a new object.\n",
        "\n",
        "Common examples of mutable data types include:\n",
        "\n",
        "List\n",
        "\n",
        "Dictionary\n",
        "\n",
        "Set\n",
        "\n",
        "For example, if we store some numbers in a list and later decide to change a value or add a new one, it is possible because the list is mutable.\n",
        "\n",
        "2. Immutable Data Types:\n",
        "Immutable data types are those which cannot be changed after creation. Once the value is assigned, it stays fixed. If any change is needed, Python creates a new object instead of modifying the existing one.\n",
        "\n",
        "Examples of immutable data types include:\n",
        "\n",
        "String\n",
        "\n",
        "Integer\n",
        "\n",
        "Float\n",
        "\n",
        "Tuple\n",
        "\n",
        "Boolean\n",
        "\n",
        "For example, if we store a word in a string and want to change one letter of that word, Python will not allow direct changes, because strings are immutable."
      ],
      "metadata": {
        "id": "Un2ApbNbNxW7"
      }
    },
    {
      "cell_type": "markdown",
      "source": [
        "#**Q3)What are the main differences between lists and tuples in Python?**\n",
        "A3)Lists and tuples are both used in Python to store multiple values, but there are some basic differences between the two.\n",
        "\n",
        "The biggest difference is that lists can be changed, but tuples can’t. This means if you make a list, you can add, remove, or update items later. But once a tuple is made, it stays the same — you can’t edit it.\n",
        "\n",
        "Another small difference is the brackets. Lists use square brackets like [ ] and tuples use round ones like ( ). It’s a small thing but important when writing code.\n",
        "\n",
        "Also, tuples are a bit faster and take less memory, so if you don’t need to change the data, using a tuple is better. But most of the time, people use lists because they’re more flexible and have more options like adding or sorting items."
      ],
      "metadata": {
        "id": "OKSObxO4OP09"
      }
    },
    {
      "cell_type": "markdown",
      "source": [
        "#**Q4)Describe how dictionaries store data**\n",
        "A4)In Python, a dictionary is a type of data that stores values in key-value pairs. This means instead of storing data in order like a list, it stores data with a label (called a \"key\") and the actual value.\n",
        "\n",
        "For example, think of a dictionary like a contact list in your phone. You don’t search by number, you search by the name. So \"name\" is the key, and the number is the value. Python dictionaries work in the same way.\n",
        "\n",
        "The best part is that each key is unique, and it helps us find the value super fast, without checking every item one by one. That’s why dictionaries are useful when you need to look up something quickly by a name or ID.\n",
        "\n",
        "So in short, a dictionary stores data like this:\n",
        "Key ➝ Value\n",
        "and it’s great for fast searching and organizing related data."
      ],
      "metadata": {
        "id": "pLs3s6fTPoS-"
      }
    },
    {
      "cell_type": "markdown",
      "source": [
        "#**Q5)Why might you use a set instead of a list in Python**\n",
        "A5)You might use a set instead of a list when you want to store data without any duplicates. The main feature of a set is that it automatically removes repeated items. So if you don’t care about the order of elements and just want unique values, a set is the better choice.\n",
        "\n",
        "Also, sets are faster when it comes to checking if something exists in it. Like, if you want to see whether a number is present or not, sets do that quickly compared to lists."
      ],
      "metadata": {
        "id": "8aih7qG9P7Mj"
      }
    },
    {
      "cell_type": "markdown",
      "source": [
        "#**Q6)What is a string in Python, and how is it different from a list.**\n",
        "A6)In Python, a string is just a bunch of characters joined together — like words or sentences. You write it inside quotes, single or double, doesn’t matter. For example, \"hello\" is a string.\n",
        "\n",
        "Now the main difference between a string and a list is that even though both hold a sequence of things, they’re not the same. A list can have different types of items (like numbers, strings, etc.), but a string only holds characters.\n",
        "\n",
        "Also, strings are immutable, which means once you create a string, you can’t change a part of it. But lists are mutable, so you can change, add, or remove items from a list anytime."
      ],
      "metadata": {
        "id": "Bd0x0iRnQMAL"
      }
    },
    {
      "cell_type": "markdown",
      "source": [
        "#**Q7)How do tuples ensure data integrity in Python**\n",
        "A7)Tuples help in data integrity because they are immutable, which means once a tuple is created, its values can’t be changed. This makes sure that the data stays the same throughout the program and doesn’t get accidentally modified somewhere.\n",
        "\n",
        "So, if there’s some information in your code that should stay fixed and protected, using a tuple is a safe choice. For example, if you’re storing fixed coordinates, dates, or settings that shouldn’t change, tuples make sure no one messes with them by mistake.\n",
        "\n",
        "Basically, tuples act like a lock on the data — what you put in stays the same. That’s how they help in keeping your data safe and consistent"
      ],
      "metadata": {
        "id": "i3nvF7i0QyWo"
      }
    },
    {
      "cell_type": "markdown",
      "source": [
        "#**Q8)What is a hash table, and how does it relate to dictionaries in Python**\n",
        "A8)A hash table is a type of data structure that stores data in key-value pairs, and it uses something called a hash function to decide where each key-value pair should go in memory. This helps in finding values really fast just by using the key.\n",
        "\n",
        "In Python, the dictionary (dict) is actually built using this hash table concept. When you create a dictionary and give it some key-value pairs, Python uses hashing behind the scenes to store and access the data quickly.\n",
        "\n",
        "So when you do something like my_dict[\"name\"], Python doesn’t search everything one by one. Instead, it directly jumps to the value using the hash of the key. That’s why dictionaries are super fast for lookups."
      ],
      "metadata": {
        "id": "dQKLVEz2RPc6"
      }
    },
    {
      "cell_type": "markdown",
      "source": [
        "#**Q9)Can lists contain different data types in Python**\n",
        "A9)Yes, lists in Python can store different data types together. That means you can have numbers, strings, booleans, even other lists all inside the same list.\n",
        "\n",
        "This is one of the reasons why lists are super flexible in Python. You’re not limited to just one type — you can mix anything. For example, you can have a list like: a number, a word, and even True — all in one place."
      ],
      "metadata": {
        "id": "trEfphSVRbjs"
      }
    },
    {
      "cell_type": "markdown",
      "source": [
        "#**Q10) Explain why strings are immutable in Python**\n",
        "A10)In Python, strings are immutable, which means once a string is created, it can’t be changed. You can’t change a single character or part of the string directly — you’d have to create a new string if you want to modify it.\n",
        "\n",
        "The reason for this is mostly about safety and performance. Since strings are used a lot in programs, making them immutable helps Python run faster and avoid unexpected bugs. If strings could be changed anytime, it could mess up other parts of the code that are using the same string."
      ],
      "metadata": {
        "id": "NMv74XyMR1kr"
      }
    },
    {
      "cell_type": "markdown",
      "source": [
        "#**Q11) What advantages do dictionaries offer over lists for certain tasks**\n",
        "Q11)Dictionaries are better than lists for some tasks because they let you store and access data using keys, not just index numbers. This means if you have a lot of data and want to find something quickly using a name, ID, or label, a dictionary is much faster and easier to use.\n",
        "\n",
        "For example, if you have student records, using a dictionary with names or roll numbers as keys is more practical than a list where you’d have to search through each item one by one."
      ],
      "metadata": {
        "id": "TyNDV5HwR__I"
      }
    },
    {
      "cell_type": "markdown",
      "source": [
        "#**Q12)Describe a scenario where using a tuple would be preferable over a list?**\n",
        "A12)A tuple is better than a list when you have some data that shouldn’t change. Like, imagine you’re storing the coordinates of a location, such as latitude and longitude. Once that location is saved, there’s no reason to change it — it should stay fixed. In that case, using a tuple makes more sense.\n",
        "\n",
        "Also, tuples are a bit faster and take less memory, so if you have a lot of fixed data (like days of the week or months), it’s better to use tuples instead of lists."
      ],
      "metadata": {
        "id": "bLMjgmAOTtGW"
      }
    },
    {
      "cell_type": "markdown",
      "source": [
        "#**Q13)How do sets handle duplicate values in Python?**\n",
        "A13)In Python, sets don’t allow duplicate values. If you try to add the same value more than once, the set will just keep one copy and automatically ignore the rest.\n",
        "\n",
        "So basically, a set always stores unique items only, no matter how many times you repeat something. This is super useful when you want to clean up data and remove duplicates without doing extra work.\n",
        "\n",
        "For example, if you had a list with repeated numbers and turned it into a set, all the duplicates would be gone — just like that."
      ],
      "metadata": {
        "id": "VhON5tqmJLtj"
      }
    },
    {
      "cell_type": "markdown",
      "source": [
        "#**Q14)How does the “in” keyword work differently for lists and dictionaries?**\n",
        "A14)The “in” keyword is used to check if something exists inside a list or a dictionary, but it works a bit differently for both.\n",
        "\n",
        "In a list, “in” checks whether the value is present or not. So if you write something like 5 in my_list, it will look through the list to see if 5 is there.\n",
        "\n",
        "In a dictionary, “in” only checks the keys, not the values. So if you write \"name\" in my_dict, it will check if \"name\" is one of the keys, not whether it’s a value inside."
      ],
      "metadata": {
        "id": "06PG9NYSJp3T"
      }
    },
    {
      "cell_type": "markdown",
      "source": [
        "#**Q15)Can you modify the elements of a tuple? Explain why or why not?**\n",
        "A15)No, you can’t modify the elements of a tuple in Python. The reason is that tuples are immutable, which means once you create a tuple, you can’t change, add, or remove anything from it.\n",
        "\n",
        "This is done on purpose — so that the data inside stays safe and fixed. It helps avoid mistakes where something changes by accident. So if you need data that should stay the same throughout your program, using a tuple is a good idea."
      ],
      "metadata": {
        "id": "bsUzDTqwJ4MX"
      }
    },
    {
      "cell_type": "markdown",
      "source": [
        "#**Q16) What is a nested dictionary, and give an example of its use case?**\n",
        "A16)A nested dictionary is just a dictionary inside another dictionary. It’s used when you want to store more detailed or layered information — like data within data.\n",
        "\n",
        "Think of it like this: if you’re storing info of multiple students, and for each student you want to save their name, age, and marks — you can use a dictionary where each key is a student ID, and the value is another dictionary with that student’s details.\n",
        "\n",
        "It helps to keep things organized and grouped together properly, especially when handling structured data."
      ],
      "metadata": {
        "id": "GDgZQOF6KJZ7"
      }
    },
    {
      "cell_type": "markdown",
      "source": [
        "#**Q17)Describe the time complexity of accessing elements in a dictionary.**\n",
        "A17)In Python, accessing elements in a dictionary is usually very fast. The time complexity for this is O(1), which means it takes constant time — no matter how big the dictionary is.\n",
        "\n",
        "This speed is possible because dictionaries use something called a hash table in the background. So when you try to get a value using a key, Python doesn’t search through everything — it jumps directly to the right place using the key’s hash.\n",
        "\n",
        "But in rare cases, like if there are a lot of key collisions (same hash values), it might slow down a bit. Even then, it’s still much faster than searching through a list."
      ],
      "metadata": {
        "id": "Fs5bdbovKW4_"
      }
    },
    {
      "cell_type": "markdown",
      "source": [
        "#**Q18)In what situations are lists preferred over dictionaries?**\n",
        "A18)Lists are better than dictionaries when you just need to store a bunch of items in a specific order, and you don’t need to label them with keys.\n",
        "\n",
        "For example, if you’re working with a list of names, numbers, or tasks that you just want to go through one by one, a list is perfect. You can easily loop through it, sort it, or add/remove items without worrying about keys."
      ],
      "metadata": {
        "id": "M-T6Jb2gKr02"
      }
    },
    {
      "cell_type": "markdown",
      "source": [
        "#**Q19)Why are dictionaries considered unordered, and how does that affect data retrieva?**\n",
        "A19)Dictionaries in Python are called unordered because they don’t store items in the order you add them — at least not before Python 3.7. Even though in newer versions they seem to keep the order, technically, we still treat them as unordered because the main focus is on keys, not the order.\n",
        "\n",
        "But the cool thing is, even if the items are not stored in a fixed sequence, it doesn’t affect data retrieval. That’s because when you look something up in a dictionary, Python uses the key, not the position. So it directly jumps to the value using the key — no matter where it is placed."
      ],
      "metadata": {
        "id": "xbWAShOLK6Rt"
      }
    },
    {
      "cell_type": "markdown",
      "source": [
        "#**Q20)Explain the difference between a list and a dictionary in terms of data retrieval.**\n",
        "A20)The main difference between a list and a dictionary in data retrieval is how you access the data.\n",
        "\n",
        "In a list, you get items using their position — like first item, second item, and so on. So if you want something, you need to know its index number. This can be slow if you’re searching for a specific value without knowing where it is.\n",
        "\n",
        "But in a dictionary, you access data using a key, not position. This makes it much faster, especially when dealing with large data. You just ask for the value by its key, and Python jumps straight to it — no searching through everything."
      ],
      "metadata": {
        "id": "NVzCp6hJLv-W"
      }
    },
    {
      "cell_type": "markdown",
      "source": [
        "#**Practical Questions**"
      ],
      "metadata": {
        "id": "8NumvqqiMMkE"
      }
    },
    {
      "cell_type": "markdown",
      "source": [
        "#**Q1)Write a code to create a string with your name and print it.**"
      ],
      "metadata": {
        "id": "jjGYuDJoMSW9"
      }
    },
    {
      "cell_type": "code",
      "execution_count": 1,
      "metadata": {
        "id": "QPnuDme_Mrw1",
        "colab": {
          "base_uri": "https://localhost:8080/"
        },
        "outputId": "6d1433f3-8d8b-4ec7-a836-0806e6b304bf"
      },
      "outputs": [
        {
          "output_type": "stream",
          "name": "stdout",
          "text": [
            "waiz\n"
          ]
        },
        {
          "output_type": "execute_result",
          "data": {
            "text/plain": [
              "str"
            ]
          },
          "metadata": {},
          "execution_count": 1
        }
      ],
      "source": [
        "#A1)\n",
        "\n",
        "name = 'waiz'\n",
        "print(name)\n",
        "\n",
        "type('name')"
      ]
    },
    {
      "cell_type": "markdown",
      "source": [
        "#**Q2)Write a code to find the length of the string \"Hello World\"**"
      ],
      "metadata": {
        "id": "De6lYZmrMwDB"
      }
    },
    {
      "cell_type": "code",
      "source": [
        "#A2)\n",
        "\n",
        "string = 'hello world'\n",
        "len(string)"
      ],
      "metadata": {
        "colab": {
          "base_uri": "https://localhost:8080/"
        },
        "id": "NKetXlZuMpif",
        "outputId": "499f1484-2725-4b79-abcd-34812e3f2ed7"
      },
      "execution_count": 1,
      "outputs": [
        {
          "output_type": "execute_result",
          "data": {
            "text/plain": [
              "11"
            ]
          },
          "metadata": {},
          "execution_count": 1
        }
      ]
    },
    {
      "cell_type": "markdown",
      "source": [
        "#**Q3)Write a code to slice the first 3 characters from the string \"Python Programming\"**"
      ],
      "metadata": {
        "id": "sIKDVGvrLPd_"
      }
    },
    {
      "cell_type": "code",
      "source": [
        "#A3)\n",
        "\n",
        "text = \"Python Programming\"\n",
        "first_three = text[:3]\n",
        "print(first_three)\n"
      ],
      "metadata": {
        "colab": {
          "base_uri": "https://localhost:8080/"
        },
        "id": "TXyuwEPRLBhf",
        "outputId": "61bb54cb-61e6-4125-cce9-381246038406"
      },
      "execution_count": 2,
      "outputs": [
        {
          "output_type": "stream",
          "name": "stdout",
          "text": [
            "Pyt\n"
          ]
        }
      ]
    },
    {
      "cell_type": "markdown",
      "source": [
        "#**Q4)Write a code to convert the string \"hello\" to uppercase**"
      ],
      "metadata": {
        "id": "gMZEcOaQLrFU"
      }
    },
    {
      "cell_type": "code",
      "source": [
        "#A4)\n",
        "\n",
        "text = \"hello\"\n",
        "upper_text = text.upper()\n",
        "print(upper_text)\n"
      ],
      "metadata": {
        "colab": {
          "base_uri": "https://localhost:8080/"
        },
        "id": "6eF4JaUHLpJK",
        "outputId": "873df0ae-ea47-40ec-d6da-127efc534213"
      },
      "execution_count": 6,
      "outputs": [
        {
          "output_type": "stream",
          "name": "stdout",
          "text": [
            "HELLO\n"
          ]
        }
      ]
    },
    {
      "cell_type": "markdown",
      "source": [
        "#**Q5)Write a code to replace the word \"apple\" with \"orange\" in the string \"I like apple\".**"
      ],
      "metadata": {
        "id": "q2sYwJmeMa1N"
      }
    },
    {
      "cell_type": "code",
      "source": [
        "from os import replace\n",
        "#A5)\n",
        "\n",
        "str = ('i like apple')\n",
        "replace = str.replace('apple', 'orange')\n",
        "print(replace)"
      ],
      "metadata": {
        "colab": {
          "base_uri": "https://localhost:8080/"
        },
        "id": "fHghzjOnN8l8",
        "outputId": "ebfba33d-310b-4b92-f816-44716b2571a6"
      },
      "execution_count": 7,
      "outputs": [
        {
          "output_type": "stream",
          "name": "stdout",
          "text": [
            "i like orange\n"
          ]
        }
      ]
    },
    {
      "cell_type": "markdown",
      "source": [
        "#**Q6)Write a code to create a list with numbers 1 to 5 and print it.**"
      ],
      "metadata": {
        "id": "VGV8IvJ7OWI_"
      }
    },
    {
      "cell_type": "code",
      "source": [
        "#A6)\n",
        "\n",
        "numbers = [1,2,3,4,5]\n",
        "print(numbers)"
      ],
      "metadata": {
        "colab": {
          "base_uri": "https://localhost:8080/"
        },
        "id": "LJn4KVdIMHIf",
        "outputId": "b58b415d-ad5a-4935-842b-2a6afc8e05b3"
      },
      "execution_count": 11,
      "outputs": [
        {
          "output_type": "stream",
          "name": "stdout",
          "text": [
            "[1, 2, 3, 4, 5]\n"
          ]
        }
      ]
    },
    {
      "cell_type": "markdown",
      "source": [
        "#**Q7)Write a code to append the number 10 to the list [1, 2, 3, 4]**"
      ],
      "metadata": {
        "id": "yTxfDuStPW6K"
      }
    },
    {
      "cell_type": "code",
      "source": [
        "#A7)\n",
        "\n",
        "list = [1,2,3,4]\n",
        "list.append(10)\n",
        "print(list)"
      ],
      "metadata": {
        "colab": {
          "base_uri": "https://localhost:8080/"
        },
        "id": "bwZ0VbxtPWCV",
        "outputId": "0d9deeff-4a50-4b81-be96-021f7d03aa09"
      },
      "execution_count": 12,
      "outputs": [
        {
          "output_type": "stream",
          "name": "stdout",
          "text": [
            "[1, 2, 3, 4, 10]\n"
          ]
        }
      ]
    },
    {
      "cell_type": "markdown",
      "source": [
        "#**Q8)Write a code to remove the number 3 from the list [1, 2, 3, 4, 5]**"
      ],
      "metadata": {
        "id": "MuhmLpqOQUzD"
      }
    },
    {
      "cell_type": "code",
      "source": [
        "#A8)\n",
        "\n",
        "list = [1,2,3,4,5]\n",
        "remove = list.remove(3)\n",
        "print(remove)\n"
      ],
      "metadata": {
        "colab": {
          "base_uri": "https://localhost:8080/"
        },
        "id": "FsPYLqDiO-_s",
        "outputId": "ab47d708-1014-4d0f-a537-e16c7273a5eb"
      },
      "execution_count": 13,
      "outputs": [
        {
          "output_type": "stream",
          "name": "stdout",
          "text": [
            "None\n"
          ]
        }
      ]
    },
    {
      "cell_type": "markdown",
      "source": [
        "#**Q9)Write a code to access the second element in the list ['a', 'b', 'c', 'd'].**"
      ],
      "metadata": {
        "id": "ad8g8Kud1F7T"
      }
    },
    {
      "cell_type": "code",
      "source": [
        "#A9)\n",
        "\n",
        "letter = ['a', 'b', 'c', 'd']\n",
        "second_element = letter[1]\n",
        "print(second_element)"
      ],
      "metadata": {
        "colab": {
          "base_uri": "https://localhost:8080/"
        },
        "id": "DlVeT3yCQ-tM",
        "outputId": "b88cdf58-0d2c-4af4-9021-707dbeaf4701"
      },
      "execution_count": 5,
      "outputs": [
        {
          "output_type": "stream",
          "name": "stdout",
          "text": [
            "b\n"
          ]
        }
      ]
    },
    {
      "cell_type": "markdown",
      "source": [
        "#**Q10)Write a code to reverse the list [10, 20, 30, 40, 50].**"
      ],
      "metadata": {
        "id": "4H1l_ZlL2A3a"
      }
    },
    {
      "cell_type": "code",
      "source": [
        "#A10)\n",
        "\n",
        "list = [10,20,30,40,50]\n",
        "list.reverse()\n",
        "print(list)"
      ],
      "metadata": {
        "colab": {
          "base_uri": "https://localhost:8080/"
        },
        "id": "uy8yqqxq2O6W",
        "outputId": "ec079cb1-1960-4e1b-ed86-3623510f8521"
      },
      "execution_count": 6,
      "outputs": [
        {
          "output_type": "stream",
          "name": "stdout",
          "text": [
            "[50, 40, 30, 20, 10]\n"
          ]
        }
      ]
    },
    {
      "cell_type": "markdown",
      "source": [
        "#**Q11) Write a code to create a tuple with the elements 100, 200, 300 and print it.**"
      ],
      "metadata": {
        "id": "wccrY82-2dHK"
      }
    },
    {
      "cell_type": "code",
      "source": [
        "#A11)\n",
        "\n",
        "tuple = (100,200,300)\n",
        "print(tuple)"
      ],
      "metadata": {
        "colab": {
          "base_uri": "https://localhost:8080/"
        },
        "id": "OLp94DBY11fB",
        "outputId": "895e8a5a-2e85-4d68-94be-a370fbce4990"
      },
      "execution_count": 7,
      "outputs": [
        {
          "output_type": "stream",
          "name": "stdout",
          "text": [
            "(100, 200, 300)\n"
          ]
        }
      ]
    },
    {
      "cell_type": "markdown",
      "source": [
        "#**Q12) Write a code to access the second-to-last element of the tuple ('red', 'green', 'blue', 'yellow').**"
      ],
      "metadata": {
        "id": "KNVT6i0E2xlL"
      }
    },
    {
      "cell_type": "code",
      "source": [
        "#12)\n",
        "\n",
        "tuple = ('red', 'green', 'blue', 'yellow')\n",
        "second_to_last = tuple[-2]\n",
        "print(second_to_last)"
      ],
      "metadata": {
        "colab": {
          "base_uri": "https://localhost:8080/"
        },
        "id": "0TGOl0f82qM7",
        "outputId": "742b7d84-c590-4d91-b5ba-efce689a7d5a"
      },
      "execution_count": 8,
      "outputs": [
        {
          "output_type": "stream",
          "name": "stdout",
          "text": [
            "blue\n"
          ]
        }
      ]
    },
    {
      "cell_type": "markdown",
      "source": [
        "#**Q13)Write a code to find the minimum number in the tuple (10, 20, 5, 15).**"
      ],
      "metadata": {
        "id": "jwxhyym13WYk"
      }
    },
    {
      "cell_type": "code",
      "source": [
        "#A13)\n",
        "\n",
        "tuple = (10,20,5,15)\n",
        "min_number = min(tuple)\n",
        "print(min_number)"
      ],
      "metadata": {
        "colab": {
          "base_uri": "https://localhost:8080/"
        },
        "id": "nhhL2eBN3Oo4",
        "outputId": "0c1c24b8-b83e-4ba1-d0d0-9fd023d3f27d"
      },
      "execution_count": 9,
      "outputs": [
        {
          "output_type": "stream",
          "name": "stdout",
          "text": [
            "5\n"
          ]
        }
      ]
    },
    {
      "cell_type": "markdown",
      "source": [
        "#**Q14)Write a code to find the index of the element \"cat\" in the tuple ('dog', 'cat', 'rabbit').**"
      ],
      "metadata": {
        "id": "mDKWZB7Y3ycX"
      }
    },
    {
      "cell_type": "code",
      "source": [
        "#A14)\n",
        "\n",
        "animal = ('dog', 'cat', 'rabbit')\n",
        "cat_index = animal.index('cat')\n",
        "print(cat_index)"
      ],
      "metadata": {
        "colab": {
          "base_uri": "https://localhost:8080/"
        },
        "id": "LcgqazDA3qPE",
        "outputId": "c390ef46-440b-45e9-e657-146fc98d7aca"
      },
      "execution_count": 16,
      "outputs": [
        {
          "output_type": "stream",
          "name": "stdout",
          "text": [
            "1\n"
          ]
        }
      ]
    },
    {
      "cell_type": "markdown",
      "source": [
        "#**Q15)Write a code to create a tuple containing three different fruits and check if \"kiwi\" is in it.**"
      ],
      "metadata": {
        "id": "yQx0J9mP5G2O"
      }
    },
    {
      "cell_type": "code",
      "source": [
        "#A15\n",
        "\n",
        "basket = ('apple', 'orange', 'banana')\n",
        "if 'kiwi' in basket:\n",
        "  print('print kiwi is in tuple')\n",
        "else:\n",
        "  print('print kiwi is not in tuple')\n"
      ],
      "metadata": {
        "colab": {
          "base_uri": "https://localhost:8080/"
        },
        "id": "FIMbCkof4Pij",
        "outputId": "48ed0b5c-5777-41ef-823b-90a32a0c1af6"
      },
      "execution_count": 17,
      "outputs": [
        {
          "output_type": "stream",
          "name": "stdout",
          "text": [
            "print kiwi is not in tuple\n"
          ]
        }
      ]
    },
    {
      "cell_type": "markdown",
      "source": [
        "#**Q16)Write a code to create a set with the elements 'a', 'b', 'c' and print it.**"
      ],
      "metadata": {
        "id": "GjTQIJw46N84"
      }
    },
    {
      "cell_type": "code",
      "source": [
        "#A16)\n",
        "\n",
        "set = {'a', 'b', 'c'}\n",
        "print(set)"
      ],
      "metadata": {
        "colab": {
          "base_uri": "https://localhost:8080/"
        },
        "id": "n7pzX1yk6Gtj",
        "outputId": "66de74be-ea17-44fb-c5ad-cde48ccbc1f0"
      },
      "execution_count": 18,
      "outputs": [
        {
          "output_type": "stream",
          "name": "stdout",
          "text": [
            "{'b', 'c', 'a'}\n"
          ]
        }
      ]
    },
    {
      "cell_type": "markdown",
      "source": [
        "#**Q17)Write a code to clear all elements from the set {1, 2, 3, 4, 5}.**"
      ],
      "metadata": {
        "id": "6dNrovGz6gkc"
      }
    },
    {
      "cell_type": "code",
      "source": [
        "#A17)\n",
        "\n",
        "set = {1,2,3,4,5}\n",
        "set.clear()\n",
        "print(set)"
      ],
      "metadata": {
        "colab": {
          "base_uri": "https://localhost:8080/"
        },
        "id": "_iuTzxkl6cso",
        "outputId": "a9e9e7d0-b8c2-4595-fa7f-84b6080cf82f"
      },
      "execution_count": 19,
      "outputs": [
        {
          "output_type": "stream",
          "name": "stdout",
          "text": [
            "set()\n"
          ]
        }
      ]
    },
    {
      "cell_type": "markdown",
      "source": [
        "#**Q18) Write a code to remove the element 4 from the set {1, 2, 3, 4}.**"
      ],
      "metadata": {
        "id": "MaqdIVky68Mb"
      }
    },
    {
      "cell_type": "code",
      "source": [
        "#A18)\n",
        "\n",
        "set = {1,2,3,4}\n",
        "set.remove(4)\n",
        "print(set)"
      ],
      "metadata": {
        "colab": {
          "base_uri": "https://localhost:8080/"
        },
        "id": "9si0WXZw63lC",
        "outputId": "07e1d91f-7885-400f-e1bc-6bb9e7d53ffa"
      },
      "execution_count": 20,
      "outputs": [
        {
          "output_type": "stream",
          "name": "stdout",
          "text": [
            "{1, 2, 3}\n"
          ]
        }
      ]
    },
    {
      "cell_type": "markdown",
      "source": [
        "#**Q19) Write a code to find the union of two sets {1, 2, 3} and {3, 4, 5}.**"
      ],
      "metadata": {
        "id": "kkaAW96_7SA5"
      }
    },
    {
      "cell_type": "code",
      "source": [
        "#A19)\n",
        "\n",
        "set1 = {1, 2, 3}\n",
        "set2 = {3, 4, 5}\n",
        "union_set = set1.union(set2)\n",
        "print(union_set)"
      ],
      "metadata": {
        "colab": {
          "base_uri": "https://localhost:8080/"
        },
        "id": "gwKXE8zh7M6O",
        "outputId": "c64c5f39-9c93-43ab-f40b-dedf6f069569"
      },
      "execution_count": 26,
      "outputs": [
        {
          "output_type": "stream",
          "name": "stdout",
          "text": [
            "{1, 2, 3, 4, 5}\n"
          ]
        }
      ]
    },
    {
      "cell_type": "markdown",
      "source": [
        "#**Q20)Write a code to find the intersection of two sets {1, 2, 3} and {2, 3, 4}.**"
      ],
      "metadata": {
        "id": "uJcbdqOo8J7S"
      }
    },
    {
      "cell_type": "code",
      "source": [
        "#A20)\n",
        "\n",
        "set1 = {1,2,3}\n",
        "set2 = {2,3,4}\n",
        "intersection_stet = set1.intersection(set2)\n",
        "print(intersection_stet)"
      ],
      "metadata": {
        "colab": {
          "base_uri": "https://localhost:8080/"
        },
        "id": "ypzVcHZ47nbA",
        "outputId": "e87bbffb-243e-43d2-8169-f6ca7478cef8"
      },
      "execution_count": 27,
      "outputs": [
        {
          "output_type": "stream",
          "name": "stdout",
          "text": [
            "{2, 3}\n"
          ]
        }
      ]
    },
    {
      "cell_type": "markdown",
      "source": [
        "#**Q21)Write a code to create a dictionary with the keys \"name\", \"age\", and \"city\", and print it.**"
      ],
      "metadata": {
        "id": "Rsh5kYg98pjH"
      }
    },
    {
      "cell_type": "code",
      "source": [
        "#A21)\n",
        "\n",
        "person = {'name': 'waiz', 'age': '23', 'city': 'lucknow'}\n",
        "print(person)"
      ],
      "metadata": {
        "colab": {
          "base_uri": "https://localhost:8080/"
        },
        "id": "ffAkDEC-8i2B",
        "outputId": "99cecf67-eedc-49b7-862b-90ca95a8821c"
      },
      "execution_count": 30,
      "outputs": [
        {
          "output_type": "stream",
          "name": "stdout",
          "text": [
            "{'name': 'waiz', 'age': '23', 'city': 'lucknow'}\n"
          ]
        }
      ]
    },
    {
      "cell_type": "markdown",
      "source": [
        "#**Q22)Write a code to add a new key-value pair \"country\": \"USA\" to the dictionary {'name': 'John', 'age': 25}.**"
      ],
      "metadata": {
        "id": "OfqY17jg9PqQ"
      }
    },
    {
      "cell_type": "code",
      "source": [
        "#A22)\n",
        "\n",
        "person = {'name': 'jhone', 'age':25}\n",
        "person['country'] = 'usa'\n",
        "print(person)"
      ],
      "metadata": {
        "colab": {
          "base_uri": "https://localhost:8080/"
        },
        "id": "lJvbf1rq8wlS",
        "outputId": "37e66b1c-a73f-4116-8ffb-fea51e7f86f2"
      },
      "execution_count": 35,
      "outputs": [
        {
          "output_type": "stream",
          "name": "stdout",
          "text": [
            "{'name': 'jhone', 'age': 25, 'country': 'usa'}\n"
          ]
        }
      ]
    },
    {
      "cell_type": "markdown",
      "source": [
        "#**Q23)Write a code to access the value associated with the key \"name\" in the dictionary {'name': 'Alice', 'age': 30}.**"
      ],
      "metadata": {
        "id": "Rpifkq_p-FHx"
      }
    },
    {
      "cell_type": "code",
      "source": [
        "#A23)\n",
        "\n",
        "person = {'name': 'alice', 'age': 30}\n",
        "name_value = person['name']\n",
        "print(name_value)"
      ],
      "metadata": {
        "colab": {
          "base_uri": "https://localhost:8080/"
        },
        "id": "Fn-3qqhL9rA4",
        "outputId": "d6615307-5428-46f5-ecc3-024eb9cad1d9"
      },
      "execution_count": 38,
      "outputs": [
        {
          "output_type": "stream",
          "name": "stdout",
          "text": [
            "alice\n"
          ]
        }
      ]
    },
    {
      "cell_type": "markdown",
      "source": [
        "#**Q24) Write a code to remove the key \"age\" from the dictionary {'name': 'Bob', 'age': 22, 'city': 'New York'}.**"
      ],
      "metadata": {
        "id": "KHNQPit9-xBR"
      }
    },
    {
      "cell_type": "code",
      "source": [
        "#A24)\n",
        "\n",
        "person = {'name': 'Bob', 'age': 22, 'city': 'New York'}\n",
        "person.pop('age')\n",
        "print(person)"
      ],
      "metadata": {
        "colab": {
          "base_uri": "https://localhost:8080/"
        },
        "id": "WJXSJ4a_-iam",
        "outputId": "885c1b68-e64f-441a-de6b-6417efbec490"
      },
      "execution_count": 39,
      "outputs": [
        {
          "output_type": "stream",
          "name": "stdout",
          "text": [
            "{'name': 'Bob', 'city': 'New York'}\n"
          ]
        }
      ]
    },
    {
      "cell_type": "markdown",
      "source": [
        "#**Q25)Write a code to check if the key \"city\" exists in the dictionary {'name': 'Alice', 'city': 'Paris'}.**"
      ],
      "metadata": {
        "id": "-XmmRVa1_NmV"
      }
    },
    {
      "cell_type": "code",
      "source": [
        "#A25)\n",
        "\n",
        "person = {'name': 'Alice', 'city': 'Paris'}\n",
        "if 'city' in person:\n",
        "  print('city is in dic')\n",
        "else:\n",
        "  print('city is not in dic')"
      ],
      "metadata": {
        "colab": {
          "base_uri": "https://localhost:8080/"
        },
        "id": "z4MdrVo3_CVl",
        "outputId": "a6b80d45-81c8-49cc-a602-63cb746e894f"
      },
      "execution_count": 40,
      "outputs": [
        {
          "output_type": "stream",
          "name": "stdout",
          "text": [
            "city is in dic\n"
          ]
        }
      ]
    },
    {
      "cell_type": "markdown",
      "source": [
        "#**Q26) Write a code to create a list, a tuple, and a dictionary, and print them all.**"
      ],
      "metadata": {
        "id": "r8Qd8R1g_tgC"
      }
    },
    {
      "cell_type": "code",
      "source": [
        "#A26)\n",
        "\n",
        "list = [1,2,3,4,5]\n",
        "print(list)\n",
        "\n",
        "tuple = (1,2,3,4,5)\n",
        "print(tuple)\n",
        "\n",
        "person = {'name': 'waiz', 'age': 23, 'city': 'lucknow'}\n",
        "print(person)"
      ],
      "metadata": {
        "colab": {
          "base_uri": "https://localhost:8080/"
        },
        "id": "SSVYonvD_j1Y",
        "outputId": "adc6363a-2b7e-4389-b54f-764f5626e710"
      },
      "execution_count": 42,
      "outputs": [
        {
          "output_type": "stream",
          "name": "stdout",
          "text": [
            "[1, 2, 3, 4, 5]\n",
            "(1, 2, 3, 4, 5)\n",
            "{'name': 'waiz', 'age': 23, 'city': 'lucknow'}\n"
          ]
        }
      ]
    },
    {
      "cell_type": "markdown",
      "source": [
        "#**Q27) Write a code to create a list of 5 random numbers between 1 and 100, sort it in ascending order, and print the result.(replaced)**\n",
        "\n",
        "\n"
      ],
      "metadata": {
        "id": "EtMXKS6YAgGS"
      }
    },
    {
      "cell_type": "code",
      "source": [
        "#A27)\n",
        "\n",
        "import random\n",
        "\n",
        "# Create a list of 5 random numbers between 1 and 100\n",
        "numbers = random.sample(range(1, 101), 5)\n",
        "\n",
        "# Sort the list in ascending order\n",
        "numbers.sort()\n",
        "\n",
        "# Print the sorted list\n",
        "print(\"Sorted list:\", numbers)"
      ],
      "metadata": {
        "colab": {
          "base_uri": "https://localhost:8080/"
        },
        "id": "A6IDIZVEAR7A",
        "outputId": "729edb5d-c368-4f0a-d051-5615e8cb684b"
      },
      "execution_count": 44,
      "outputs": [
        {
          "output_type": "stream",
          "name": "stdout",
          "text": [
            "Sorted list: [5, 6, 15, 25, 69]\n"
          ]
        }
      ]
    },
    {
      "cell_type": "markdown",
      "source": [
        "#**Q28)Write a code to create a list with strings and print the element at the third index.**"
      ],
      "metadata": {
        "id": "xCKJvybWCgiG"
      }
    },
    {
      "cell_type": "code",
      "source": [
        "#A28)\n",
        "\n",
        "\n",
        "fruits = ['apple', 'banana', 'cherry', 'mango', 'orange']\n",
        "\n",
        "\n",
        "print(\"Element at index 3:\", fruits[3])\n"
      ],
      "metadata": {
        "colab": {
          "base_uri": "https://localhost:8080/"
        },
        "id": "PMiXb-9KCNtG",
        "outputId": "03babb65-c30b-4758-87e0-25e11545c048"
      },
      "execution_count": 45,
      "outputs": [
        {
          "output_type": "stream",
          "name": "stdout",
          "text": [
            "Element at index 3: mango\n"
          ]
        }
      ]
    },
    {
      "cell_type": "markdown",
      "source": [
        "#**Q29) Write a code to combine two dictionaries into one and print the result.**"
      ],
      "metadata": {
        "id": "yj-lDnEsDMva"
      }
    },
    {
      "cell_type": "code",
      "source": [
        "#A29)\n",
        "\n",
        "\n",
        "dict1 = {'name': 'waiz', 'age': 23}\n",
        "dict2 = {'city': 'Lucknow', 'country': 'India'}\n",
        "\n",
        "\n",
        "combined_dict = {**dict1, **dict2}\n",
        "\n",
        "\n",
        "print(\"Combined Dictionary:\", combined_dict)\n"
      ],
      "metadata": {
        "colab": {
          "base_uri": "https://localhost:8080/"
        },
        "id": "L4Xj5Mc8DJsW",
        "outputId": "10ad756c-efa4-4d2c-df97-b994dc69a1ef"
      },
      "execution_count": 47,
      "outputs": [
        {
          "output_type": "stream",
          "name": "stdout",
          "text": [
            "Combined Dictionary: {'name': 'waiz', 'age': 23, 'city': 'Lucknow', 'country': 'India'}\n"
          ]
        }
      ]
    },
    {
      "cell_type": "markdown",
      "source": [
        "#**Q30)Write a code to convert a list of strings into a set.**"
      ],
      "metadata": {
        "id": "Wr66Zo3KDvcD"
      }
    },
    {
      "cell_type": "code",
      "source": [
        "#A30)\n",
        "\n",
        "words = ['apple', 'banana', 'apple', 'cherry', 'banana']\n",
        "unique_words = (words)\n",
        "print(\"Set:\", unique_words)"
      ],
      "metadata": {
        "colab": {
          "base_uri": "https://localhost:8080/"
        },
        "id": "TBg7lD_EET-a",
        "outputId": "f16165de-d98e-46db-bfec-b08642877ae9"
      },
      "execution_count": 70,
      "outputs": [
        {
          "output_type": "stream",
          "name": "stdout",
          "text": [
            "Set: ['apple', 'banana', 'apple', 'cherry', 'banana']\n"
          ]
        }
      ]
    },
    {
      "cell_type": "code",
      "source": [],
      "metadata": {
        "id": "IWtClu2JGs7Z"
      },
      "execution_count": null,
      "outputs": []
    }
  ]
}