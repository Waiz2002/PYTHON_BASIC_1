{
  "nbformat": 4,
  "nbformat_minor": 0,
  "metadata": {
    "colab": {
      "provenance": []
    },
    "kernelspec": {
      "name": "python3",
      "display_name": "Python 3"
    },
    "language_info": {
      "name": "python"
    }
  },
  "cells": [
    {
      "cell_type": "markdown",
      "source": [
        "Theory Questions"
      ],
      "metadata": {
        "id": "ui8SFJiZQUXL"
      }
    },
    {
      "cell_type": "markdown",
      "source": [
        "#**Q1)What is NumPy, and why is it widely used in Python?**\n",
        "A1)NumPy is a Python library mainly used for numerical computing. It provides fast arrays and mathematical functions which are much more efficient than normal Python lists.\n",
        "\n",
        "It is widely used because:\n",
        "\n",
        "1.It makes working with arrays and matrices very easy.\n",
        "\n",
        "2.It is very helpful in scientific computing, data analysis, and machine learning.\n",
        "\n",
        "3.Many other Python libraries like Pandas, TensorFlow, and Scikit-learn are built on top of NumPy.\n"
      ],
      "metadata": {
        "id": "cJAGzhV4UrOj"
      }
    },
    {
      "cell_type": "markdown",
      "source": [
        "#**Q2)How does broadcasting work in NumPy?**\n",
        "A2)Broadcasting in NumPy means applying operations on arrays of different shapes by automatically stretching the smaller array.\n",
        "\n",
        "For example, if you add a scalar (like 5) to a whole array, NumPy doesn’t need you to loop; it just “broadcasts” the scalar to every element. Similarly, if you add a 1-D array to a 2-D array, NumPy expands the smaller one along the dimension so the shapes match for the operation.\n",
        "\n",
        "In short, broadcasting saves time and code by letting arrays of different sizes work together without manual repetition."
      ],
      "metadata": {
        "id": "Fio1K4GxVpYp"
      }
    },
    {
      "cell_type": "markdown",
      "source": [
        "#**Q3)What is a Pandas DataFrame?**\n",
        "A3)A Pandas DataFrame is a two-dimensional data structure in Python that looks like a table with rows and columns. It is built on top of NumPy and is one of the most powerful features of the Pandas library.\n",
        "\n",
        "It is widely used because:\n",
        "\n",
        "It can store different types of data (numbers, text, etc.) in the same table.\n",
        "\n",
        "It provides easy functions to filter, sort, group, and analyze data.\n",
        "\n",
        "It is very popular in data analysis, machine learning, and business analytics."
      ],
      "metadata": {
        "id": "bhYrcxA1V-ST"
      }
    },
    {
      "cell_type": "markdown",
      "source": [
        "#**Q4)Explain the use of the groupby() method in Pandas.**\n",
        "A4)The groupby() method in Pandas is used to split data into groups based on some column values, and then perform operations on each group separately.\n",
        "\n",
        "For example, you can group sales data by “region” and then calculate the average sales in each region. It is mainly used for aggregation (sum, mean, count, etc.), filtering, and data analysis.\n",
        "\n",
        "In simple words, groupby() helps organize large datasets and find insights by grouping similar data together."
      ],
      "metadata": {
        "id": "7LEBYhToWMWJ"
      }
    },
    {
      "cell_type": "markdown",
      "source": [
        "#**Q5)Why is Seaborn preferred for statistical visualizations?**\n",
        "A5)Seaborn is preferred for statistical visualizations because it makes complex plots simple and visually attractive. It is built on top of Matplotlib but provides higher-level functions, so you can create graphs like heatmaps, pair plots, or regression plots with very little code.\n",
        "\n",
        "It is widely used because:\n",
        "\n",
        "It has beautiful default styles and color palettes.\n",
        "\n",
        "It can directly work with Pandas DataFrames.\n",
        "\n",
        "It is especially good for showing statistical relationships and patterns in data."
      ],
      "metadata": {
        "id": "jcl6Kl4iWb-n"
      }
    },
    {
      "cell_type": "markdown",
      "source": [
        "#**Q6)What are the differences between NumPy arrays and Python lists?**\n",
        "A6)Differences between NumPy arrays and Python lists:\n",
        "\n",
        "Storage – NumPy arrays store data in a continuous block (faster), while lists store elements in scattered memory.\n",
        "\n",
        "Data type – Arrays hold only one data type; lists can hold mixed data types.\n",
        "\n",
        "Performance – Arrays are faster and better for numerical operations; lists are slower.\n",
        "\n",
        "Functions – NumPy provides many mathematical operations directly; lists need loops."
      ],
      "metadata": {
        "id": "ryMgc_2gWsh3"
      }
    },
    {
      "cell_type": "markdown",
      "source": [
        "#**Q7)What is a heatmap, and when should it be used?**\n",
        "A7)A heatmap is a data visualization that shows values using colors in a matrix form. Darker or lighter shades represent higher or lower values.\n",
        "\n",
        "It should be used when you want to easily compare data, find patterns, correlations, or highlight high/low values in a dataset (like sales by region, correlation between variables, etc.).\n",
        "\n",
        "In short: Heatmap is best for spotting trends and relationships in large data tables."
      ],
      "metadata": {
        "id": "gNKozC9jXA3e"
      }
    },
    {
      "cell_type": "markdown",
      "source": [
        "#**Q8)What does the term “vectorized operation” mean in NumPy?**\n",
        "A8)In NumPy, a “vectorized operation” means applying an operation on the whole array at once without using loops. NumPy handles the calculation internally in C, which makes it very fast.\n",
        "\n",
        "For example, adding two arrays directly (a + b) is a vectorized operation instead of adding elements one by one."
      ],
      "metadata": {
        "id": "MCNkHNQZXa0C"
      }
    },
    {
      "cell_type": "markdown",
      "source": [
        "#**Q9)How does Matplotlib differ from Plotly?**\n",
        "A9)Matplotlib is a basic plotting library in Python used for static 2D graphs, while Plotly is more advanced and mainly used for interactive, dynamic, and web-based visualizations.\n",
        "\n",
        "Matplotlib → simple, static plots (line, bar, scatter, etc.), good for research and quick visuals.\n",
        "\n",
        "Plotly → interactive charts (zoom, hover info, 3D plots), good for dashboards and presentations."
      ],
      "metadata": {
        "id": "M6KfM0RrXyPN"
      }
    },
    {
      "cell_type": "markdown",
      "source": [
        "#**Q10)What is the significance of hierarchical indexing in Pandas?**\n",
        "A10)Hierarchical indexing in Pandas means having multiple levels of index (row or column labels). It allows you to organize data in a multi-dimensional way inside a single DataFrame.\n",
        "\n",
        "Significance:\n",
        "\n",
        "Makes it easier to work with higher-dimensional data (like 2D → 3D).\n",
        "\n",
        "Helps in grouping and subsetting data more efficiently.\n",
        "\n",
        "Useful for representing complex datasets (e.g., sales data by region and year together)."
      ],
      "metadata": {
        "id": "Tmr53Y50YZIF"
      }
    },
    {
      "cell_type": "markdown",
      "source": [
        "#**Q11)What is the role of Seaborn’s pairplot() function?**\n",
        "A11)The pairplot() function in Seaborn is used to plot pairwise relationships between multiple variables in a dataset. It creates a grid of scatterplots for numerical columns and histograms/ KDE plots on the diagonals.\n",
        "\n",
        "Role:\n",
        "\n",
        "Helps visualize correlations and patterns between variables.\n",
        "\n",
        "Useful for exploring datasets before analysis or modeling."
      ],
      "metadata": {
        "id": "FKgqeWDVYqYY"
      }
    },
    {
      "cell_type": "markdown",
      "source": [
        "#**Q12)What is the purpose of the describe() function in Pandas?**\n",
        "A12)function in Pandas is used to generate summary statistics of a DataFrame or Series. It gives details like count, mean, min, max, standard deviation, and percentiles.\n",
        "\n",
        "Purpose:\n",
        "\n",
        "Quickly understand the distribution of data.\n",
        "\n",
        "Detect outliers or unusual values.\n",
        "\n",
        "Helpful in exploratory data analysis."
      ],
      "metadata": {
        "id": "hbdMW9t2-Ach"
      }
    },
    {
      "cell_type": "markdown",
      "source": [
        "#**Q13)Why is handling missing data important in Pandas?**\n",
        "A13)Handling missing data in Pandas is important because incomplete data can lead to wrong analysis, errors in calculations, or misleading results because of Ensures accuracy and reliability of data analysis and any machine learning models cannot handle NaN values directly and it helps maintain consistency and quality of datasets."
      ],
      "metadata": {
        "id": "_pRwpPhU-PJJ"
      }
    },
    {
      "cell_type": "markdown",
      "source": [
        "#**Q14)What are the benefits of using Plotly for data visualization?**\n",
        "A14)Plotly is a powerful library for creating interactive and visually appealing data visualizations.\n",
        "\n",
        "Benefits:\n",
        "\n",
        "Creates interactive charts (zoom, hover, filter).\n",
        "\n",
        "Supports 2D, 3D, and even map-based visualizations.\n",
        "\n",
        "Works well for dashboards and presentations.\n",
        "\n",
        "Easy integration with Pandas and web apps."
      ],
      "metadata": {
        "id": "5NBacq2s_Zq6"
      }
    },
    {
      "cell_type": "markdown",
      "source": [
        "#**Q15)How does NumPy handle multidimensional arrays?**\n",
        "A15)NumPy handles multidimensional arrays using its ndarray object, which can store data in any number of dimensions (1D, 2D, 3D, etc.). Operations like slicing, reshaping, broadcasting, and mathematical functions work efficiently across all dimensions."
      ],
      "metadata": {
        "id": "uepjrk2x_rwZ"
      }
    },
    {
      "cell_type": "markdown",
      "source": [
        "#**Q16)What is the role of Bokeh in data visualization?**\n",
        "A16)NumPy handles multidimensional arrays using its ndarray object, which can store data in any number of dimensions (1D, 2D, 3D, etc.). Operations like slicing, reshaping, broadcasting, and mathematical functions work efficiently across all dimensions."
      ],
      "metadata": {
        "id": "ucy_CKpf_53Q"
      }
    },
    {
      "cell_type": "markdown",
      "source": [
        "#**Q17)Explain the difference between apply() and map() in Pandas.**\n",
        "A17)Difference between apply() and map() in Pandas:\n",
        "\n",
        "map() → Works only on a Pandas Series (single column). It applies a function element-wise.\n",
        "Example: df[\"col\"].map(lambda x: x*2)\n",
        "\n",
        "apply() → Works on both DataFrame and Series. On a Series, it behaves like map(), but on a DataFrame, it can apply functions row-wise or column-wise.\n",
        "Example: df.apply(sum, axis=1)"
      ],
      "metadata": {
        "id": "VFIDxsnkAEby"
      }
    },
    {
      "cell_type": "markdown",
      "source": [
        "#**Q18)What are some advanced features of NumPy?**\n",
        "A18)\n",
        "\n",
        "1.Broadcasting – Perform operations on arrays of different shapes without loops.\n",
        "\n",
        "2.Vectorization – Fast element-wise operations without explicit iteration.\n",
        "\n",
        "3.Multidimensional arrays (ndarray) – Efficient handling of 1D, 2D, and higher dimensions.\n",
        "\n",
        "4.Linear algebra & Fourier transforms – Functions for matrix operations, eigenvalues, FFT, etc.\n",
        "\n",
        "5.Random module – Generate random numbers and distributions for simulations.\n",
        "\n",
        "6.Integration with other libraries – Backbone for Pandas, SciPy, TensorFlow, etc."
      ],
      "metadata": {
        "id": "QhM6PH2XAZzY"
      }
    },
    {
      "cell_type": "markdown",
      "source": [
        "#**Q19)How does Pandas simplify time series analysis?**\n",
        "A19)Pandas simplifies time series analysis by providing special date and time functionality. It allows easy conversion of strings to datetime objects, indexing data by dates, and resampling data (daily, monthly, yearly).\n",
        "\n",
        "Key features:\n",
        "\n",
        "DatetimeIndex for handling time-based indexing.\n",
        "\n",
        "Easy shifting, rolling, and resampling of time series.\n",
        "\n",
        "Built-in functions for trends, seasonality, and frequency changes."
      ],
      "metadata": {
        "id": "qkQRijfgA2CU"
      }
    },
    {
      "cell_type": "markdown",
      "source": [
        "#**Q20)What is the role of a pivot table in Pandas?**\n",
        "A20)A pivot table in Pandas is used to summarize and reorganize data in a DataFrame. It helps group data by one or more keys and then apply aggregation functions (like sum, mean, count).\n",
        "\n",
        "Role:\n",
        "\n",
        "Makes large datasets easier to analyze.\n",
        "\n",
        "Helps compare values across categories.\n",
        "\n",
        "Useful for reporting and quick insights (like Excel pivot tables)."
      ],
      "metadata": {
        "id": "pSQ4jgGyA_Up"
      }
    },
    {
      "cell_type": "markdown",
      "source": [
        "#**Q21)Why is NumPy’s array slicing faster than Python’s list slicing?**\n",
        "A21)NumPy’s array slicing is faster than Python’s list slicing because NumPy arrays store data in a continuous memory block, while lists store references to objects scattered in memory.\n",
        "\n",
        "Array slicing only creates a view (no data copy), so it’s very fast.\n",
        "\n",
        "List slicing creates a new list with copied elements, which is slower."
      ],
      "metadata": {
        "id": "uEViEVCNBP13"
      }
    },
    {
      "cell_type": "markdown",
      "source": [
        "#**Q22)What are some common use cases for Seaborn?**\n",
        "A22)\n",
        "\n",
        "1.Statistical visualizations – scatterplots, barplots, boxplots, violin plots.\n",
        "\n",
        "2.Exploring relationships – using functions like pairplot() and jointplot().\n",
        "\n",
        "3.Heatmaps – for correlations or matrix-style data.\n",
        "\n",
        "4.Distribution analysis – histograms, KDE plots, rug plots.\n",
        "\n",
        "5.Better styling – clean, attractive graphs with less code."
      ],
      "metadata": {
        "id": "zqesWji7BgeI"
      }
    },
    {
      "cell_type": "markdown",
      "source": [
        "#**Practical Questions**\n",
        "\n",
        "\n",
        "\n"
      ],
      "metadata": {
        "id": "1l3VrvV1B3IB"
      }
    },
    {
      "cell_type": "markdown",
      "source": [
        "#**Q1)How do you create a 2D NumPy array and calculate the sum of each row?**"
      ],
      "metadata": {
        "id": "YWPtRg_rCe09"
      }
    },
    {
      "cell_type": "code",
      "source": [
        "#A1)\n",
        "\n",
        "import numpy as np\n",
        "\n",
        "\n",
        "arr = np.array([[1, 2, 3],\n",
        "                [4, 5, 6],\n",
        "                [7, 8, 9]])\n",
        "\n",
        "\n",
        "row_sum = arr.sum(axis=1)\n",
        "\n",
        "print(\"2D Array:\\n\", arr)\n",
        "print(\"Row-wise sum:\", row_sum)\n"
      ],
      "metadata": {
        "colab": {
          "base_uri": "https://localhost:8080/"
        },
        "id": "_ZzHSjbKCdsR",
        "outputId": "8adf85dd-47fc-4c18-9b88-0a89f4b1da0d"
      },
      "execution_count": 1,
      "outputs": [
        {
          "output_type": "stream",
          "name": "stdout",
          "text": [
            "2D Array:\n",
            " [[1 2 3]\n",
            " [4 5 6]\n",
            " [7 8 9]]\n",
            "Row-wise sum: [ 6 15 24]\n"
          ]
        }
      ]
    },
    {
      "cell_type": "markdown",
      "source": [
        "#**Q2)Write a Pandas script to find the mean of a specific column in a DataFrame.**\n"
      ],
      "metadata": {
        "id": "3EoytnVNCycP"
      }
    },
    {
      "cell_type": "code",
      "execution_count": 4,
      "metadata": {
        "colab": {
          "base_uri": "https://localhost:8080/"
        },
        "id": "DdsKfQPBQEbK",
        "outputId": "83b7b573-1b61-477b-f4f1-b90b8009ac1b"
      },
      "outputs": [
        {
          "output_type": "stream",
          "name": "stdout",
          "text": [
            "Mean of Marks column: 84.33333333333333\n"
          ]
        }
      ],
      "source": [
        "#A2)\n",
        "\n",
        "import pandas as pd\n",
        "\n",
        "data = {'Name': ['Waiz', 'Ajay', 'Bijay'],\n",
        "        'Marks': [85, 90, 78]}\n",
        "\n",
        "df = pd.DataFrame(data)\n",
        "\n",
        "\n",
        "mean_marks = df['Marks'].mean()\n",
        "\n",
        "print(\"Mean of Marks column:\", mean_marks)"
      ]
    },
    {
      "cell_type": "markdown",
      "source": [
        "#**Q3)Create a scatter plot using Matplotlib.**"
      ],
      "metadata": {
        "id": "dJfZhv3JDQ70"
      }
    },
    {
      "cell_type": "code",
      "source": [
        "#A3)\n",
        "\n",
        "import matplotlib.pyplot as plt\n",
        "\n",
        "\n",
        "x = [5, 7, 8, 7, 6, 9, 5]\n",
        "y = [99, 86, 87, 88, 100, 86, 103]\n",
        "\n",
        "\n",
        "plt.scatter(x, y)\n",
        "\n",
        "\n",
        "plt.xlabel(\"X values\")\n",
        "plt.ylabel(\"Y values\")\n",
        "plt.title(\"Simple Scatter Plot\")\n",
        "\n",
        "plt.show()\n"
      ],
      "metadata": {
        "colab": {
          "base_uri": "https://localhost:8080/",
          "height": 472
        },
        "id": "CemuxjEODBRI",
        "outputId": "ede0e09a-1a2b-4f1f-ced0-5d1528dd9e54"
      },
      "execution_count": 5,
      "outputs": [
        {
          "output_type": "display_data",
          "data": {
            "text/plain": [
              "<Figure size 640x480 with 1 Axes>"
            ],
            "image/png": "[encoded data removed]"
          },
          "metadata": {}
        }
      ]
    },
    {
      "cell_type": "markdown",
      "source": [
        "#**Q4)How do you calculate the correlation matrix using Seaborn and visualize it with a heatmap?**"
      ],
      "metadata": {
        "id": "eD5p98woDxAx"
      }
    },
    {
      "cell_type": "code",
      "source": [
        "#A4)\n",
        "\n",
        "import pandas as pd\n",
        "import seaborn as sns\n",
        "import matplotlib.pyplot as plt\n",
        "\n",
        "\n",
        "data = {'Math': [85, 90, 78, 92],\n",
        "        'Science': [88, 76, 95, 89],\n",
        "        'English': [80, 85, 78, 90]}\n",
        "\n",
        "df = pd.DataFrame(data)\n",
        "\n",
        "\n",
        "corr = df.corr()\n",
        "\n",
        "\n",
        "sns.heatmap(corr, annot=True, cmap=\"coolwarm\")\n",
        "plt.title(\"Correlation Heatmap\")\n",
        "plt.show()\n"
      ],
      "metadata": {
        "colab": {
          "base_uri": "https://localhost:8080/",
          "height": 452
        },
        "id": "RjREg9SBDpRD",
        "outputId": "ede6d1f3-63ad-45d5-a5d0-9906873b7475"
      },
      "execution_count": 6,
      "outputs": [
        {
          "output_type": "display_data",
          "data": {
            "text/plain": [
              "<Figure size 640x480 with 2 Axes>"
            ],
            "image/png": "[encoded data removed]"
          },
          "metadata": {}
        }
      ]
    },
    {
      "cell_type": "markdown",
      "source": [
        "#**Q5)Generate a bar plot using Plotly**"
      ],
      "metadata": {
        "id": "XsjlIMewEEJ1"
      }
    },
    {
      "cell_type": "code",
      "source": [
        "#A5)\n",
        "\n",
        "import plotly.express as px\n",
        "import pandas as pd\n",
        "\n",
        "data = {'Name': ['Waiz', 'Sara', 'Fayez'],\n",
        "        'Marks': [85, 90, 78]}\n",
        "df = pd.DataFrame(data)\n",
        "\n",
        "fig = px.bar(df, x='Name', y='Marks', title=\"Student Marks\")\n",
        "fig.show()\n"
      ],
      "metadata": {
        "colab": {
          "base_uri": "https://localhost:8080/",
          "height": 542
        },
        "id": "yUcC6_bFEBeV",
        "outputId": "7a2ab77a-e742-4598-942d-d2f77aded295"
      },
      "execution_count": 7,
      "outputs": [
        {
          "output_type": "display_data",
          "data": {
            "text/html": [
              "<html>\n",
              "<head><meta charset=\"utf-8\" /></head>\n",
              "<body>\n",
              "    <div>            <script src=\"https://cdnjs.cloudflare.com/ajax/libs/mathjax/2.7.5/MathJax.js?config=TeX-AMS-MML_SVG\"></script><script type=\"text/javascript\">if (window.MathJax && window.MathJax.Hub && window.MathJax.Hub.Config) {window.MathJax.Hub.Config({SVG: {font: \"STIX-Web\"}});}</script>                <script type=\"text/javascript\">window.PlotlyConfig = {MathJaxConfig: 'local'};</script>\n",
              "        <script charset=\"utf-8\" src=\"https://cdn.plot.ly/plotly-2.35.2.min.js\"></script>                <div id=\"191d8df8-ba7a-4f67-b42b-933f400e1aee\" class=\"plotly-graph-div\" style=\"height:525px; width:100%;\"></div>            <script type=\"text/javascript\">                                    window.PLOTLYENV=window.PLOTLYENV || {};                                    if (document.getElementById(\"191d8df8-ba7a-4f67-b42b-933f400e1aee\")) {                    Plotly.newPlot(                        \"191d8df8-ba7a-4f67-b42b-933f400e1aee\",                        [{\"alignmentgroup\":\"True\",\"hovertemplate\":\"Name=%{x}\\u003cbr\\u003eMarks=%{y}\\u003cextra\\u003e\\u003c\\u002fextra\\u003e\",\"legendgroup\":\"\",\"marker\":{\"color\":\"#636efa\",\"pattern\":{\"shape\":\"\"}},\"name\":\"\",\"offsetgroup\":\"\",\"orientation\":\"v\",\"showlegend\":false,\"textposition\":\"auto\",\"x\":[\"Waiz\",\"Sara\",\"Fayez\"],\"xaxis\":\"x\",\"y\":[85,90,78],\"yaxis\":\"y\",\"type\":\"bar\"}],                        {\"template\":{\"data\":{\"histogram2dcontour\":[{\"type\":\"histogram2dcontour\",\"colorbar\":{\"outlinewidth\":0,\"ticks\":\"\"},\"colorscale\":[[0.0,\"#0d0887\"],[0.1111111111111111,\"#46039f\"],[0.2222222222222222,\"#7201a8\"],[0.3333333333333333,\"#9c179e\"],[0.4444444444444444,\"#bd3786\"],[0.5555555555555556,\"#d8576b\"],[0.6666666666666666,\"#ed7953\"],[0.7777777777777778,\"#fb9f3a\"],[0.8888888888888888,\"#fdca26\"],[1.0,\"#f0f921\"]]}],\"choropleth\":[{\"type\":\"choropleth\",\"colorbar\":{\"outlinewidth\":0,\"ticks\":\"\"}}],\"histogram2d\":[{\"type\":\"histogram2d\",\"colorbar\":{\"outlinewidth\":0,\"ticks\":\"\"},\"colorscale\":[[0.0,\"#0d0887\"],[0.1111111111111111,\"#46039f\"],[0.2222222222222222,\"#7201a8\"],[0.3333333333333333,\"#9c179e\"],[0.4444444444444444,\"#bd3786\"],[0.5555555555555556,\"#d8576b\"],[0.6666666666666666,\"#ed7953\"],[0.7777777777777778,\"#fb9f3a\"],[0.8888888888888888,\"#fdca26\"],[1.0,\"#f0f921\"]]}],\"heatmap\":[{\"type\":\"heatmap\",\"colorbar\":{\"outlinewidth\":0,\"ticks\":\"\"},\"colorscale\":[[0.0,\"#0d0887\"],[0.1111111111111111,\"#46039f\"],[0.2222222222222222,\"#7201a8\"],[0.3333333333333333,\"#9c179e\"],[0.4444444444444444,\"#bd3786\"],[0.5555555555555556,\"#d8576b\"],[0.6666666666666666,\"#ed7953\"],[0.7777777777777778,\"#fb9f3a\"],[0.8888888888888888,\"#fdca26\"],[1.0,\"#f0f921\"]]}],\"heatmapgl\":[{\"type\":\"heatmapgl\",\"colorbar\":{\"outlinewidth\":0,\"ticks\":\"\"},\"colorscale\":[[0.0,\"#0d0887\"],[0.1111111111111111,\"#46039f\"],[0.2222222222222222,\"#7201a8\"],[0.3333333333333333,\"#9c179e\"],[0.4444444444444444,\"#bd3786\"],[0.5555555555555556,\"#d8576b\"],[0.6666666666666666,\"#ed7953\"],[0.7777777777777778,\"#fb9f3a\"],[0.8888888888888888,\"#fdca26\"],[1.0,\"#f0f921\"]]}],\"contourcarpet\":[{\"type\":\"contourcarpet\",\"colorbar\":{\"outlinewidth\":0,\"ticks\":\"\"}}],\"contour\":[{\"type\":\"contour\",\"colorbar\":{\"outlinewidth\":0,\"ticks\":\"\"},\"colorscale\":[[0.0,\"#0d0887\"],[0.1111111111111111,\"#46039f\"],[0.2222222222222222,\"#7201a8\"],[0.3333333333333333,\"#9c179e\"],[0.4444444444444444,\"#bd3786\"],[0.5555555555555556,\"#d8576b\"],[0.6666666666666666,\"#ed7953\"],[0.7777777777777778,\"#fb9f3a\"],[0.8888888888888888,\"#fdca26\"],[1.0,\"#f0f921\"]]}],\"surface\":[{\"type\":\"surface\",\"colorbar\":{\"outlinewidth\":0,\"ticks\":\"\"},\"colorscale\":[[0.0,\"#0d0887\"],[0.1111111111111111,\"#46039f\"],[0.2222222222222222,\"#7201a8\"],[0.3333333333333333,\"#9c179e\"],[0.4444444444444444,\"#bd3786\"],[0.5555555555555556,\"#d8576b\"],[0.6666666666666666,\"#ed7953\"],[0.7777777777777778,\"#fb9f3a\"],[0.8888888888888888,\"#fdca26\"],[1.0,\"#f0f921\"]]}],\"mesh3d\":[{\"type\":\"mesh3d\",\"colorbar\":{\"outlinewidth\":0,\"ticks\":\"\"}}],\"scatter\":[{\"fillpattern\":{\"fillmode\":\"overlay\",\"size\":10,\"solidity\":0.2},\"type\":\"scatter\"}],\"parcoords\":[{\"type\":\"parcoords\",\"line\":{\"colorbar\":{\"outlinewidth\":0,\"ticks\":\"\"}}}],\"scatterpolargl\":[{\"type\":\"scatterpolargl\",\"marker\":{\"colorbar\":{\"outlinewidth\":0,\"ticks\":\"\"}}}],\"bar\":[{\"error_x\":{\"color\":\"#2a3f5f\"},\"error_y\":{\"color\":\"#2a3f5f\"},\"marker\":{\"line\":{\"color\":\"#E5ECF6\",\"width\":0.5},\"pattern\":{\"fillmode\":\"overlay\",\"size\":10,\"solidity\":0.2}},\"type\":\"bar\"}],\"scattergeo\":[{\"type\":\"scattergeo\",\"marker\":{\"colorbar\":{\"outlinewidth\":0,\"ticks\":\"\"}}}],\"scatterpolar\":[{\"type\":\"scatterpolar\",\"marker\":{\"colorbar\":{\"outlinewidth\":0,\"ticks\":\"\"}}}],\"histogram\":[{\"marker\":{\"pattern\":{\"fillmode\":\"overlay\",\"size\":10,\"solidity\":0.2}},\"type\":\"histogram\"}],\"scattergl\":[{\"type\":\"scattergl\",\"marker\":{\"colorbar\":{\"outlinewidth\":0,\"ticks\":\"\"}}}],\"scatter3d\":[{\"type\":\"scatter3d\",\"line\":{\"colorbar\":{\"outlinewidth\":0,\"ticks\":\"\"}},\"marker\":{\"colorbar\":{\"outlinewidth\":0,\"ticks\":\"\"}}}],\"scattermapbox\":[{\"type\":\"scattermapbox\",\"marker\":{\"colorbar\":{\"outlinewidth\":0,\"ticks\":\"\"}}}],\"scatterternary\":[{\"type\":\"scatterternary\",\"marker\":{\"colorbar\":{\"outlinewidth\":0,\"ticks\":\"\"}}}],\"scattercarpet\":[{\"type\":\"scattercarpet\",\"marker\":{\"colorbar\":{\"outlinewidth\":0,\"ticks\":\"\"}}}],\"carpet\":[{\"aaxis\":{\"endlinecolor\":\"#2a3f5f\",\"gridcolor\":\"white\",\"linecolor\":\"white\",\"minorgridcolor\":\"white\",\"startlinecolor\":\"#2a3f5f\"},\"baxis\":{\"endlinecolor\":\"#2a3f5f\",\"gridcolor\":\"white\",\"linecolor\":\"white\",\"minorgridcolor\":\"white\",\"startlinecolor\":\"#2a3f5f\"},\"type\":\"carpet\"}],\"table\":[{\"cells\":{\"fill\":{\"color\":\"#EBF0F8\"},\"line\":{\"color\":\"white\"}},\"header\":{\"fill\":{\"color\":\"#C8D4E3\"},\"line\":{\"color\":\"white\"}},\"type\":\"table\"}],\"barpolar\":[{\"marker\":{\"line\":{\"color\":\"#E5ECF6\",\"width\":0.5},\"pattern\":{\"fillmode\":\"overlay\",\"size\":10,\"solidity\":0.2}},\"type\":\"barpolar\"}],\"pie\":[{\"automargin\":true,\"type\":\"pie\"}]},\"layout\":{\"autotypenumbers\":\"strict\",\"colorway\":[\"#636efa\",\"#EF553B\",\"#00cc96\",\"#ab63fa\",\"#FFA15A\",\"#19d3f3\",\"#FF6692\",\"#B6E880\",\"#FF97FF\",\"#FECB52\"],\"font\":{\"color\":\"#2a3f5f\"},\"hovermode\":\"closest\",\"hoverlabel\":{\"align\":\"left\"},\"paper_bgcolor\":\"white\",\"plot_bgcolor\":\"#E5ECF6\",\"polar\":{\"bgcolor\":\"#E5ECF6\",\"angularaxis\":{\"gridcolor\":\"white\",\"linecolor\":\"white\",\"ticks\":\"\"},\"radialaxis\":{\"gridcolor\":\"white\",\"linecolor\":\"white\",\"ticks\":\"\"}},\"ternary\":{\"bgcolor\":\"#E5ECF6\",\"aaxis\":{\"gridcolor\":\"white\",\"linecolor\":\"white\",\"ticks\":\"\"},\"baxis\":{\"gridcolor\":\"white\",\"linecolor\":\"white\",\"ticks\":\"\"},\"caxis\":{\"gridcolor\":\"white\",\"linecolor\":\"white\",\"ticks\":\"\"}},\"coloraxis\":{\"colorbar\":{\"outlinewidth\":0,\"ticks\":\"\"}},\"colorscale\":{\"sequential\":[[0.0,\"#0d0887\"],[0.1111111111111111,\"#46039f\"],[0.2222222222222222,\"#7201a8\"],[0.3333333333333333,\"#9c179e\"],[0.4444444444444444,\"#bd3786\"],[0.5555555555555556,\"#d8576b\"],[0.6666666666666666,\"#ed7953\"],[0.7777777777777778,\"#fb9f3a\"],[0.8888888888888888,\"#fdca26\"],[1.0,\"#f0f921\"]],\"sequentialminus\":[[0.0,\"#0d0887\"],[0.1111111111111111,\"#46039f\"],[0.2222222222222222,\"#7201a8\"],[0.3333333333333333,\"#9c179e\"],[0.4444444444444444,\"#bd3786\"],[0.5555555555555556,\"#d8576b\"],[0.6666666666666666,\"#ed7953\"],[0.7777777777777778,\"#fb9f3a\"],[0.8888888888888888,\"#fdca26\"],[1.0,\"#f0f921\"]],\"diverging\":[[0,\"#8e0152\"],[0.1,\"#c51b7d\"],[0.2,\"#de77ae\"],[0.3,\"#f1b6da\"],[0.4,\"#fde0ef\"],[0.5,\"#f7f7f7\"],[0.6,\"#e6f5d0\"],[0.7,\"#b8e186\"],[0.8,\"#7fbc41\"],[0.9,\"#4d9221\"],[1,\"#276419\"]]},\"xaxis\":{\"gridcolor\":\"white\",\"linecolor\":\"white\",\"ticks\":\"\",\"title\":{\"standoff\":15},\"zerolinecolor\":\"white\",\"automargin\":true,\"zerolinewidth\":2},\"yaxis\":{\"gridcolor\":\"white\",\"linecolor\":\"white\",\"ticks\":\"\",\"title\":{\"standoff\":15},\"zerolinecolor\":\"white\",\"automargin\":true,\"zerolinewidth\":2},\"scene\":{\"xaxis\":{\"backgroundcolor\":\"#E5ECF6\",\"gridcolor\":\"white\",\"linecolor\":\"white\",\"showbackground\":true,\"ticks\":\"\",\"zerolinecolor\":\"white\",\"gridwidth\":2},\"yaxis\":{\"backgroundcolor\":\"#E5ECF6\",\"gridcolor\":\"white\",\"linecolor\":\"white\",\"showbackground\":true,\"ticks\":\"\",\"zerolinecolor\":\"white\",\"gridwidth\":2},\"zaxis\":{\"backgroundcolor\":\"#E5ECF6\",\"gridcolor\":\"white\",\"linecolor\":\"white\",\"showbackground\":true,\"ticks\":\"\",\"zerolinecolor\":\"white\",\"gridwidth\":2}},\"shapedefaults\":{\"line\":{\"color\":\"#2a3f5f\"}},\"annotationdefaults\":{\"arrowcolor\":\"#2a3f5f\",\"arrowhead\":0,\"arrowwidth\":1},\"geo\":{\"bgcolor\":\"white\",\"landcolor\":\"#E5ECF6\",\"subunitcolor\":\"white\",\"showland\":true,\"showlakes\":true,\"lakecolor\":\"white\"},\"title\":{\"x\":0.05},\"mapbox\":{\"style\":\"light\"}}},\"xaxis\":{\"anchor\":\"y\",\"domain\":[0.0,1.0],\"title\":{\"text\":\"Name\"}},\"yaxis\":{\"anchor\":\"x\",\"domain\":[0.0,1.0],\"title\":{\"text\":\"Marks\"}},\"legend\":{\"tracegroupgap\":0},\"title\":{\"text\":\"Student Marks\"},\"barmode\":\"relative\"},                        {\"responsive\": true}                    ).then(function(){\n",
              "                            \n",
              "var gd = document.getElementById('191d8df8-ba7a-4f67-b42b-933f400e1aee');\n",
              "var x = new MutationObserver(function (mutations, observer) {{\n",
              "        var display = window.getComputedStyle(gd).display;\n",
              "        if (!display || display === 'none') {{\n",
              "            console.log([gd, 'removed!']);\n",
              "            Plotly.purge(gd);\n",
              "            observer.disconnect();\n",
              "        }}\n",
              "}});\n",
              "\n",
              "// Listen for the removal of the full notebook cells\n",
              "var notebookContainer = gd.closest('#notebook-container');\n",
              "if (notebookContainer) {{\n",
              "    x.observe(notebookContainer, {childList: true});\n",
              "}}\n",
              "\n",
              "// Listen for the clearing of the current output cell\n",
              "var outputEl = gd.closest('.output');\n",
              "if (outputEl) {{\n",
              "    x.observe(outputEl, {childList: true});\n",
              "}}\n",
              "\n",
              "                        })                };                            </script>        </div>\n",
              "</body>\n",
              "</html>"
            ]
          },
          "metadata": {}
        }
      ]
    },
    {
      "cell_type": "markdown",
      "source": [
        "#**Q6)Create a DataFrame and add a new column based on an existing column.**"
      ],
      "metadata": {
        "id": "zyWCleWnErkS"
      }
    },
    {
      "cell_type": "code",
      "source": [
        "#A6)\n",
        "\n",
        "import pandas as pd\n",
        "\n",
        "\n",
        "data = {'Name': ['Waiz', 'Sara', 'Ajay'],\n",
        "        'Marks': [85, 90, 78]}\n",
        "df = pd.DataFrame(data)\n",
        "\n",
        "\n",
        "df['Grade'] = df['Marks'].apply(lambda x: 'Pass' if x >= 80 else 'Fail')\n",
        "\n",
        "print(df)\n"
      ],
      "metadata": {
        "colab": {
          "base_uri": "https://localhost:8080/"
        },
        "id": "JzK-ykxbEk5x",
        "outputId": "45dd349a-7f99-4bfe-b050-0f232b1346bf"
      },
      "execution_count": 8,
      "outputs": [
        {
          "output_type": "stream",
          "name": "stdout",
          "text": [
            "   Name  Marks Grade\n",
            "0  Waiz     85  Pass\n",
            "1  Sara     90  Pass\n",
            "2  Ajay     78  Fail\n"
          ]
        }
      ]
    },
    {
      "cell_type": "markdown",
      "source": [
        "#**Q7)Write a program to perform element-wise multiplication of two NumPy arrays.**"
      ],
      "metadata": {
        "id": "ps1basbdFUzS"
      }
    },
    {
      "cell_type": "code",
      "source": [
        "#A7)\n",
        "\n",
        "import numpy as np\n",
        "\n",
        "\n",
        "a = np.array([1, 2, 3])\n",
        "b = np.array([4, 5, 6])\n",
        "\n",
        "\n",
        "result = a * b   # or np.multiply(a, b)\n",
        "\n",
        "print(\"Result:\", result)\n"
      ],
      "metadata": {
        "colab": {
          "base_uri": "https://localhost:8080/"
        },
        "id": "Qt8L-uirFJT6",
        "outputId": "9e6b4f9c-71e8-4547-f345-9d192f47f765"
      },
      "execution_count": 9,
      "outputs": [
        {
          "output_type": "stream",
          "name": "stdout",
          "text": [
            "Result: [ 4 10 18]\n"
          ]
        }
      ]
    },
    {
      "cell_type": "markdown",
      "source": [
        "#**Q8)Create a line plot with multiple lines using Matplotlib.**"
      ],
      "metadata": {
        "id": "QUzjaFh5FoRS"
      }
    },
    {
      "cell_type": "code",
      "source": [
        "#A8)\n",
        "\n",
        "import matplotlib.pyplot as plt\n",
        "\n",
        "\n",
        "x = [1, 2, 3, 4, 5]\n",
        "y1 = [2, 4, 6, 8, 10]\n",
        "y2 = [1, 3, 5, 7, 9]\n",
        "\n",
        "\n",
        "plt.plot(x, y1, label=\"Line 1\")\n",
        "plt.plot(x, y2, label=\"Line 2\")\n",
        "\n",
        "\n",
        "plt.xlabel(\"X-axis\")\n",
        "plt.ylabel(\"Y-axis\")\n",
        "plt.title(\"Line Plot with Multiple Lines\")\n",
        "plt.legend()\n",
        "plt.show()\n"
      ],
      "metadata": {
        "colab": {
          "base_uri": "https://localhost:8080/",
          "height": 472
        },
        "id": "jZWCrW5pFmQT",
        "outputId": "05c60f8d-cc53-4615-8989-61ee619a4de0"
      },
      "execution_count": 10,
      "outputs": [
        {
          "output_type": "display_data",
          "data": {
            "text/plain": [
              "<Figure size 640x480 with 1 Axes>"
            ],
            "image/png": "[encoded data removed]"
          },
          "metadata": {}
        }
      ]
    },
    {
      "cell_type": "markdown",
      "source": [
        "#**Q9)Generate a Pandas DataFrame and filter rows where a column value is greater than a threshold.**"
      ],
      "metadata": {
        "id": "DSSXZeOqF6mX"
      }
    },
    {
      "cell_type": "code",
      "source": [
        "#A9)\n",
        "\n",
        "import pandas as pd\n",
        "\n",
        "\n",
        "data = {'Name': ['Ali', 'Sara', 'John', 'Amir'],\n",
        "        'Marks': [85, 72, 90, 65]}\n",
        "df = pd.DataFrame(data)\n",
        "\n",
        "\n",
        "filtered = df[df['Marks'] > 75]\n",
        "\n",
        "print(filtered)\n"
      ],
      "metadata": {
        "colab": {
          "base_uri": "https://localhost:8080/"
        },
        "id": "AOqtOEs3F2jk",
        "outputId": "5560bfee-95f0-42f1-c49f-4dd219a585c8"
      },
      "execution_count": 11,
      "outputs": [
        {
          "output_type": "stream",
          "name": "stdout",
          "text": [
            "   Name  Marks\n",
            "0   Ali     85\n",
            "2  John     90\n"
          ]
        }
      ]
    },
    {
      "cell_type": "markdown",
      "source": [
        "#**Q10)Create a histogram using Seaborn to visualize a distribution.**"
      ],
      "metadata": {
        "id": "iSsNsDYcGQkR"
      }
    },
    {
      "cell_type": "code",
      "source": [
        "#A10)\n",
        "\n",
        "import seaborn as sns\n",
        "import matplotlib.pyplot as plt\n",
        "\n",
        "\n",
        "marks = [85, 90, 78, 92, 88, 76, 95, 89, 80, 85]\n",
        "\n",
        "\n",
        "sns.histplot(marks, bins=5, kde=True)\n",
        "\n",
        "plt.title(\"Marks Distribution\")\n",
        "plt.xlabel(\"Marks\")\n",
        "plt.ylabel(\"Frequency\")\n",
        "plt.show()\n"
      ],
      "metadata": {
        "colab": {
          "base_uri": "https://localhost:8080/",
          "height": 472
        },
        "id": "4-DEiY4OGPfb",
        "outputId": "db57ab34-7667-4f9e-8a49-8aa6f897d4b3"
      },
      "execution_count": 12,
      "outputs": [
        {
          "output_type": "display_data",
          "data": {
            "text/plain": [
              "<Figure size 640x480 with 1 Axes>"
            ],
            "image/png": "[encoded data removed]"
          },
          "metadata": {}
        }
      ]
    },
    {
      "cell_type": "markdown",
      "source": [
        "#**Q11)Perform matrix multiplication using NumPy.**\n"
      ],
      "metadata": {
        "id": "hrXxdyp-GoRT"
      }
    },
    {
      "cell_type": "code",
      "source": [
        "#A11)\n",
        "\n",
        "import numpy as np\n",
        "\n",
        "\n",
        "A = np.array([[1, 2],\n",
        "              [3, 4]])\n",
        "B = np.array([[5, 6],\n",
        "              [7, 8]])\n",
        "\n",
        "\n",
        "result = np.dot(A, B)\n",
        "\n",
        "print(\"Result:\\n\", result)\n"
      ],
      "metadata": {
        "colab": {
          "base_uri": "https://localhost:8080/"
        },
        "id": "hT_iNQiRGf6J",
        "outputId": "c11589a3-acc9-44cc-b512-e3260f8e8f44"
      },
      "execution_count": 13,
      "outputs": [
        {
          "output_type": "stream",
          "name": "stdout",
          "text": [
            "Result:\n",
            " [[19 22]\n",
            " [43 50]]\n"
          ]
        }
      ]
    },
    {
      "cell_type": "markdown",
      "source": [
        "#**Q12) Use Pandas to load a CSV file and display its first 5 rows.**"
      ],
      "metadata": {
        "id": "l8AVqaLUG-NO"
      }
    },
    {
      "cell_type": "code",
      "source": [
        "#A12)\n",
        "\n",
        "import pandas as pd\n",
        "\n",
        "\n",
        "data = {'Name': ['Ali', 'Sara', 'John'], 'Marks': [85, 90, 78]}\n",
        "df = pd.DataFrame(data)\n",
        "\n",
        "df.to_csv(\"data.csv\", index=False)\n",
        "\n",
        "\n",
        "df2 = pd.read_csv(\"data.csv\")\n",
        "print(df2.head())\n"
      ],
      "metadata": {
        "colab": {
          "base_uri": "https://localhost:8080/"
        },
        "id": "-DlE4uY1HXXp",
        "outputId": "e42d6871-f6ec-4936-d7db-5b4dc523af2f"
      },
      "execution_count": 23,
      "outputs": [
        {
          "output_type": "stream",
          "name": "stdout",
          "text": [
            "   Name  Marks\n",
            "0   Ali     85\n",
            "1  Sara     90\n",
            "2  John     78\n"
          ]
        }
      ]
    },
    {
      "cell_type": "markdown",
      "source": [
        "#**Q13)Create a 3D scatter plot using Plotly.**"
      ],
      "metadata": {
        "id": "CySgYmCSIdjS"
      }
    },
    {
      "cell_type": "code",
      "source": [
        "#A13)\n",
        "\n",
        "import plotly.express as px\n",
        "import pandas as pd\n",
        "\n",
        "\n",
        "data = {\n",
        "    \"x\": [1, 2, 3, 4, 5],\n",
        "    \"y\": [10, 11, 12, 13, 14],\n",
        "    \"z\": [5, 6, 7, 8, 9],\n",
        "    \"category\": [\"A\", \"B\", \"A\", \"B\", \"A\"]\n",
        "}\n",
        "\n",
        "df = pd.DataFrame(data)\n",
        "\n",
        "\n",
        "fig = px.scatter_3d(df, x=\"x\", y=\"y\", z=\"z\", color=\"category\", size_max=10)\n",
        "\n",
        "\n",
        "fig.show()\n"
      ],
      "metadata": {
        "colab": {
          "base_uri": "https://localhost:8080/",
          "height": 542
        },
        "id": "k6tBy0f3HlLF",
        "outputId": "0e2ac08e-be24-4248-f92a-0acabb88198f"
      },
      "execution_count": 24,
      "outputs": [
        {
          "output_type": "display_data",
          "data": {
            "text/html": [
              "<html>\n",
              "<head><meta charset=\"utf-8\" /></head>\n",
              "<body>\n",
              "    <div>            <script src=\"https://cdnjs.cloudflare.com/ajax/libs/mathjax/2.7.5/MathJax.js?config=TeX-AMS-MML_SVG\"></script><script type=\"text/javascript\">if (window.MathJax && window.MathJax.Hub && window.MathJax.Hub.Config) {window.MathJax.Hub.Config({SVG: {font: \"STIX-Web\"}});}</script>                <script type=\"text/javascript\">window.PlotlyConfig = {MathJaxConfig: 'local'};</script>\n",
              "        <script charset=\"utf-8\" src=\"https://cdn.plot.ly/plotly-2.35.2.min.js\"></script>                <div id=\"23eb2173-616b-4d5b-b0b5-05fc35ab0e18\" class=\"plotly-graph-div\" style=\"height:525px; width:100%;\"></div>            <script type=\"text/javascript\">                                    window.PLOTLYENV=window.PLOTLYENV || {};                                    if (document.getElementById(\"23eb2173-616b-4d5b-b0b5-05fc35ab0e18\")) {                    Plotly.newPlot(                        \"23eb2173-616b-4d5b-b0b5-05fc35ab0e18\",                        [{\"hovertemplate\":\"category=A\\u003cbr\\u003ex=%{x}\\u003cbr\\u003ey=%{y}\\u003cbr\\u003ez=%{z}\\u003cextra\\u003e\\u003c\\u002fextra\\u003e\",\"legendgroup\":\"A\",\"marker\":{\"color\":\"#636efa\",\"symbol\":\"circle\"},\"mode\":\"markers\",\"name\":\"A\",\"scene\":\"scene\",\"showlegend\":true,\"x\":[1,3,5],\"y\":[10,12,14],\"z\":[5,7,9],\"type\":\"scatter3d\"},{\"hovertemplate\":\"category=B\\u003cbr\\u003ex=%{x}\\u003cbr\\u003ey=%{y}\\u003cbr\\u003ez=%{z}\\u003cextra\\u003e\\u003c\\u002fextra\\u003e\",\"legendgroup\":\"B\",\"marker\":{\"color\":\"#EF553B\",\"symbol\":\"circle\"},\"mode\":\"markers\",\"name\":\"B\",\"scene\":\"scene\",\"showlegend\":true,\"x\":[2,4],\"y\":[11,13],\"z\":[6,8],\"type\":\"scatter3d\"}],                        {\"template\":{\"data\":{\"histogram2dcontour\":[{\"type\":\"histogram2dcontour\",\"colorbar\":{\"outlinewidth\":0,\"ticks\":\"\"},\"colorscale\":[[0.0,\"#0d0887\"],[0.1111111111111111,\"#46039f\"],[0.2222222222222222,\"#7201a8\"],[0.3333333333333333,\"#9c179e\"],[0.4444444444444444,\"#bd3786\"],[0.5555555555555556,\"#d8576b\"],[0.6666666666666666,\"#ed7953\"],[0.7777777777777778,\"#fb9f3a\"],[0.8888888888888888,\"#fdca26\"],[1.0,\"#f0f921\"]]}],\"choropleth\":[{\"type\":\"choropleth\",\"colorbar\":{\"outlinewidth\":0,\"ticks\":\"\"}}],\"histogram2d\":[{\"type\":\"histogram2d\",\"colorbar\":{\"outlinewidth\":0,\"ticks\":\"\"},\"colorscale\":[[0.0,\"#0d0887\"],[0.1111111111111111,\"#46039f\"],[0.2222222222222222,\"#7201a8\"],[0.3333333333333333,\"#9c179e\"],[0.4444444444444444,\"#bd3786\"],[0.5555555555555556,\"#d8576b\"],[0.6666666666666666,\"#ed7953\"],[0.7777777777777778,\"#fb9f3a\"],[0.8888888888888888,\"#fdca26\"],[1.0,\"#f0f921\"]]}],\"heatmap\":[{\"type\":\"heatmap\",\"colorbar\":{\"outlinewidth\":0,\"ticks\":\"\"},\"colorscale\":[[0.0,\"#0d0887\"],[0.1111111111111111,\"#46039f\"],[0.2222222222222222,\"#7201a8\"],[0.3333333333333333,\"#9c179e\"],[0.4444444444444444,\"#bd3786\"],[0.5555555555555556,\"#d8576b\"],[0.6666666666666666,\"#ed7953\"],[0.7777777777777778,\"#fb9f3a\"],[0.8888888888888888,\"#fdca26\"],[1.0,\"#f0f921\"]]}],\"heatmapgl\":[{\"type\":\"heatmapgl\",\"colorbar\":{\"outlinewidth\":0,\"ticks\":\"\"},\"colorscale\":[[0.0,\"#0d0887\"],[0.1111111111111111,\"#46039f\"],[0.2222222222222222,\"#7201a8\"],[0.3333333333333333,\"#9c179e\"],[0.4444444444444444,\"#bd3786\"],[0.5555555555555556,\"#d8576b\"],[0.6666666666666666,\"#ed7953\"],[0.7777777777777778,\"#fb9f3a\"],[0.8888888888888888,\"#fdca26\"],[1.0,\"#f0f921\"]]}],\"contourcarpet\":[{\"type\":\"contourcarpet\",\"colorbar\":{\"outlinewidth\":0,\"ticks\":\"\"}}],\"contour\":[{\"type\":\"contour\",\"colorbar\":{\"outlinewidth\":0,\"ticks\":\"\"},\"colorscale\":[[0.0,\"#0d0887\"],[0.1111111111111111,\"#46039f\"],[0.2222222222222222,\"#7201a8\"],[0.3333333333333333,\"#9c179e\"],[0.4444444444444444,\"#bd3786\"],[0.5555555555555556,\"#d8576b\"],[0.6666666666666666,\"#ed7953\"],[0.7777777777777778,\"#fb9f3a\"],[0.8888888888888888,\"#fdca26\"],[1.0,\"#f0f921\"]]}],\"surface\":[{\"type\":\"surface\",\"colorbar\":{\"outlinewidth\":0,\"ticks\":\"\"},\"colorscale\":[[0.0,\"#0d0887\"],[0.1111111111111111,\"#46039f\"],[0.2222222222222222,\"#7201a8\"],[0.3333333333333333,\"#9c179e\"],[0.4444444444444444,\"#bd3786\"],[0.5555555555555556,\"#d8576b\"],[0.6666666666666666,\"#ed7953\"],[0.7777777777777778,\"#fb9f3a\"],[0.8888888888888888,\"#fdca26\"],[1.0,\"#f0f921\"]]}],\"mesh3d\":[{\"type\":\"mesh3d\",\"colorbar\":{\"outlinewidth\":0,\"ticks\":\"\"}}],\"scatter\":[{\"fillpattern\":{\"fillmode\":\"overlay\",\"size\":10,\"solidity\":0.2},\"type\":\"scatter\"}],\"parcoords\":[{\"type\":\"parcoords\",\"line\":{\"colorbar\":{\"outlinewidth\":0,\"ticks\":\"\"}}}],\"scatterpolargl\":[{\"type\":\"scatterpolargl\",\"marker\":{\"colorbar\":{\"outlinewidth\":0,\"ticks\":\"\"}}}],\"bar\":[{\"error_x\":{\"color\":\"#2a3f5f\"},\"error_y\":{\"color\":\"#2a3f5f\"},\"marker\":{\"line\":{\"color\":\"#E5ECF6\",\"width\":0.5},\"pattern\":{\"fillmode\":\"overlay\",\"size\":10,\"solidity\":0.2}},\"type\":\"bar\"}],\"scattergeo\":[{\"type\":\"scattergeo\",\"marker\":{\"colorbar\":{\"outlinewidth\":0,\"ticks\":\"\"}}}],\"scatterpolar\":[{\"type\":\"scatterpolar\",\"marker\":{\"colorbar\":{\"outlinewidth\":0,\"ticks\":\"\"}}}],\"histogram\":[{\"marker\":{\"pattern\":{\"fillmode\":\"overlay\",\"size\":10,\"solidity\":0.2}},\"type\":\"histogram\"}],\"scattergl\":[{\"type\":\"scattergl\",\"marker\":{\"colorbar\":{\"outlinewidth\":0,\"ticks\":\"\"}}}],\"scatter3d\":[{\"type\":\"scatter3d\",\"line\":{\"colorbar\":{\"outlinewidth\":0,\"ticks\":\"\"}},\"marker\":{\"colorbar\":{\"outlinewidth\":0,\"ticks\":\"\"}}}],\"scattermapbox\":[{\"type\":\"scattermapbox\",\"marker\":{\"colorbar\":{\"outlinewidth\":0,\"ticks\":\"\"}}}],\"scatterternary\":[{\"type\":\"scatterternary\",\"marker\":{\"colorbar\":{\"outlinewidth\":0,\"ticks\":\"\"}}}],\"scattercarpet\":[{\"type\":\"scattercarpet\",\"marker\":{\"colorbar\":{\"outlinewidth\":0,\"ticks\":\"\"}}}],\"carpet\":[{\"aaxis\":{\"endlinecolor\":\"#2a3f5f\",\"gridcolor\":\"white\",\"linecolor\":\"white\",\"minorgridcolor\":\"white\",\"startlinecolor\":\"#2a3f5f\"},\"baxis\":{\"endlinecolor\":\"#2a3f5f\",\"gridcolor\":\"white\",\"linecolor\":\"white\",\"minorgridcolor\":\"white\",\"startlinecolor\":\"#2a3f5f\"},\"type\":\"carpet\"}],\"table\":[{\"cells\":{\"fill\":{\"color\":\"#EBF0F8\"},\"line\":{\"color\":\"white\"}},\"header\":{\"fill\":{\"color\":\"#C8D4E3\"},\"line\":{\"color\":\"white\"}},\"type\":\"table\"}],\"barpolar\":[{\"marker\":{\"line\":{\"color\":\"#E5ECF6\",\"width\":0.5},\"pattern\":{\"fillmode\":\"overlay\",\"size\":10,\"solidity\":0.2}},\"type\":\"barpolar\"}],\"pie\":[{\"automargin\":true,\"type\":\"pie\"}]},\"layout\":{\"autotypenumbers\":\"strict\",\"colorway\":[\"#636efa\",\"#EF553B\",\"#00cc96\",\"#ab63fa\",\"#FFA15A\",\"#19d3f3\",\"#FF6692\",\"#B6E880\",\"#FF97FF\",\"#FECB52\"],\"font\":{\"color\":\"#2a3f5f\"},\"hovermode\":\"closest\",\"hoverlabel\":{\"align\":\"left\"},\"paper_bgcolor\":\"white\",\"plot_bgcolor\":\"#E5ECF6\",\"polar\":{\"bgcolor\":\"#E5ECF6\",\"angularaxis\":{\"gridcolor\":\"white\",\"linecolor\":\"white\",\"ticks\":\"\"},\"radialaxis\":{\"gridcolor\":\"white\",\"linecolor\":\"white\",\"ticks\":\"\"}},\"ternary\":{\"bgcolor\":\"#E5ECF6\",\"aaxis\":{\"gridcolor\":\"white\",\"linecolor\":\"white\",\"ticks\":\"\"},\"baxis\":{\"gridcolor\":\"white\",\"linecolor\":\"white\",\"ticks\":\"\"},\"caxis\":{\"gridcolor\":\"white\",\"linecolor\":\"white\",\"ticks\":\"\"}},\"coloraxis\":{\"colorbar\":{\"outlinewidth\":0,\"ticks\":\"\"}},\"colorscale\":{\"sequential\":[[0.0,\"#0d0887\"],[0.1111111111111111,\"#46039f\"],[0.2222222222222222,\"#7201a8\"],[0.3333333333333333,\"#9c179e\"],[0.4444444444444444,\"#bd3786\"],[0.5555555555555556,\"#d8576b\"],[0.6666666666666666,\"#ed7953\"],[0.7777777777777778,\"#fb9f3a\"],[0.8888888888888888,\"#fdca26\"],[1.0,\"#f0f921\"]],\"sequentialminus\":[[0.0,\"#0d0887\"],[0.1111111111111111,\"#46039f\"],[0.2222222222222222,\"#7201a8\"],[0.3333333333333333,\"#9c179e\"],[0.4444444444444444,\"#bd3786\"],[0.5555555555555556,\"#d8576b\"],[0.6666666666666666,\"#ed7953\"],[0.7777777777777778,\"#fb9f3a\"],[0.8888888888888888,\"#fdca26\"],[1.0,\"#f0f921\"]],\"diverging\":[[0,\"#8e0152\"],[0.1,\"#c51b7d\"],[0.2,\"#de77ae\"],[0.3,\"#f1b6da\"],[0.4,\"#fde0ef\"],[0.5,\"#f7f7f7\"],[0.6,\"#e6f5d0\"],[0.7,\"#b8e186\"],[0.8,\"#7fbc41\"],[0.9,\"#4d9221\"],[1,\"#276419\"]]},\"xaxis\":{\"gridcolor\":\"white\",\"linecolor\":\"white\",\"ticks\":\"\",\"title\":{\"standoff\":15},\"zerolinecolor\":\"white\",\"automargin\":true,\"zerolinewidth\":2},\"yaxis\":{\"gridcolor\":\"white\",\"linecolor\":\"white\",\"ticks\":\"\",\"title\":{\"standoff\":15},\"zerolinecolor\":\"white\",\"automargin\":true,\"zerolinewidth\":2},\"scene\":{\"xaxis\":{\"backgroundcolor\":\"#E5ECF6\",\"gridcolor\":\"white\",\"linecolor\":\"white\",\"showbackground\":true,\"ticks\":\"\",\"zerolinecolor\":\"white\",\"gridwidth\":2},\"yaxis\":{\"backgroundcolor\":\"#E5ECF6\",\"gridcolor\":\"white\",\"linecolor\":\"white\",\"showbackground\":true,\"ticks\":\"\",\"zerolinecolor\":\"white\",\"gridwidth\":2},\"zaxis\":{\"backgroundcolor\":\"#E5ECF6\",\"gridcolor\":\"white\",\"linecolor\":\"white\",\"showbackground\":true,\"ticks\":\"\",\"zerolinecolor\":\"white\",\"gridwidth\":2}},\"shapedefaults\":{\"line\":{\"color\":\"#2a3f5f\"}},\"annotationdefaults\":{\"arrowcolor\":\"#2a3f5f\",\"arrowhead\":0,\"arrowwidth\":1},\"geo\":{\"bgcolor\":\"white\",\"landcolor\":\"#E5ECF6\",\"subunitcolor\":\"white\",\"showland\":true,\"showlakes\":true,\"lakecolor\":\"white\"},\"title\":{\"x\":0.05},\"mapbox\":{\"style\":\"light\"}}},\"scene\":{\"domain\":{\"x\":[0.0,1.0],\"y\":[0.0,1.0]},\"xaxis\":{\"title\":{\"text\":\"x\"}},\"yaxis\":{\"title\":{\"text\":\"y\"}},\"zaxis\":{\"title\":{\"text\":\"z\"}}},\"legend\":{\"title\":{\"text\":\"category\"},\"tracegroupgap\":0},\"margin\":{\"t\":60}},                        {\"responsive\": true}                    ).then(function(){\n",
              "                            \n",
              "var gd = document.getElementById('23eb2173-616b-4d5b-b0b5-05fc35ab0e18');\n",
              "var x = new MutationObserver(function (mutations, observer) {{\n",
              "        var display = window.getComputedStyle(gd).display;\n",
              "        if (!display || display === 'none') {{\n",
              "            console.log([gd, 'removed!']);\n",
              "            Plotly.purge(gd);\n",
              "            observer.disconnect();\n",
              "        }}\n",
              "}});\n",
              "\n",
              "// Listen for the removal of the full notebook cells\n",
              "var notebookContainer = gd.closest('#notebook-container');\n",
              "if (notebookContainer) {{\n",
              "    x.observe(notebookContainer, {childList: true});\n",
              "}}\n",
              "\n",
              "// Listen for the clearing of the current output cell\n",
              "var outputEl = gd.closest('.output');\n",
              "if (outputEl) {{\n",
              "    x.observe(outputEl, {childList: true});\n",
              "}}\n",
              "\n",
              "                        })                };                            </script>        </div>\n",
              "</body>\n",
              "</html>"
            ]
          },
          "metadata": {}
        }
      ]
    },
    {
      "cell_type": "code",
      "source": [],
      "metadata": {
        "id": "yiEpaD2tIs1C"
      },
      "execution_count": null,
      "outputs": []
    }
  ]
}