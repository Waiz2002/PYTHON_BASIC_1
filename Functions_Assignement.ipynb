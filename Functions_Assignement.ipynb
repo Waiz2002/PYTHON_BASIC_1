{
  "nbformat": 4,
  "nbformat_minor": 0,
  "metadata": {
    "colab": {
      "provenance": []
    },
    "kernelspec": {
      "name": "python3",
      "display_name": "Python 3"
    },
    "language_info": {
      "name": "python"
    }
  },
  "cells": [
    {
      "cell_type": "markdown",
      "source": [
        "#**Theory Questions**"
      ],
      "metadata": {
        "id": "mCk55C2-T6yM"
      }
    },
    {
      "cell_type": "markdown",
      "source": [
        "#**Q1. What is the difference between a function and a method in Python?**\n",
        "A1). A function is a block of code that is defined using the def keyword and can be called independently. It can work on its own and is not tied to any object.\n",
        "\n",
        "A method is also a function, but it is associated with an object (usually of a class) and is called using that object. It always takes the object itself as its first argument (usually self)."
      ],
      "metadata": {
        "id": "89R9IGRFT-s5"
      }
    },
    {
      "cell_type": "code",
      "source": [
        "# Function example\n",
        "def greet(name):\n",
        "    return \"Hello \" + name\n",
        "\n",
        "print(greet(\"Waiz\"))  # Output: Hello Waiz\n",
        "\n",
        "# Method example\n",
        "my_list = [1, 2, 3]\n",
        "my_list.append(4)     # append() is a method\n",
        "print(my_list)        # Output: [1, 2, 3, 4]\n"
      ],
      "metadata": {
        "colab": {
          "base_uri": "https://localhost:8080/"
        },
        "id": "-g41RB6UT6Ke",
        "outputId": "96da8963-d1c7-46e6-c155-9002c566e842"
      },
      "execution_count": 2,
      "outputs": [
        {
          "output_type": "stream",
          "name": "stdout",
          "text": [
            "Hello Waiz\n",
            "[1, 2, 3, 4]\n"
          ]
        }
      ]
    },
    {
      "cell_type": "markdown",
      "source": [
        "#**Q2.Explain the concept of function arguments and parameters in Python.**\n",
        "A2). In Python, when we create a function, we often need to give it some information to work with. This is where parameters and arguments come into play.\n",
        "\n",
        "Parameters are the names given in the function definition. They act like placeholders that receive values.\n",
        "\n",
        "Arguments are the actual values we give to the function when we call it.\n",
        "\n",
        "Example:\n",
        "\n",
        "Imagine you're placing a food order on a mobile app.\n",
        "\n",
        "The order form asks for your name and the food item — these are like parameters.\n",
        "\n",
        "When you actually fill in your name as “Ayaan” and choose “Pizza” — these are the arguments.\n",
        "\n",
        "So the form (function) expects name and item (parameters), and you provide Ayaan and Pizza (arguments).\n",
        "\n"
      ],
      "metadata": {
        "id": "EP9tyJDMUdkV"
      }
    },
    {
      "cell_type": "markdown",
      "source": [
        "#**Q3.What are the different ways to define and call a function in Python?**\n",
        "A1). In Python, we define a function using the def keyword, followed by the function name and parentheses. Functions can be defined in different ways depending on how many arguments they take or whether they return a value or not.\n",
        "\n",
        "Here are some common ways to define and call functions:\n",
        "\n",
        "Without parameters and without return value\n",
        "\n",
        "Just does a task, like printing something.\n",
        "\n",
        "With parameters but no return value\n",
        "\n",
        "Takes input but doesn’t return anything; it might just display something.\n",
        "\n",
        "With parameters and return value\n",
        "\n",
        "Takes input and returns an output.\n",
        "\n",
        "With default parameters\n",
        "\n",
        "You can give a default value to a parameter in case the user doesn’t pass any argument.\n",
        "\n",
        "Using keyword or positional arguments while calling\n",
        "\n",
        "You can pass arguments by position or by naming them.\n",
        "\n",
        "Example:\n",
        "\n",
        "Think of a coffee vending machine:\n",
        "\n",
        "1)If you press the default button, it gives a normal coffee — this is like calling a function with no arguments.\n",
        "\n",
        "2)If you choose sugar level and milk type — that’s like giving parameters.\n",
        "\n",
        "3)If the machine gives back your selected coffee — that’s a return value.\n",
        "\n",
        "4)If you don’t mention sugar level, the machine still gives medium sugar by default — that’s a default parameter."
      ],
      "metadata": {
        "id": "yA22KXazU4mi"
      }
    },
    {
      "cell_type": "markdown",
      "source": [
        "#**Q4.**What is the purpose of the `return` statement in a Python function?**\n",
        "A4). The return statement in Python is used to send back a value from a function to the place where it was called. It ends the function and gives the result to the caller.\n",
        "\n",
        "In simple words, it’s like a function doing some work and then giving you the final answer.\n",
        "\n",
        "Without return, the function may still do a task (like printing something), but it won’t give back any result to use later.\n",
        "\n",
        "Example:\n",
        "\n",
        "Imagine you're using a calculator.\n",
        "\n",
        "If you press 5 + 3 and it shows “8” on screen — that’s like a print, it just displays it.\n",
        "\n",
        "But if the calculator stores “8” so that you can use it for the next calculation — that’s like returning the result.\n",
        "\n",
        "So, return is used when we want to keep or reuse the result later in the program.\n",
        "\n",
        "\n",
        "\n"
      ],
      "metadata": {
        "id": "cO7Ulwb8VXaL"
      }
    },
    {
      "cell_type": "markdown",
      "source": [
        "#**Q5.What are iterators in Python and how do they differ from iterables?**\n",
        "A5). In Python, iterables and iterators are related to looping through data, but they are not the same.\n",
        "\n",
        "An iterable is any object that can be looped over, like a list, string, or tuple. You can use a for loop on it.\n",
        "\n",
        "An iterator is an object that actually does the job of going through each item, one at a time, using a method called __next__().\n",
        "\n",
        "Basically:\n",
        "\n",
        "Iterable = has the data\n",
        "\n",
        "Iterator = knows how to read that data one-by-one\n",
        "\n",
        "You can turn an iterable into an iterator using the iter() function.\n",
        "\n",
        "Example:\n",
        "\n",
        "Imagine a book.\n",
        "\n",
        "The book itself is like an iterable — it contains pages you can read.\n",
        "\n",
        "A bookmark is like an iterator — it helps you go through the pages one by one, and keeps track of where you are."
      ],
      "metadata": {
        "id": "EDU5vz35VuD8"
      }
    },
    {
      "cell_type": "markdown",
      "source": [
        "#**Q6.Explain the concept of generators in Python and how they are defined**\n",
        "A6). In Python, generators are a special type of function that return values one at a time, using the yield keyword instead of return. They are useful when we want to work with large amounts of data without storing everything in memory at once.\n",
        "\n",
        "Generators don’t run completely when they are called. They pause at each yield and continue when asked for the next value."
      ],
      "metadata": {
        "id": "5IQCrm8RWK7e"
      }
    },
    {
      "cell_type": "code",
      "source": [
        "#example\n",
        "def count_up():\n",
        "    yield 1\n",
        "    yield 2\n",
        "    yield 3\n",
        "\n",
        "gen = count_up()\n",
        "print(next(gen))\n"
      ],
      "metadata": {
        "colab": {
          "base_uri": "https://localhost:8080/"
        },
        "id": "NL-hgBo1T6HT",
        "outputId": "39a257b6-7f4e-4c44-cc6e-f32f1f51e564"
      },
      "execution_count": 3,
      "outputs": [
        {
          "output_type": "stream",
          "name": "stdout",
          "text": [
            "1\n"
          ]
        }
      ]
    },
    {
      "cell_type": "markdown",
      "source": [
        "#**Q7.What are the advantages of using generators over regular functions?**\n",
        "A7). Generators have several advantages over normal functions, especially when working with large data or long loops:\n",
        "\n",
        "Memory efficient – They don’t store all values in memory. They give one value at a time.\n",
        "\n",
        "Faster execution – Since they produce values only when needed, they can be faster for large datasets.\n",
        "\n",
        "Pause and resume – Generators can pause at each yield and continue from the same point, unlike normal functions which run completely.\n",
        "\n",
        "Cleaner code – They make the code simpler when you need to create an iterator.\n",
        "\n",
        "Example:- Suppose you want to read 1 crore lines from a big file. A normal function would load all lines into memory — which can crash the system.\n",
        "\n",
        "But a generator reads one line at a time, so it saves memory and works smoothly even with huge files.\n",
        "\n"
      ],
      "metadata": {
        "id": "inXUDx9lWeXp"
      }
    },
    {
      "cell_type": "markdown",
      "source": [
        "#**Q8.What is a lambda function in Python and when is it typically used?**\n",
        "A8). A lambda function in Python is a small, anonymous function — meaning it doesn’t have a name. It is defined using the keyword lambda.\n",
        "\n",
        "It is mainly used when we need a quick, one-line function for a short task, especially inside functions like map(), filter(), or sorted().\n",
        "\n"
      ],
      "metadata": {
        "id": "NvpszXjBCV6n"
      }
    },
    {
      "cell_type": "code",
      "execution_count": 4,
      "metadata": {
        "colab": {
          "base_uri": "https://localhost:8080/"
        },
        "id": "ua_5NhOPCRUZ",
        "outputId": "bdbb6ba1-3047-448b-f20e-fa76b551bd8d"
      },
      "outputs": [
        {
          "output_type": "stream",
          "name": "stdout",
          "text": [
            "16\n"
          ]
        }
      ],
      "source": [
        "#example\n",
        "\n",
        "square = lambda x: x * x\n",
        "print(square(4))\n"
      ]
    },
    {
      "cell_type": "markdown",
      "source": [
        "#**Q9.Explain the purpose and usage of the `map()` function in Python**\n",
        "A9).The map() function in Python is used to apply a function to every item in an iterable (like a list) and returns a new iterable (map object) with the results.\n",
        "\n",
        "It helps when we want to perform the same operation on all items, like doubling numbers, converting strings, etc."
      ],
      "metadata": {
        "id": "wO-UrEmPXLcg"
      }
    },
    {
      "cell_type": "code",
      "source": [
        "#Eample\n",
        "nums = [1, 2, 3]\n",
        "doubles = map(lambda x: x * 2, nums)\n",
        "print(list(doubles))\n"
      ],
      "metadata": {
        "colab": {
          "base_uri": "https://localhost:8080/"
        },
        "id": "E8HB-tdLXKmF",
        "outputId": "9ac11300-e0d3-4052-9769-d6352657e9f2"
      },
      "execution_count": 5,
      "outputs": [
        {
          "output_type": "stream",
          "name": "stdout",
          "text": [
            "[2, 4, 6]\n"
          ]
        }
      ]
    },
    {
      "cell_type": "markdown",
      "source": [
        "#**Q10.What is the difference between `map()`, `reduce()`, and `filter()` functions in Python?**\n",
        "A10). In Python, map(), filter(), and reduce() are functions used to process data in a clean and efficient way, especially when working with lists. Here's the difference between them:\n",
        "\n",
        "Real-Life Example:\n",
        "Imagine a fruit basket:\n",
        "\n",
        "map() is like cleaning every fruit.\n",
        "\n",
        "filter() is like keeping only fresh fruits.\n",
        "\n",
        "reduce() is like making juice by mixing them into one.\n",
        "\n"
      ],
      "metadata": {
        "id": "-e7JWXTUXmLW"
      }
    },
    {
      "cell_type": "markdown",
      "source": [
        "#**Q11.Using pen & Paper write the internal mechanism for sum operation using  reduce function on this given list:[47,11,42,13]**\n",
        "A11). We will use the reduce() function from Python’s functools module.\n",
        "It applies a function pair by pair from left to right, reducing the list to a single value.\n",
        "![WhatsApp Image 2025-08-01 at 21.44.11_5f20333c.jpg](data:image/jpeg;base64,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)\n"
      ],
      "metadata": {
        "id": "QyuY-NwWZO9p"
      }
    },
    {
      "cell_type": "markdown",
      "source": [
        "#**Practical Questions:**"
      ],
      "metadata": {
        "id": "4e_qIid0bQep"
      }
    },
    {
      "cell_type": "markdown",
      "source": [
        "#**Q1.Write a Python function that takes a list of numbers as input and returns the sum of all even numbers in the list.**"
      ],
      "metadata": {
        "id": "hTl9sslTbZpr"
      }
    },
    {
      "cell_type": "code",
      "source": [
        "#A1)\n",
        "\n",
        "def sum_of_even(numbers):\n",
        "    even_sum = 0\n",
        "    for num in numbers:\n",
        "        if num % 2 == 0:\n",
        "            even_sum += num\n",
        "    return even_sum\n",
        "\n",
        "#example\n",
        "\n",
        "nums = [10, 5, 8, 3, 2]\n",
        "result = sum_of_even(nums)\n",
        "print(result)"
      ],
      "metadata": {
        "colab": {
          "base_uri": "https://localhost:8080/"
        },
        "id": "bU8pMomqYId_",
        "outputId": "9a603fc1-103a-40ac-8e40-2c154620e48a"
      },
      "execution_count": 16,
      "outputs": [
        {
          "output_type": "stream",
          "name": "stdout",
          "text": [
            "20\n"
          ]
        }
      ]
    },
    {
      "cell_type": "markdown",
      "source": [
        "#**Q2.Create a Python function that accepts a string and returns the reverse of that string.**"
      ],
      "metadata": {
        "id": "tCp6ataJb2Iv"
      }
    },
    {
      "cell_type": "code",
      "source": [
        "#A2)\n",
        "\n",
        "def reverse_string(text):\n",
        "    return text[::-1]\n",
        "\n",
        "#Example:-\n",
        "result = reverse_string(\"hello\")\n",
        "print(result)"
      ],
      "metadata": {
        "colab": {
          "base_uri": "https://localhost:8080/"
        },
        "id": "X2vwEkn2bsIk",
        "outputId": "0a4f7d74-3320-4ea9-db81-e9fd7bee29a4"
      },
      "execution_count": 17,
      "outputs": [
        {
          "output_type": "stream",
          "name": "stdout",
          "text": [
            "olleh\n"
          ]
        }
      ]
    },
    {
      "cell_type": "markdown",
      "source": [
        "#**Q3.. Implement a Python function that takes a list of integers and returns a new list containing the squares of each number.**"
      ],
      "metadata": {
        "id": "DHbKXA5ScYht"
      }
    },
    {
      "cell_type": "code",
      "source": [
        "#A3\n",
        "def square_list(numbers):\n",
        "    return [x**2 for x in numbers]\n",
        "\n",
        "#Example\n",
        "\n",
        "nums = [2, 4, 6]\n",
        "result = square_list(nums)\n",
        "print(result)"
      ],
      "metadata": {
        "colab": {
          "base_uri": "https://localhost:8080/"
        },
        "id": "sdh3W2UBcOtQ",
        "outputId": "bbe2ad02-722e-4ab2-fe31-8399f9ca2490"
      },
      "execution_count": 18,
      "outputs": [
        {
          "output_type": "stream",
          "name": "stdout",
          "text": [
            "[4, 16, 36]\n"
          ]
        }
      ]
    },
    {
      "cell_type": "markdown",
      "source": [
        "#**Q4. Write a Python function that checks if a given number is prime or not from 1 to 200.**"
      ],
      "metadata": {
        "id": "YlfiaRaycrOO"
      }
    },
    {
      "cell_type": "code",
      "source": [
        "#A4.\n",
        "def is_prime(n):\n",
        "    if n < 2 or n > 200:\n",
        "        return \"Number out of range (1 to 200)\"\n",
        "    for i in range(2, int(n**0.5) + 1):\n",
        "        if n % i == 0:\n",
        "            return False\n",
        "    return True\n",
        "\n",
        "#example\n",
        "\n",
        "print(is_prime(7))\n",
        "print(is_prime(100))\n",
        "print(is_prime(250))"
      ],
      "metadata": {
        "colab": {
          "base_uri": "https://localhost:8080/"
        },
        "id": "2PM6jwVEcneH",
        "outputId": "83e6e0e0-5ad7-4d20-c5a3-ae1ea8ee57b0"
      },
      "execution_count": 19,
      "outputs": [
        {
          "output_type": "stream",
          "name": "stdout",
          "text": [
            "True\n",
            "False\n",
            "Number out of range (1 to 200)\n"
          ]
        }
      ]
    },
    {
      "cell_type": "markdown",
      "source": [
        "#**Q5Create an iterator class in Python that generates the Fibonacci sequence up to a specified number of terms.**"
      ],
      "metadata": {
        "id": "t3smg_6wdEZJ"
      }
    },
    {
      "cell_type": "code",
      "source": [
        "#A5\n",
        "\n",
        "class Fibonacci:\n",
        "    def __init__(self, max_terms):\n",
        "        self.max_terms = max_terms\n",
        "        self.count = 0\n",
        "        self.a = 0\n",
        "        self.b = 1\n",
        "\n",
        "    def __iter__(self):\n",
        "        return self\n",
        "\n",
        "    def __next__(self):\n",
        "        if self.count >= self.max_terms:\n",
        "            raise StopIteration\n",
        "        if self.count == 0:\n",
        "            self.count += 1\n",
        "            return 0\n",
        "        elif self.count == 1:\n",
        "            self.count += 1\n",
        "            return 1\n",
        "        else:\n",
        "            self.a, self.b = self.b, self.a + self.b\n",
        "            self.count += 1\n",
        "            return self.a\n",
        "#example\n",
        "\n",
        "fib = Fibonacci(5)\n",
        "for num in fib:\n",
        "    print(num)"
      ],
      "metadata": {
        "colab": {
          "base_uri": "https://localhost:8080/"
        },
        "id": "AGeP7L4ZdBEU",
        "outputId": "89f55ea5-2f91-4b9d-fec8-60e39e05332b"
      },
      "execution_count": 20,
      "outputs": [
        {
          "output_type": "stream",
          "name": "stdout",
          "text": [
            "0\n",
            "1\n",
            "1\n",
            "1\n",
            "2\n"
          ]
        }
      ]
    },
    {
      "cell_type": "markdown",
      "source": [
        "#**Q6.Write a generator function in Python that yields the powers of 2 up to a given exponent**\n"
      ],
      "metadata": {
        "id": "yecg3_9FdteD"
      }
    },
    {
      "cell_type": "code",
      "source": [
        "#A6\n",
        "\n",
        "def powers_of_two(n):\n",
        "    for i in range(n + 1):\n",
        "        yield 2 ** i\n",
        "\n",
        "#Example\n",
        "\n",
        "for val in powers_of_two(4):\n",
        "    print(val)\n"
      ],
      "metadata": {
        "colab": {
          "base_uri": "https://localhost:8080/"
        },
        "id": "UlVRz6mQdX0v",
        "outputId": "35be4668-f6b0-4bc5-f161-9a9ecb8015e7"
      },
      "execution_count": 21,
      "outputs": [
        {
          "output_type": "stream",
          "name": "stdout",
          "text": [
            "1\n",
            "2\n",
            "4\n",
            "8\n",
            "16\n"
          ]
        }
      ]
    },
    {
      "cell_type": "markdown",
      "source": [
        "#**Q7 Implement a generator function that reads a file line by line and yields each line as a string.**"
      ],
      "metadata": {
        "id": "sTyL7KBxeARk"
      }
    },
    {
      "cell_type": "code",
      "metadata": {
        "colab": {
          "base_uri": "https://localhost:8080/"
        },
        "id": "18bef01c",
        "outputId": "9be9e672-6ed5-49b0-e000-c6153048085e"
      },
      "source": [
        "#A7\n",
        "def read_file_line_by_line(filename):\n",
        "    with open(filename, 'r') as file:\n",
        "        for line in file:\n",
        "            yield line.strip()\n",
        "\n",
        "#Example\n",
        "for line in read_file_line_by_line(\"data.txt\"):\n",
        "    print(line)"
      ],
      "execution_count": 26,
      "outputs": [
        {
          "output_type": "stream",
          "name": "stdout",
          "text": [
            "This is line 1\n",
            "This is line 2\n",
            "This is line 3\n"
          ]
        }
      ]
    },
    {
      "cell_type": "markdown",
      "source": [
        "#**Q8.Use a lambda function in Python to sort a list of tuples based on the second element of each tuple.**"
      ],
      "metadata": {
        "id": "GmZb9b3Ve1uH"
      }
    },
    {
      "cell_type": "code",
      "source": [
        "#A8.\n",
        "\n",
        "data = [(1, 4), (3, 1), (5, 2), (2, 3)]\n",
        "\n",
        "# Sort using lambda (based on second element)\n",
        "sorted_data = sorted(data, key=lambda x: x[1])\n",
        "\n",
        "print(sorted_data)\n"
      ],
      "metadata": {
        "colab": {
          "base_uri": "https://localhost:8080/"
        },
        "id": "0KxdrMzbe_OU",
        "outputId": "d9a50644-9af9-4afc-e54c-43a1fdbeca76"
      },
      "execution_count": 27,
      "outputs": [
        {
          "output_type": "stream",
          "name": "stdout",
          "text": [
            "[(3, 1), (5, 2), (2, 3), (1, 4)]\n"
          ]
        }
      ]
    },
    {
      "cell_type": "markdown",
      "source": [
        "#**Q9.Write a Python program that uses map() to convert a list of temperatures from Celsius to Fahrenheit.**"
      ],
      "metadata": {
        "id": "_-h0l51IfMvZ"
      }
    },
    {
      "cell_type": "code",
      "source": [
        "#A9)\n",
        "\n",
        "\n",
        "\n",
        "celsius_temps = [0, 20, 30, 37, 100]\n",
        "\n",
        "fahrenheit_temps = list(map(lambda c: (c * 9/5) + 32, celsius_temps))\n",
        "\n",
        "print(fahrenheit_temps)\n"
      ],
      "metadata": {
        "colab": {
          "base_uri": "https://localhost:8080/"
        },
        "id": "zxD-rdoYfDi-",
        "outputId": "d2ba437e-5921-4e23-9a91-dab0fe56c87e"
      },
      "execution_count": 28,
      "outputs": [
        {
          "output_type": "stream",
          "name": "stdout",
          "text": [
            "[32.0, 68.0, 86.0, 98.6, 212.0]\n"
          ]
        }
      ]
    },
    {
      "cell_type": "markdown",
      "source": [
        "#**Q10.Create a Python program that uses `filter()` to remove all the vowels from a given string**"
      ],
      "metadata": {
        "id": "C04K2cGXfZYX"
      }
    },
    {
      "cell_type": "code",
      "source": [
        "#A10)\n",
        "\n",
        "def remove_vowels(text):\n",
        "    vowels = 'aeiouAEIOU'\n",
        "    return ''.join(filter(lambda ch: ch not in vowels, text))\n",
        "\n",
        "# Example usage\n",
        "input_str = \"Hello, Python World!\"\n",
        "result = remove_vowels(input_str)\n",
        "print(result)\n"
      ],
      "metadata": {
        "colab": {
          "base_uri": "https://localhost:8080/"
        },
        "id": "p5sScZvDfYRj",
        "outputId": "59873a9a-3b24-42c9-8d06-4583f5c01385"
      },
      "execution_count": 29,
      "outputs": [
        {
          "output_type": "stream",
          "name": "stdout",
          "text": [
            "Hll, Pythn Wrld!\n"
          ]
        }
      ]
    },
    {
      "cell_type": "markdown",
      "source": [
        "#**Q11.Imagine an accounting routine used in a book shop. It works on a list with sublists, which look like this: Write a Python program, which returns a list with 2-tuples. Each tuple consists of the order number and the product of the price per item and the quantity. The product should be increased by 10,- € if the value of the order is smaller than 100,00 €. Write a Python program using lambda and map**"
      ],
      "metadata": {
        "id": "_7yheZW2ftGZ"
      }
    },
    {
      "cell_type": "code",
      "source": [
        "#A11)\n",
        "\n",
        "orders = [\n",
        "    [1001, 5, 12.00],\n",
        "    [1002, 1, 240.00],\n",
        "    [1003, 2, 45.00],\n",
        "    [1004, 3, 15.00]\n",
        "]\n",
        "\n",
        "result = list(map(\n",
        "    lambda order: (order[0], order[1]*order[2] if order[1]*order[2] >= 100 else order[1]*order[2] + 10),\n",
        "    orders\n",
        "))\n",
        "\n",
        "print(result)\n"
      ],
      "metadata": {
        "colab": {
          "base_uri": "https://localhost:8080/"
        },
        "id": "aqtmWnBEfryt",
        "outputId": "45800800-f3c3-452c-bc0e-c3419ebfdff5"
      },
      "execution_count": 30,
      "outputs": [
        {
          "output_type": "stream",
          "name": "stdout",
          "text": [
            "[(1001, 70.0), (1002, 240.0), (1003, 100.0), (1004, 55.0)]\n"
          ]
        }
      ]
    }
  ]
}