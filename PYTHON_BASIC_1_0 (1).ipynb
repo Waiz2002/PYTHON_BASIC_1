{
  "nbformat": 4,
  "nbformat_minor": 0,
  "metadata": {
    "colab": {
      "provenance": []
    },
    "kernelspec": {
      "name": "python3",
      "display_name": "Python 3"
    },
    "language_info": {
      "name": "python"
    }
  },
  "cells": [
    {
      "cell_type": "markdown",
      "source": [
        "#Python Basics Questions"
      ],
      "metadata": {
        "id": "CdCOLPdVT83T"
      }
    },
    {
      "cell_type": "markdown",
      "source": [
        "\n",
        "Q-1) What is Python, and why is it popular\n",
        "\n",
        ">A-1)Python is a high-level, interpreted, general-purpose programming language known for its simplicity and readability. Reasons for popularity:\n",
        "\n",
        "-Easy syntax similar to English\n",
        "\n",
        "-Large standard library and community support\n",
        "\n",
        "-Versatile (used in web dev, data science, automation, AI, etc.)\n",
        "\n",
        "-Cross-platform and open-source"
      ],
      "metadata": {
        "id": "F3PPw5srT4b_"
      }
    },
    {
      "cell_type": "markdown",
      "source": [
        "Q-2)What is an interpreter in Python?\n",
        "\n",
        ">A-2)An interpreter executes Python code line-by-line, converting high-level code into machine-readable instructions at runtime. Python uses the CPython interpreter by default.\n",
        "\n",
        "Q-3) What are pre-defined keywords in Python?\n",
        "\n",
        ">A-3)Keywords are reserved words that have special meaning in Python (e.g., if, else, while, True, None). They cannot be used as variable names."
      ],
      "metadata": {
        "id": "ZTL7x1kDUFyS"
      }
    },
    {
      "cell_type": "code",
      "execution_count": 2,
      "metadata": {
        "colab": {
          "base_uri": "https://localhost:8080/"
        },
        "id": "rmOdjfP8TngH",
        "outputId": "3120ae27-28bf-4cf7-8734-d72dfd04c6e8"
      },
      "outputs": [
        {
          "output_type": "stream",
          "name": "stdout",
          "text": [
            "['False', 'None', 'True', 'and', 'as', 'assert', 'async', 'await', 'break', 'class', 'continue', 'def', 'del', 'elif', 'else', 'except', 'finally', 'for', 'from', 'global', 'if', 'import', 'in', 'is', 'lambda', 'nonlocal', 'not', 'or', 'pass', 'raise', 'return', 'try', 'while', 'with', 'yield']\n"
          ]
        }
      ],
      "source": [
        "#example:\n",
        "import keyword\n",
        "print(keyword.kwlist)"
      ]
    },
    {
      "cell_type": "markdown",
      "source": [
        "Q-4)Can keywords be used as variable names?\n",
        "\n",
        ">A-4)No, keywords cannot be used as variable names. Using them will cause a SyntaxError.\n",
        "\n",
        "List item\n",
        "\n",
        "List item\n",
        "\n",
        "List item\n",
        "\n",
        "List item"
      ],
      "metadata": {
        "id": "kekbeeBqUP30"
      }
    },
    {
      "cell_type": "code",
      "source": [
        "#example (invalid)\n",
        "\n",
        "if = 5"
      ],
      "metadata": {
        "colab": {
          "base_uri": "https://localhost:8080/",
          "height": 110
        },
        "id": "NRJgC-vzTrm2",
        "outputId": "6b79682a-64cc-4f0a-bb6b-69529623786f"
      },
      "execution_count": 3,
      "outputs": [
        {
          "output_type": "error",
          "ename": "SyntaxError",
          "evalue": "invalid syntax (ipython-input-3-1283909809.py, line 3)",
          "traceback": [
            "\u001b[0;36m  File \u001b[0;32m\"/tmp/ipython-input-3-1283909809.py\"\u001b[0;36m, line \u001b[0;32m3\u001b[0m\n\u001b[0;31m    if = 5\u001b[0m\n\u001b[0m       ^\u001b[0m\n\u001b[0;31mSyntaxError\u001b[0m\u001b[0;31m:\u001b[0m invalid syntax\n"
          ]
        }
      ]
    },
    {
      "cell_type": "markdown",
      "source": [
        "Q-5) What is mutability in Python?\n",
        "\n",
        ">A-5) Mutability refers to whether an object can be changed after it’s created.\n",
        "\n",
        "-Mutable: can be changed (e.g., list, dict)\n",
        "\n",
        "-Immutable: cannot be changed (e.g., int, str, tuple)\n",
        "\n",
        "Q-6)Why are lists mutable, but tuples are immutable?\n",
        "\n",
        ">A-6) -Lists are designed for dynamic data — you can add, remove, or change items.\n",
        "\n",
        "-Tuples are fixed once created — used to protect data from being modified."
      ],
      "metadata": {
        "id": "iItV6IHDUYKC"
      }
    },
    {
      "cell_type": "code",
      "source": [
        "#Example (mutable)\n",
        "\n",
        "my_list = [1, 2, 3]\n",
        "my_list[0]=100"
      ],
      "metadata": {
        "id": "rELVNMbDUT9g"
      },
      "execution_count": 4,
      "outputs": []
    },
    {
      "cell_type": "code",
      "source": [
        "#immutable\n",
        "\n",
        "my_tuple = (1, 2, 3)\n",
        "my_tuple[0] = 100"
      ],
      "metadata": {
        "colab": {
          "base_uri": "https://localhost:8080/",
          "height": 183
        },
        "id": "ZNYE3BbfUeCp",
        "outputId": "37a7ee34-38b5-4db6-9e1f-852e23b00d6c"
      },
      "execution_count": 5,
      "outputs": [
        {
          "output_type": "error",
          "ename": "TypeError",
          "evalue": "'tuple' object does not support item assignment",
          "traceback": [
            "\u001b[0;31m---------------------------------------------------------------------------\u001b[0m",
            "\u001b[0;31mTypeError\u001b[0m                                 Traceback (most recent call last)",
            "\u001b[0;32m/tmp/ipython-input-5-2950845235.py\u001b[0m in \u001b[0;36m<cell line: 0>\u001b[0;34m()\u001b[0m\n\u001b[1;32m      2\u001b[0m \u001b[0;34m\u001b[0m\u001b[0m\n\u001b[1;32m      3\u001b[0m \u001b[0mmy_tuple\u001b[0m \u001b[0;34m=\u001b[0m \u001b[0;34m(\u001b[0m\u001b[0;36m1\u001b[0m\u001b[0;34m,\u001b[0m \u001b[0;36m2\u001b[0m\u001b[0;34m,\u001b[0m \u001b[0;36m3\u001b[0m\u001b[0;34m)\u001b[0m\u001b[0;34m\u001b[0m\u001b[0;34m\u001b[0m\u001b[0m\n\u001b[0;32m----> 4\u001b[0;31m \u001b[0mmy_tuple\u001b[0m\u001b[0;34m[\u001b[0m\u001b[0;36m0\u001b[0m\u001b[0;34m]\u001b[0m \u001b[0;34m=\u001b[0m \u001b[0;36m100\u001b[0m\u001b[0;34m\u001b[0m\u001b[0;34m\u001b[0m\u001b[0m\n\u001b[0m",
            "\u001b[0;31mTypeError\u001b[0m: 'tuple' object does not support item assignment"
          ]
        }
      ]
    },
    {
      "cell_type": "markdown",
      "source": [
        "Q-7)What is the difference between == and is operators?\n",
        "\n",
        ">A-7)\n",
        "\n",
        "== checks if values are equal.\n",
        "\n",
        "is checks if both variables refer to the same object in memory."
      ],
      "metadata": {
        "id": "3CydUj8EUjnL"
      }
    },
    {
      "cell_type": "code",
      "source": [
        "#Example\n",
        "\n",
        "a = [1, 2]\n",
        "b = [1, 2]\n",
        "print(a == b)\n",
        "print(a is b)"
      ],
      "metadata": {
        "colab": {
          "base_uri": "https://localhost:8080/"
        },
        "id": "daUejOfjUglx",
        "outputId": "2358d57a-903b-440b-d1f5-1b8717969bed"
      },
      "execution_count": 6,
      "outputs": [
        {
          "output_type": "stream",
          "name": "stdout",
          "text": [
            "True\n",
            "False\n"
          ]
        }
      ]
    },
    {
      "cell_type": "markdown",
      "source": [
        "Q-8) What are logical operators in Python?\n",
        "\n",
        ">A-8)Logical operators are used to combine boolean expressions:\n",
        "\n",
        "and: True if both are True\n",
        "\n",
        "or: True if at least one is True\n",
        "\n",
        "not: Reverses the condition"
      ],
      "metadata": {
        "id": "wui5OlVSUrv9"
      }
    },
    {
      "cell_type": "code",
      "source": [
        "#example:\n",
        "\n",
        "x = 5\n",
        "print(x > 2 and x < 10)"
      ],
      "metadata": {
        "colab": {
          "base_uri": "https://localhost:8080/"
        },
        "id": "e9Wj6x90UpK1",
        "outputId": "566cd9d9-8e33-4e88-81b6-89c5f8dfae4a"
      },
      "execution_count": 7,
      "outputs": [
        {
          "output_type": "stream",
          "name": "stdout",
          "text": [
            "True\n"
          ]
        }
      ]
    },
    {
      "cell_type": "markdown",
      "source": [
        "Q-9)What is type casting in Python?\n",
        "\n",
        ">A-9)Type casting means converting one data type to another.\n",
        "\n"
      ],
      "metadata": {
        "id": "7LPrdskPU0QV"
      }
    },
    {
      "cell_type": "code",
      "source": [
        "#Example:\n",
        "\n",
        "x = \"10\"\n",
        "y = int(x)\n",
        "\n",
        "type(y)"
      ],
      "metadata": {
        "colab": {
          "base_uri": "https://localhost:8080/"
        },
        "id": "2TDEhHepUxBz",
        "outputId": "b84e8575-73f3-4bce-b541-5d16712edfde"
      },
      "execution_count": 8,
      "outputs": [
        {
          "output_type": "execute_result",
          "data": {
            "text/plain": [
              "int"
            ]
          },
          "metadata": {},
          "execution_count": 8
        }
      ]
    },
    {
      "cell_type": "markdown",
      "source": [
        "Q-10)What is the difference between implicit and explicit type casting?\n",
        "\n",
        ">A-10) Implicit: Python automatically converts types."
      ],
      "metadata": {
        "id": "WfPbCO_-U7qF"
      }
    },
    {
      "cell_type": "code",
      "source": [
        "x = 5 + 2.0\n",
        "\n",
        "print(x)\n",
        "type(x)"
      ],
      "metadata": {
        "colab": {
          "base_uri": "https://localhost:8080/"
        },
        "id": "32JdhCYqU4f6",
        "outputId": "6fe8aaaf-bfa9-48f2-a92f-942b4808de7c"
      },
      "execution_count": 9,
      "outputs": [
        {
          "output_type": "stream",
          "name": "stdout",
          "text": [
            "7.0\n"
          ]
        },
        {
          "output_type": "execute_result",
          "data": {
            "text/plain": [
              "float"
            ]
          },
          "metadata": {},
          "execution_count": 9
        }
      ]
    },
    {
      "cell_type": "markdown",
      "source": [
        ">>Explicit: You manually convert types using functions like int(), str(), float(), etc."
      ],
      "metadata": {
        "id": "Qrk6Mb_uVF4d"
      }
    },
    {
      "cell_type": "code",
      "source": [
        "x = int(\"5\")\n",
        "\n",
        "type(x)"
      ],
      "metadata": {
        "colab": {
          "base_uri": "https://localhost:8080/"
        },
        "id": "TYF0Ii7ZVCfJ",
        "outputId": "82d4b1d5-5a55-4fcb-f44a-f26b40b06877"
      },
      "execution_count": 10,
      "outputs": [
        {
          "output_type": "execute_result",
          "data": {
            "text/plain": [
              "int"
            ]
          },
          "metadata": {},
          "execution_count": 10
        }
      ]
    },
    {
      "cell_type": "markdown",
      "source": [
        "Q-11)What is the purpose of conditional statements in Python?\n",
        "\n",
        ">A-11)Conditional statements allow decision-making in code using if, elif, and else to execute code based on conditions.\n",
        "\n",
        "Q-12)How does the elif statement work?\n",
        "\n",
        ">A-12)elif stands for \"else if\" — it checks another condition if the previous if was false"
      ],
      "metadata": {
        "id": "dZgCozYPVOPd"
      }
    },
    {
      "cell_type": "code",
      "source": [
        "#example:\n",
        "\n",
        "x = 10\n",
        "if x > 20:\n",
        "    print(\"Greater than 20\")\n",
        "elif x == 10:\n",
        "    print(\"Equal to 10\")\n",
        "else:\n",
        "    print(\"Something else\")"
      ],
      "metadata": {
        "colab": {
          "base_uri": "https://localhost:8080/"
        },
        "id": "2tfuy-EtVKrx",
        "outputId": "94105253-9fbd-436c-97b3-b7e7174e2d94"
      },
      "execution_count": 11,
      "outputs": [
        {
          "output_type": "stream",
          "name": "stdout",
          "text": [
            "Equal to 10\n"
          ]
        }
      ]
    },
    {
      "cell_type": "markdown",
      "source": [
        "Q-13) What is the difference between for and while loops?\n",
        "\n",
        ">A-13)for: used when number of iterations is known (e.g., iterating over a list)\n",
        "\n",
        "while: used when the condition is checked at each iteration, and may not know how many times"
      ],
      "metadata": {
        "id": "pIjavjRLVY-Y"
      }
    },
    {
      "cell_type": "markdown",
      "source": [
        "Q-14)Describe a scenario where a while loop is more suitable than a for loop.\n",
        "\n",
        ">A-14)Let’s say you're creating a program that asks a user to enter the correct password. You don’t know how many attempts the user might take, so you keep asking until they enter the right password."
      ],
      "metadata": {
        "id": "jZIqKyYGVpGq"
      }
    },
    {
      "cell_type": "code",
      "source": [
        "correct_password = \"python123\"\n",
        "user_input = \"\"\n",
        "\n",
        "while user_input != correct_password:\n",
        "    user_input = input(\"Enter your password: \")\n",
        "\n",
        "print(\"Access granted.\")\n",
        "\n"
      ],
      "metadata": {
        "colab": {
          "base_uri": "https://localhost:8080/"
        },
        "id": "kb7IuKeAVUV1",
        "outputId": "b45f7684-014e-4434-e14f-e75195f47cbc"
      },
      "execution_count": 19,
      "outputs": [
        {
          "output_type": "stream",
          "name": "stdout",
          "text": [
            "Enter your password: python123\n",
            "Access granted.\n"
          ]
        }
      ]
    },
    {
      "cell_type": "markdown",
      "source": [
        "#Practical Questions"
      ],
      "metadata": {
        "id": "7iEBx9u6V2Eb"
      }
    },
    {
      "cell_type": "markdown",
      "source": [
        "Q-1)Write a Python program to print \"Hello, World!y"
      ],
      "metadata": {
        "id": "pGl31F9pV6xD"
      }
    },
    {
      "cell_type": "code",
      "source": [
        "#Ans1)\n",
        "\n",
        "print('hello world')"
      ],
      "metadata": {
        "colab": {
          "base_uri": "https://localhost:8080/"
        },
        "id": "hkAuGwAaVwet",
        "outputId": "cf315bf7-3282-4084-f60e-0f6dfa59a67f"
      },
      "execution_count": 14,
      "outputs": [
        {
          "output_type": "stream",
          "name": "stdout",
          "text": [
            "hello world\n"
          ]
        }
      ]
    },
    {
      "cell_type": "markdown",
      "source": [
        "Q-1)Write a Python program that displays your name and age8"
      ],
      "metadata": {
        "id": "rHfYzxJNWhj1"
      }
    },
    {
      "cell_type": "code",
      "source": [
        "#ans-2\n",
        "\n",
        "name = 'waiz'\n",
        "age = '23'\n",
        "print('name:', name)\n",
        "print('age:', age)"
      ],
      "metadata": {
        "colab": {
          "base_uri": "https://localhost:8080/"
        },
        "id": "xbeS7yBoWBfj",
        "outputId": "a1739706-39ea-4852-d3a5-95dfba996bbb"
      },
      "execution_count": 15,
      "outputs": [
        {
          "output_type": "stream",
          "name": "stdout",
          "text": [
            "name: waiz\n",
            "age: 23\n"
          ]
        }
      ]
    },
    {
      "cell_type": "markdown",
      "source": [
        "Q-3) Write code to print all the pre-defined keywords in Python using the keyword library"
      ],
      "metadata": {
        "id": "LYY1M9pCZuXL"
      }
    },
    {
      "cell_type": "code",
      "source": [
        "#ans-3)\n",
        "\n",
        "import keyword\n",
        "\n",
        "print(keyword.kwlist)"
      ],
      "metadata": {
        "colab": {
          "base_uri": "https://localhost:8080/"
        },
        "id": "AFXqdfkiXBaV",
        "outputId": "e16f1e7d-60f9-49b8-808f-7c2311fcc2f8"
      },
      "execution_count": 1,
      "outputs": [
        {
          "output_type": "stream",
          "name": "stdout",
          "text": [
            "['False', 'None', 'True', 'and', 'as', 'assert', 'async', 'await', 'break', 'class', 'continue', 'def', 'del', 'elif', 'else', 'except', 'finally', 'for', 'from', 'global', 'if', 'import', 'in', 'is', 'lambda', 'nonlocal', 'not', 'or', 'pass', 'raise', 'return', 'try', 'while', 'with', 'yield']\n"
          ]
        }
      ]
    },
    {
      "cell_type": "markdown",
      "source": [
        "Q-4)Write a program that checks if a given word is a Python keyword."
      ],
      "metadata": {
        "id": "3rz-uae2aJ9y"
      }
    },
    {
      "cell_type": "code",
      "source": [
        "#ans-4)\n",
        "\n",
        "import keyword\n",
        "\n",
        "word = input(\"Enter a word: \")\n",
        "if keyword.iskeyword(word):\n",
        "    print(f\"'{word}' is a Python keyword.\")\n",
        "else:\n",
        "    print(f\"'{word}' is not a Python keyword.\")\n"
      ],
      "metadata": {
        "colab": {
          "base_uri": "https://localhost:8080/"
        },
        "id": "fwPkg9DLZ-6F",
        "outputId": "5a41503f-88cf-4fca-9e2a-532cefa1ac4d"
      },
      "execution_count": 5,
      "outputs": [
        {
          "output_type": "stream",
          "name": "stdout",
          "text": [
            "Enter a word: else\n",
            "'else' is a Python keyword.\n"
          ]
        }
      ]
    },
    {
      "cell_type": "markdown",
      "source": [
        "Q-5) Create a list and tuple in Python, and demonstrate how attempting to change an element works differently\n",
        "for each."
      ],
      "metadata": {
        "id": "jctcymsFa7DU"
      }
    },
    {
      "cell_type": "code",
      "source": [
        "#ans-5)\n",
        "\n",
        "#creating a list of tuple\n",
        "my_list = [10, 20, 30, 40, 50]\n",
        "my_tuple = (10, 20, 30, 40, 50)\n",
        "\n",
        "# Modify an element in the list\n",
        "print(\"Original list:\", my_list)\n",
        "my_list[1] = 200\n",
        "print(\"Modified list:\", my_list)\n",
        "\n",
        "# Attempt to modify an element in the tuple\n",
        "print(\"Original tuple:\", my_tuple)\n",
        "try:\n",
        "    my_tuple[1] = 200  # This will cause a TypeError\n",
        "except TypeError as e:\n",
        "    print(\"Error while modifying tuple:\", e)"
      ],
      "metadata": {
        "colab": {
          "base_uri": "https://localhost:8080/"
        },
        "id": "L9_AnuT7acLC",
        "outputId": "8f70d00b-0bf2-4ea3-c796-eca2d944841f"
      },
      "execution_count": 6,
      "outputs": [
        {
          "output_type": "stream",
          "name": "stdout",
          "text": [
            "Original list: [10, 20, 30, 40, 50]\n",
            "Modified list: [10, 200, 30, 40, 50]\n",
            "Original tuple: (10, 20, 30, 40, 50)\n",
            "Error while modifying tuple: 'tuple' object does not support item assignment\n"
          ]
        }
      ]
    },
    {
      "cell_type": "markdown",
      "source": [
        "Q-6)Write a function to demonstrate the behavior of mutable and immutable arguments."
      ],
      "metadata": {
        "id": "jNkxPamYcOVu"
      }
    },
    {
      "cell_type": "code",
      "source": [
        "#ans-7)\n",
        "\n",
        "def modify_arguments(mutable_list, immutable_int):\n",
        "    # Modify the list (mutable)\n",
        "    mutable_list.append(100)\n",
        "    print(\"Inside function (after modifying list):\", mutable_list)\n",
        "\n",
        "    # Try to modify the integer (immutable)\n",
        "    immutable_int += 10\n",
        "    print(\"Inside function (after modifying int):\", immutable_int)\n",
        "\n",
        "# Original values\n",
        "my_list = [1, 2, 3]\n",
        "my_int = 50\n",
        "\n",
        "# Call the function\n",
        "modify_arguments(my_list, my_int)\n",
        "\n",
        "# Check values after function call\n",
        "print(\"Outside function (list):\", my_list)\n",
        "print(\"Outside function (int):\", my_int)\n"
      ],
      "metadata": {
        "colab": {
          "base_uri": "https://localhost:8080/"
        },
        "id": "XwcKD6cHb8T0",
        "outputId": "9ffc3c3c-41d2-4c1b-c000-099ed5f96b6b"
      },
      "execution_count": 7,
      "outputs": [
        {
          "output_type": "stream",
          "name": "stdout",
          "text": [
            "Inside function (after modifying list): [1, 2, 3, 100]\n",
            "Inside function (after modifying int): 60\n",
            "Outside function (list): [1, 2, 3, 100]\n",
            "Outside function (int): 50\n"
          ]
        }
      ]
    },
    {
      "cell_type": "markdown",
      "source": [
        "Q-7)  Write a program that performs basic arithmetic operations on two user-input numbers."
      ],
      "metadata": {
        "id": "3OwBkyyTcv4C"
      }
    },
    {
      "cell_type": "code",
      "source": [
        "#ans-7)\n",
        "\n",
        "# Get input from the user\n",
        "num1 = float(input(\"Enter the first number: \"))\n",
        "num2 = float(input(\"Enter the second number: \"))\n",
        "\n",
        "# Perform arithmetic operations\n",
        "print(\"\\nArithmetic Operations:\")\n",
        "print(\"Addition:\", num1 + num2)\n",
        "print(\"Subtraction:\", num1 - num2)\n",
        "print(\"Multiplication:\", num1 * num2)\n",
        "\n",
        "# Handle division by zero\n",
        "if num2 != 0:\n",
        "    print(\"Division:\", num1 / num2)\n",
        "else:\n",
        "    print(\"Division: Cannot divide by zero\")\n"
      ],
      "metadata": {
        "colab": {
          "base_uri": "https://localhost:8080/"
        },
        "id": "L76HsEYmcixp",
        "outputId": "9b7fc485-6f47-4aa1-e71f-536a80cd668b"
      },
      "execution_count": 8,
      "outputs": [
        {
          "output_type": "stream",
          "name": "stdout",
          "text": [
            "Enter the first number: 10\n",
            "Enter the second number: 5\n",
            "\n",
            "Arithmetic Operations:\n",
            "Addition: 15.0\n",
            "Subtraction: 5.0\n",
            "Multiplication: 50.0\n",
            "Division: 2.0\n"
          ]
        }
      ]
    },
    {
      "cell_type": "markdown",
      "source": [
        "Q-8)  Write a program to demonstrate the use of logical operators.\n",
        "\n",
        "*   List item\n",
        "\n",
        "*   List item\n",
        "\n",
        "*   List item\n",
        "*   List item\n",
        "\n",
        "\n",
        "*   List item\n",
        "\n",
        "\n",
        "*   List item\n",
        "\n"
      ],
      "metadata": {
        "id": "XoEsVkbgdISc"
      }
    },
    {
      "cell_type": "code",
      "source": [
        "#ans-8)\n",
        "\n",
        "\n",
        "# Get input from user\n",
        "age = int(input(\"Enter your age: \"))\n",
        "has_license = input(\"Do you have a driving license? (yes/no): \").lower()\n",
        "\n",
        "# Convert license input to boolean\n",
        "has_license_bool = has_license == \"yes\"\n",
        "\n",
        "# Demonstrate logical operators\n",
        "print(\"\\nLogical Operator Results:\")\n",
        "\n",
        "# AND operator\n",
        "if age >= 18 and has_license_bool:\n",
        "    print(\"You are allowed to drive (age >= 18 AND has license).\")\n",
        "else:\n",
        "    print(\"You are NOT allowed to drive.\")\n",
        "\n",
        "# OR operator\n",
        "if age < 18 or not has_license_bool:\n",
        "    print(\"You either are underage OR do not have a license.\")\n",
        "\n",
        "# NOT operator\n",
        "print(\"Do you lack a license?\", not has_license_bool)\n",
        "\n"
      ],
      "metadata": {
        "colab": {
          "base_uri": "https://localhost:8080/"
        },
        "id": "l3SRPBvEdLJ6",
        "outputId": "61395a3b-190c-4966-b17a-9f71fc25eb85"
      },
      "execution_count": 9,
      "outputs": [
        {
          "output_type": "stream",
          "name": "stdout",
          "text": [
            "Enter your age: 23\n",
            "Do you have a driving license? (yes/no): yes\n",
            "\n",
            "Logical Operator Results:\n",
            "You are allowed to drive (age >= 18 AND has license).\n",
            "Do you lack a license? False\n"
          ]
        }
      ]
    },
    {
      "cell_type": "markdown",
      "source": [
        " Q-9)Write a Python program to convert user input from string to integer, float, and boolean types"
      ],
      "metadata": {
        "id": "b-AZDw2Rdheq"
      }
    },
    {
      "cell_type": "code",
      "source": [
        "#ans-9)\n",
        "\n",
        "# Get input from user\n",
        "user_input = input(\"Enter a value: \")\n",
        "\n",
        "# Convert to integer\n",
        "try:\n",
        "    int_value = int(user_input)\n",
        "    print(\"Integer:\", int_value)\n",
        "except ValueError:\n",
        "    print(\"Cannot convert to Integer.\")\n",
        "\n",
        "# Convert to float\n",
        "try:\n",
        "    float_value = float(user_input)\n",
        "    print(\"Float:\", float_value)\n",
        "except ValueError:\n",
        "    print(\"Cannot convert to Float.\")\n",
        "\n",
        "# Convert to boolean\n",
        "# Any non-empty string is True, empty string is False\n",
        "bool_value = bool(user_input)\n",
        "print(\"Boolean:\", bool_value)"
      ],
      "metadata": {
        "colab": {
          "base_uri": "https://localhost:8080/"
        },
        "id": "AW8DsyMjc7R7",
        "outputId": "2d30b116-7c71-4bcd-f29c-24b60faa58cc"
      },
      "execution_count": 10,
      "outputs": [
        {
          "output_type": "stream",
          "name": "stdout",
          "text": [
            "Enter a value: 120\n",
            "Integer: 120\n",
            "Float: 120.0\n",
            "Boolean: True\n"
          ]
        }
      ]
    },
    {
      "cell_type": "markdown",
      "source": [
        "Q-10)  Write code to demonstrate type casting with list elements"
      ],
      "metadata": {
        "id": "9wyv2MXXd4mN"
      }
    },
    {
      "cell_type": "code",
      "source": [
        "#ans-10)\n",
        "\n",
        "# Original list of string numbers\n",
        "string_list = [\"10\", \"20\", \"30\", \"0\", \"\"]\n",
        "\n",
        "# Convert to integers\n",
        "try:\n",
        "    int_list = [int(x) for x in string_list if x != \"\"]\n",
        "    print(\"Integer list:\", int_list)\n",
        "except ValueError as e:\n",
        "    print(\"Error converting to int:\", e)\n",
        "\n",
        "# Convert to floats\n",
        "try:\n",
        "    float_list = [float(x) for x in string_list if x != \"\"]\n",
        "    print(\"Float list:\", float_list)\n",
        "except ValueError as e:\n",
        "    print(\"Error converting to float:\", e)\n",
        "\n",
        "# Convert to booleans\n",
        "bool_list = [bool(x) for x in string_list]\n",
        "print(\"Boolean list:\", bool_list)\n",
        "\n"
      ],
      "metadata": {
        "colab": {
          "base_uri": "https://localhost:8080/"
        },
        "id": "0RPg3sA6dkhK",
        "outputId": "1604c548-f803-41f5-cd0a-345096caf3c7"
      },
      "execution_count": 11,
      "outputs": [
        {
          "output_type": "stream",
          "name": "stdout",
          "text": [
            "Integer list: [10, 20, 30, 0]\n",
            "Float list: [10.0, 20.0, 30.0, 0.0]\n",
            "Boolean list: [True, True, True, True, False]\n"
          ]
        }
      ]
    },
    {
      "cell_type": "markdown",
      "source": [
        "Q-11)  Write a program that checks if a number is positive, negative, or zero."
      ],
      "metadata": {
        "id": "OaTZJfxAeGTF"
      }
    },
    {
      "cell_type": "code",
      "source": [
        "#ans-11)\n",
        "\n",
        "# Get input from user\n",
        "num = float(input(\"Enter a number: \"))\n",
        "\n",
        "# Check the number type\n",
        "if num > 0:\n",
        "    print(\"The number is positive.\")\n",
        "elif num < 0:\n",
        "    print(\"The number is negative.\")\n",
        "else:\n",
        "    print(\"The number is zero.\")\n"
      ],
      "metadata": {
        "colab": {
          "base_uri": "https://localhost:8080/"
        },
        "id": "KL0u_mkGeE-X",
        "outputId": "a5542a55-36ee-496c-8a20-9a85342cf942"
      },
      "execution_count": 12,
      "outputs": [
        {
          "output_type": "stream",
          "name": "stdout",
          "text": [
            "Enter a number: -7\n",
            "The number is negative.\n"
          ]
        }
      ]
    },
    {
      "cell_type": "markdown",
      "source": [
        "Q-12) Write a for loop to print numbers from 1 to **10**"
      ],
      "metadata": {
        "id": "TlwGiasweddq"
      }
    },
    {
      "cell_type": "code",
      "source": [
        "#ans-12)\n",
        "\n",
        "for i in range(1, 11):\n",
        "    print(i)\n",
        "\n"
      ],
      "metadata": {
        "colab": {
          "base_uri": "https://localhost:8080/"
        },
        "id": "4X1lihzmeXnH",
        "outputId": "05d79a7b-a698-4fe8-9795-7e86cf5cf578"
      },
      "execution_count": 13,
      "outputs": [
        {
          "output_type": "stream",
          "name": "stdout",
          "text": [
            "1\n",
            "2\n",
            "3\n",
            "4\n",
            "5\n",
            "6\n",
            "7\n",
            "8\n",
            "9\n",
            "10\n"
          ]
        }
      ]
    },
    {
      "cell_type": "markdown",
      "source": [
        "Q-13)  Write a Python program to find the sum of all even numbers between 1 and 50"
      ],
      "metadata": {
        "id": "AJNh4Zo_exku"
      }
    },
    {
      "cell_type": "code",
      "source": [
        "#ans-13)\n",
        "even_sum = 0\n",
        "\n",
        "for num in range(1, 51):\n",
        "    if num % 2 == 0:\n",
        "        even_sum += num\n",
        "\n",
        "print(\"Sum of even numbers from 1 to 50 is:\", even_sum)\n"
      ],
      "metadata": {
        "colab": {
          "base_uri": "https://localhost:8080/"
        },
        "id": "-pitzsB3e8WP",
        "outputId": "8dcf1bb0-52f7-4416-ae10-daef8a189207"
      },
      "execution_count": 14,
      "outputs": [
        {
          "output_type": "stream",
          "name": "stdout",
          "text": [
            "Sum of even numbers from 1 to 50 is: 650\n"
          ]
        }
      ]
    },
    {
      "cell_type": "markdown",
      "source": [
        "Q-14) Write a program to reverse a string using a while loop.\n"
      ],
      "metadata": {
        "id": "HfvCoZ9SfIvB"
      }
    },
    {
      "cell_type": "code",
      "source": [
        "#ans-14)\n",
        "\n",
        "# Get input from user\n",
        "text = input(\"Enter a string: \")\n",
        "\n",
        "# Initialize variables\n",
        "reversed_str = \"\"\n",
        "index = len(text) - 1\n",
        "\n",
        "# Reverse using while loop\n",
        "while index >= 0:\n",
        "    reversed_str += text[index]\n",
        "    index -= 1\n",
        "\n",
        "print(\"Reversed string:\", reversed_str)\n"
      ],
      "metadata": {
        "colab": {
          "base_uri": "https://localhost:8080/"
        },
        "id": "LzKATpfLfOPm",
        "outputId": "6dcab73f-3fed-4b5b-f80f-f23a0a671224"
      },
      "execution_count": 15,
      "outputs": [
        {
          "output_type": "stream",
          "name": "stdout",
          "text": [
            "Enter a string: python\n",
            "Reversed string: nohtyp\n"
          ]
        }
      ]
    },
    {
      "cell_type": "markdown",
      "source": [
        "Q-15) Write a Python program to calculate the factorial of a number provided by the user using a while loop"
      ],
      "metadata": {
        "id": "KljztweAfV_x"
      }
    },
    {
      "cell_type": "code",
      "source": [
        "#ans-15)\n",
        "\n",
        "# Get input from user\n",
        "num = int(input(\"Enter a non-negative integer: \"))\n",
        "\n",
        "# Check if input is valid\n",
        "if num < 0:\n",
        "    print(\"Factorial is not defined for negative numbers.\")\n",
        "else:\n",
        "    factorial = 1\n",
        "    i = 1\n",
        "\n",
        "    while i <= num:\n",
        "        factorial *= i\n",
        "        i += 1\n",
        "\n",
        "    print(f\"The factorial of {num} is:\", factorial)\n"
      ],
      "metadata": {
        "colab": {
          "base_uri": "https://localhost:8080/"
        },
        "id": "loCPd9SUfdDy",
        "outputId": "44dbeaac-4670-4cba-adc5-c38f0a55d82c"
      },
      "execution_count": 16,
      "outputs": [
        {
          "output_type": "stream",
          "name": "stdout",
          "text": [
            "Enter a non-negative integer: 5\n",
            "The factorial of 5 is: 120\n"
          ]
        }
      ]
    },
    {
      "cell_type": "code",
      "source": [],
      "metadata": {
        "id": "0wgwwMjlewZE"
      },
      "execution_count": null,
      "outputs": []
    }
  ]
}