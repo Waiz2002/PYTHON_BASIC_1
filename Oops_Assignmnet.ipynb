{
  "nbformat": 4,
  "nbformat_minor": 0,
  "metadata": {
    "colab": {
      "provenance": []
    },
    "kernelspec": {
      "name": "python3",
      "display_name": "Python 3"
    },
    "language_info": {
      "name": "python"
    }
  },
  "cells": [
    {
      "cell_type": "markdown",
      "source": [
        "#**Python OOPs Theory Questions**"
      ],
      "metadata": {
        "id": "2_bl_BJsz5rc"
      }
    },
    {
      "cell_type": "markdown",
      "source": [
        "#**Q1)What is Object-Oriented Programming (OOP)?**\n",
        "A1)Object-Oriented Programming (OOP) is a programming style where we design programs using \"objects\". An object is like a real-world thing that has some data (called properties) and functions (called methods).\n",
        "\n",
        "OOP makes it easier to manage and reuse code by organizing it into small parts. Its main features are:\n",
        "\n",
        "Encapsulation – keeping data and functions together.\n",
        "\n",
        "Inheritance – using features of one class in another.\n",
        "\n",
        "Polymorphism – same function acting differently in different situations.\n",
        "\n",
        "Abstraction – showing only important details.\n",
        "\n",
        "Languages like Java, Python, and C++ use OOP to build better programs."
      ],
      "metadata": {
        "id": "SCSAg9Jz0DqR"
      }
    },
    {
      "cell_type": "markdown",
      "source": [
        "#**Q2)What is a class in OOP?**\n",
        "A2)In Object-Oriented Programming (OOP), a class is like a blueprint or template used to create objects. It defines the properties (data) and methods (functions) that the objects will have.\n",
        "\n",
        "For example, if we have a class called Car, it can have properties like color, brand, and speed, and methods like start() or stop(). Using this class, we can create many car objects with different values.\n",
        "\n",
        "So basically, a class helps in organizing and reusing code in a neat and structured way."
      ],
      "metadata": {
        "id": "gpGBFT0B0rn7"
      }
    },
    {
      "cell_type": "markdown",
      "source": [
        "#**Q3)What is an object in OOP?**\n",
        "A3)An object in Object-Oriented Programming is an instance of a class. It is a real thing created using the class as a template.\n",
        "\n",
        "An object has:\n",
        "\n",
        "Properties (also called attributes) — like name, color, or age\n",
        "\n",
        "Methods — actions the object can perform\n",
        "\n",
        "For example, if Car is a class, then a red BMW car is an object of that class. Each object can have different values for its properties but shares the same structure defined by the class."
      ],
      "metadata": {
        "id": "QmCoRQzk1DWo"
      }
    },
    {
      "cell_type": "markdown",
      "source": [
        "#**Q4)What is the difference between abstraction and encapsulation?**\n",
        "A4)Abstraction and Encapsulation are both important concepts in Object-Oriented Programming, but they are different:\n",
        "\n",
        "Abstraction means hiding the complex details and showing only the important parts. It helps the user focus on what an object does, not how it does it.\n",
        "👉 Example: When you drive a car, you use the steering and brakes, but you don’t see how the engine works inside.\n",
        "\n",
        "Encapsulation means wrapping data and methods together into a single unit (class), and restricting direct access to some parts of it.\n",
        "👉 Example: In a class, private variables cannot be accessed directly from outside. You use methods (getters/setters) to access them.\n",
        "\n",
        "In short:\n",
        "\n",
        "Abstraction = Hiding what's not needed\n",
        "\n",
        "Encapsulation = Hiding how it’s done and protecting data"
      ],
      "metadata": {
        "id": "TaFzyIuR1Q4F"
      }
    },
    {
      "cell_type": "markdown",
      "source": [
        "#**Q5)What are dunder methods in Python**\n",
        "A5)In Python, dunder methods are special functions that start and end with double underscores (like __init__, __str__). The word “dunder” just means double underscore.\n",
        "\n",
        "These methods let us change how objects behave with built-in functions or operators. For example:\n",
        "\n",
        "__init__() runs when we create a new object.\n",
        "\n",
        "__str__() runs when we print the object.\n",
        "\n",
        "__len__(), __add__() and many others also work like this.\n",
        "\n",
        "We don’t call these methods directly — Python does it for us. They’re mostly used to make objects behave in a more useful or readable way.\n",
        "\n"
      ],
      "metadata": {
        "id": "5XoWHlLa1i6q"
      }
    },
    {
      "cell_type": "markdown",
      "source": [
        "#**Q6)Explain the concept of inheritance in OOP.**\n",
        "A6)Inheritance in Object-Oriented Programming (OOP) means that one class can use the properties and methods of another class. It helps us reuse code and avoid writing the same things again.\n",
        "\n",
        "The class that gives its features is called the parent class (or base class), and the class that gets those features is called the child class (or derived class).\n",
        "\n",
        "For example, if we have a class Animal with a method make_sound(), and we create a class Dog that inherits from Animal, then Dog will also have the make_sound() method, even without writing it again.\n",
        "\n",
        "Inheritance also allows us to add new features in the child class or change the existing ones.\n",
        "\n"
      ],
      "metadata": {
        "id": "xj1yBVU-18r0"
      }
    },
    {
      "cell_type": "markdown",
      "source": [
        "#**Q7)What is polymorphism in OOP?**\n",
        "A7)Polymorphism in Object-Oriented Programming means the ability of different objects to use the same method in their own way. In simple words, same function name, but different behavior depending on the object.\n",
        "\n",
        "For example, if we have a method called speak() in different classes like Dog and Cat, then:\n",
        "\n",
        "Dog.speak() might return \"Bark\"\n",
        "\n",
        "Cat.speak() might return \"Meow\"\n",
        "\n",
        "Even though the method name is same, the output is different based on the object. This makes the code cleaner and easier to manage.\n",
        "\n",
        "There are two types:\n",
        "\n",
        "Compile-time polymorphism (like method overloading)\n",
        "\n",
        "Run-time polymorphism (like method overriding)"
      ],
      "metadata": {
        "id": "8xe2wbNn2QCN"
      }
    },
    {
      "cell_type": "markdown",
      "source": [
        "#**Q8)How is encapsulation achieved in Python?**\n",
        "A8)Encapsulation in Python is done by keeping the internal details of a class hidden from outside. This is usually done by making variables private using underscores and accessing them through methods.\n",
        "\n",
        "It helps in protecting data from direct access and keeps the code more secure and clean. We control what can be seen or changed from outside the class.\n",
        "\n"
      ],
      "metadata": {
        "id": "nZwBt7y72mzg"
      }
    },
    {
      "cell_type": "markdown",
      "source": [
        "#**Q9)What is a constructor in Python?**\n",
        "A9)A constructor in Python is a special method that runs automatically when an object is created from a class. It is used to initialize the object’s data when it is first made.\n",
        "\n",
        "In Python, the constructor method is called __init__(). It sets the initial values of variables or performs setup tasks for the object.\n",
        "\n",
        "Using a constructor makes sure that every object starts with proper data as soon as it's created."
      ],
      "metadata": {
        "id": "geLszYxd21yn"
      }
    },
    {
      "cell_type": "markdown",
      "source": [
        "#**Q10)What are class and static methods in Python?**\n",
        "A10)In Python, class methods and static methods are special types of methods used inside classes.\n",
        "\n",
        "A class method works with the class itself, not just the object. It can access or change class-level data. It uses @classmethod decorator and takes cls as the first parameter.\n",
        "\n",
        "A static method doesn’t use the class or object data. It’s like a regular function placed inside a class for better structure. It uses @staticmethod decorator and doesn’t take self or cls.\n",
        "\n",
        "Both are used to organize code better depending on what kind of task the method is doing."
      ],
      "metadata": {
        "id": "oMBnFQv53HEX"
      }
    },
    {
      "cell_type": "markdown",
      "source": [
        "#**Q11)What is method overloading in Python?**\n",
        "A11)Method overloading means having multiple methods with the same name but different number or types of arguments.\n",
        "\n",
        "In many languages it's directly supported, but in Python, method overloading is not done in the traditional way. Instead, we can use default arguments or handle different cases inside a single method.\n",
        "\n",
        "It gives flexibility to use the same method name for different types of input."
      ],
      "metadata": {
        "id": "CvM-qZZ23jPk"
      }
    },
    {
      "cell_type": "markdown",
      "source": [
        "#**Q12)What is method overriding in OOP?**\n",
        "A12)Method overriding happens when a child class has a method with the same name as a method in its parent class.\n",
        "\n",
        "In this case, the child class replaces or changes the behavior of the parent class method. It allows the child class to give its own version of the method.\n",
        "\n",
        "This is useful when we want the same method name but different functionality depending on the class.\n",
        "\n"
      ],
      "metadata": {
        "id": "KTbbjMln3w6L"
      }
    },
    {
      "cell_type": "markdown",
      "source": [
        "#**Q13)What is a property decorator in Python?**\n",
        "A13)In Python, the property decorator (@property) is used to turn a method into a read-only attribute. It allows us to access a method like a variable, without using parentheses.\n",
        "\n",
        "This is helpful when we want to control access to private data but still use a clean and simple syntax. It keeps the code neat and hides the internal logic from the user."
      ],
      "metadata": {
        "id": "lD5ASs9R4Qvu"
      }
    },
    {
      "cell_type": "markdown",
      "source": [
        "#**Q14)Why is polymorphism important in OOP?**\n",
        "A14)Polymorphism is important in OOP because it allows the same method or operation to work differently depending on the object. This makes the code more flexible, reusable, and easier to maintain.\n",
        "\n",
        "With polymorphism, we can write one function that works with different types of objects, which helps in writing clean and scalable programs."
      ],
      "metadata": {
        "id": "-Nv0hnY-4c5c"
      }
    },
    {
      "cell_type": "markdown",
      "source": [
        "#**Q15)What is an abstract class in Python?**\n",
        "A15)An abstract class in Python is a class that cannot be directly used to create objects. It is meant to be a base class that defines a structure for other classes.\n",
        "\n",
        "It can have one or more abstract methods, which are methods without any code. The child class must provide the actual implementation for those methods.\n",
        "\n",
        "Abstract classes are used when we want to make sure that certain methods are always defined in the subclasses."
      ],
      "metadata": {
        "id": "khBJzaYKLWZ1"
      }
    },
    {
      "cell_type": "markdown",
      "source": [
        "#**Q16)What are the advantages of OOP?**\n",
        "A16)Object-Oriented Programming (OOP) has many advantages:\n",
        "\n",
        "Code Reusability – We can reuse code using inheritance, which saves time and effort.\n",
        "\n",
        "Better Organization – Programs are divided into objects, making the code easier to manage.\n",
        "\n",
        "Data Security – Encapsulation helps in protecting data from unwanted access.\n",
        "\n",
        "Easier Maintenance – Code is easier to update and fix when it’s organized in classes.\n",
        "\n",
        "Real-world Mapping – OOP is closer to how real-world systems work, which makes it easier to design."
      ],
      "metadata": {
        "id": "ws0uCMLQLttG"
      }
    },
    {
      "cell_type": "markdown",
      "source": [
        "#**Q17)What is the difference between a class variable and an instance variable?**\n",
        "A17)A class variable is shared by all objects of the class. If we change it, the change is seen by every object.\n",
        "\n",
        "An instance variable is unique to each object. Changing it in one object doesn’t affect the others.\n",
        "\n",
        "In short:\n",
        "\n",
        "Class variable = same for all objects\n",
        "\n",
        "Instance variable = different for each object"
      ],
      "metadata": {
        "id": "dNyoLy_PL-7E"
      }
    },
    {
      "cell_type": "markdown",
      "source": [
        "#**Q18)What is multiple inheritance in Python?**\n",
        "A18)Multiple inheritance in Python means that a class can inherit from more than one parent class at the same time.\n",
        "\n",
        "This allows the child class to use features (methods and variables) from multiple classes, which helps in combining different functionalities into one class.\n",
        "\n",
        "Python supports multiple inheritance directly using class definitions."
      ],
      "metadata": {
        "id": "XLMJ36rfMS7l"
      }
    },
    {
      "cell_type": "markdown",
      "source": [
        "#**Q19)Explain the purpose of ‘’__str__’ and ‘__repr__’ ‘ methods in Python.**\n",
        "A19)The **__str__** method is used to return a user-friendly string when we print an object. It’s meant for humans to read.\n",
        "\n",
        "The **__repr__** method returns a more detailed and technical string, mainly for developers. It shows how the object can be recreated.\n",
        "\n",
        "If both are defined, print(object) will use __str__. If __str__ is missing, Python will use __repr__ instead."
      ],
      "metadata": {
        "id": "rZVh8Ge9Mq6j"
      }
    },
    {
      "cell_type": "markdown",
      "source": [
        "#**Q20)What is the significance of the ‘super()’ function in Python?**\n",
        "A20)The **super()** function in Python is used to call methods from the parent class inside a child class.\n",
        "\n",
        "It is mostly used in inheritance, especially to call the parent class’s __init__() method or any other method without writing the parent class name directly.\n",
        "\n",
        "Using super() helps keep the code clean, maintainable, and supports multiple inheritance better."
      ],
      "metadata": {
        "id": "SPxYZYe3M84X"
      }
    },
    {
      "cell_type": "markdown",
      "source": [
        "#**Q21)What is the significance of the __del__ method in Python?**\n",
        "A21)The __del__ method in Python is a special method called when an object is about to be deleted or destroyed.\n",
        "\n",
        "It is mainly used to clean up resources like closing files or disconnecting from a database before the object is removed from memory.\n",
        "\n",
        "It works like a destructor, and Python calls it automatically when the object is no longer needed.\n",
        "\n"
      ],
      "metadata": {
        "id": "3EasdRMHNU12"
      }
    },
    {
      "cell_type": "markdown",
      "source": [
        "#**Q22) What is the difference between @staticmethod and @classmethod in Python?**\n",
        "A22)A @staticmethod is a method that does not use the class or instance. It works like a regular function inside a class. It doesn’t take self or cls as a parameter.\n",
        "\n",
        "A @classmethod works with the class itself, not the object. It takes cls as the first argument and can access or change class-level data.\n",
        "\n",
        "In short:\n",
        "\n",
        "@staticmethod → no access to class or instance\n",
        "\n",
        "@classmethod → access to the class, not the object\n",
        "\n"
      ],
      "metadata": {
        "id": "343X9C2QNs5O"
      }
    },
    {
      "cell_type": "markdown",
      "source": [
        "#**Q23)How does polymorphism work in Python with inheritance?**\n",
        "A23)When we call that method using an object, Python decides at runtime which version to run — the one from the parent or the one from the child. This allows different classes to have different behaviors using the same method name."
      ],
      "metadata": {
        "id": "523jWaSFOEMs"
      }
    },
    {
      "cell_type": "markdown",
      "source": [
        "#**Q24)What is method chaining in Python OOP?**\n",
        "A24)Method chaining in Python means calling multiple methods on the same object in a single line, one after another.\n",
        "\n",
        "This works when each method returns the object itself (self), allowing the next method to be called right after.\n",
        "\n",
        "It helps make the code shorter, cleaner, and more readable, especially when working with objects that go through a series of changes or actions."
      ],
      "metadata": {
        "id": "8IP51Hj_Oiu2"
      }
    },
    {
      "cell_type": "markdown",
      "source": [
        "#**Q25)What is the purpose of the __call__ method in Python?**\n",
        "A25)The __call__ method in Python lets an object behave like a function. When we define __call__ in a class, we can use its object with parentheses, like calling a regular function.\n",
        "\n",
        "It’s useful when we want an object to perform an action directly without calling a specific method name.\n",
        "\n",
        "In simple words, it makes the object callable like a function."
      ],
      "metadata": {
        "id": "cgcvT_kMOwUF"
      }
    },
    {
      "cell_type": "markdown",
      "source": [
        "#**Practical Questions**"
      ],
      "metadata": {
        "id": "Dzfk8Z1HPDLQ"
      }
    },
    {
      "cell_type": "markdown",
      "source": [
        "#**Q1) Create a parent class Animal with a method speak() that prints a generic message. Create a child class Dog that overrides the speak() method to print \"Bark!\"**\n"
      ],
      "metadata": {
        "id": "xa3HzLf5PIgT"
      }
    },
    {
      "cell_type": "code",
      "execution_count": 1,
      "metadata": {
        "colab": {
          "base_uri": "https://localhost:8080/"
        },
        "id": "thu6YJ_gyLp5",
        "outputId": "b30d2540-3a94-4025-c382-0fa29b4ceaeb"
      },
      "outputs": [
        {
          "output_type": "stream",
          "name": "stdout",
          "text": [
            "The animal makes a sound.\n",
            "Bark!\n"
          ]
        }
      ],
      "source": [
        "#A1)\n",
        "\n",
        "class Animal:\n",
        "    def speak(self):\n",
        "        print(\"The animal makes a sound.\")\n",
        "\n",
        "class Dog(Animal):\n",
        "    def speak(self):\n",
        "        print(\"Bark!\")\n",
        "\n",
        "# Example usage:\n",
        "a = Animal()\n",
        "a.speak()\n",
        "\n",
        "d = Dog()\n",
        "d.speak()"
      ]
    },
    {
      "cell_type": "markdown",
      "source": [
        "#**Q2)Write a program to create an abstract class Shape with a method area(). Derive classes Circle and Rectangle from it and implement the area() method in both.**"
      ],
      "metadata": {
        "id": "cENaUyHWPotd"
      }
    },
    {
      "cell_type": "code",
      "source": [
        "#A2)\n",
        "\n",
        "from abc import ABC, abstractmethod\n",
        "import math\n",
        "\n",
        "class Shape(ABC):\n",
        "    @abstractmethod\n",
        "    def area(self):\n",
        "        pass\n",
        "\n",
        "class Circle(Shape):\n",
        "    def __init__(self, radius):\n",
        "        self.radius = radius\n",
        "\n",
        "    def area(self):\n",
        "        return math.pi * self.radius * self.radius\n",
        "\n",
        "\n",
        "class Rectangle(Shape):\n",
        "    def __init__(self, length, width):\n",
        "        self.length = length\n",
        "        self.width = width\n",
        "\n",
        "    def area(self):\n",
        "        return self.length * self.width\n",
        "\n",
        "\n",
        "c = Circle(5)\n",
        "r = Rectangle(4, 6)\n",
        "\n",
        "print(\"Area of circle:\", c.area())\n",
        "print(\"Area of rectangle:\", r.area())\n"
      ],
      "metadata": {
        "colab": {
          "base_uri": "https://localhost:8080/"
        },
        "id": "VhDq3GChPj8S",
        "outputId": "1230ea98-b309-4eb1-8c25-677aa7c41c41"
      },
      "execution_count": 2,
      "outputs": [
        {
          "output_type": "stream",
          "name": "stdout",
          "text": [
            "Area of circle: 78.53981633974483\n",
            "Area of rectangle: 24\n"
          ]
        }
      ]
    },
    {
      "cell_type": "markdown",
      "source": [
        "#**Q3)Implement a multi-level inheritance scenario where a class Vehicle has an attribute type. Derive a class Car and further derive a class ElectricCar that adds a battery attribute.**"
      ],
      "metadata": {
        "id": "2w0VLW1iP_TA"
      }
    },
    {
      "cell_type": "code",
      "source": [
        "#A3)\n",
        "\n",
        "# Base class\n",
        "class Vehicle:\n",
        "    def __init__(self, vehicle_type):\n",
        "        self.type = vehicle_type\n",
        "\n",
        "# First derived class\n",
        "class Car(Vehicle):\n",
        "    def __init__(self, vehicle_type, brand):\n",
        "        super().__init__(vehicle_type)\n",
        "        self.brand = brand\n",
        "\n",
        "# Second derived class (multi-level)\n",
        "class ElectricCar(Car):\n",
        "    def __init__(self, vehicle_type, brand, battery):\n",
        "        super().__init__(vehicle_type, brand)\n",
        "        self.battery = battery\n",
        "\n",
        "    def display_info(self):\n",
        "        print(\"Type:\", self.type)\n",
        "        print(\"Brand:\", self.brand)\n",
        "        print(\"Battery:\", self.battery)\n",
        "\n",
        "# Example\n",
        "e_car = ElectricCar(\"Electric\", \"Tesla\", \"75 kWh\")\n",
        "e_car.display_info()\n"
      ],
      "metadata": {
        "colab": {
          "base_uri": "https://localhost:8080/"
        },
        "id": "DdNPF41jP9SW",
        "outputId": "8bcdbfd7-277c-4ee4-ef3e-db5971d785ca"
      },
      "execution_count": 3,
      "outputs": [
        {
          "output_type": "stream",
          "name": "stdout",
          "text": [
            "Type: Electric\n",
            "Brand: Tesla\n",
            "Battery: 75 kWh\n"
          ]
        }
      ]
    },
    {
      "cell_type": "markdown",
      "source": [
        "#**Q4)Demonstrate polymorphism by creating a base class Bird with a method f().Create two derived classes Sparrow and Penguin that override the fly() method.**"
      ],
      "metadata": {
        "id": "1mJXghmjRQFQ"
      }
    },
    {
      "cell_type": "code",
      "source": [
        "#A4)\n",
        "\n",
        "class Bird:\n",
        "    def fly(self):\n",
        "        print(\"Some birds can fly.\")\n",
        "\n",
        "# Derived class 1\n",
        "class Sparrow(Bird):\n",
        "    def fly(self):\n",
        "        print(\"Sparrow flies high in the sky.\")\n",
        "\n",
        "# Derived class 2\n",
        "class Penguin(Bird):\n",
        "    def fly(self):\n",
        "        print(\"Penguins cannot fly, they swim.\")\n",
        "\n",
        "# Polymorphism in action\n",
        "def show_flight(bird):\n",
        "    bird.fly()\n",
        "\n",
        "# Example usage:\n",
        "b1 = Sparrow()\n",
        "b2 = Penguin()\n",
        "\n",
        "show_flight(b1)\n",
        "show_flight(b2)"
      ],
      "metadata": {
        "colab": {
          "base_uri": "https://localhost:8080/"
        },
        "id": "zwy0tANZQRT6",
        "outputId": "63c53eb1-8249-4763-dabc-5763b44fc77b"
      },
      "execution_count": 5,
      "outputs": [
        {
          "output_type": "stream",
          "name": "stdout",
          "text": [
            "Sparrow flies high in the sky.\n",
            "Penguins cannot fly, they swim.\n"
          ]
        }
      ]
    },
    {
      "cell_type": "markdown",
      "source": [
        "#**Q5) Write a program to demonstrate encapsulation by creating a class BankAccount with private attributes balance and methods to deposit, withdraw, and check balance.**"
      ],
      "metadata": {
        "id": "95tBzSJvRvpz"
      }
    },
    {
      "cell_type": "code",
      "source": [
        "#A5)\n",
        "\n",
        "class BankAccount:\n",
        "    def __init__(self, initial_balance):\n",
        "        self.__balance = initial_balance\n",
        "    def deposit(self, amount):\n",
        "        if amount > 0:\n",
        "            self.__balance += amount\n",
        "            print(f\"Deposited: {amount}\")\n",
        "        else:\n",
        "            print(\"Invalid deposit amount.\")\n",
        "\n",
        "    def withdraw(self, amount):\n",
        "        if 0 < amount <= self.__balance:\n",
        "            self.__balance -= amount\n",
        "            print(f\"Withdrawn: {amount}\")\n",
        "        else:\n",
        "            print(\"Insufficient balance or invalid amount.\")\n",
        "\n",
        "    def check_balance(self):\n",
        "        print(f\"Current balance: {self.__balance}\")\n",
        "\n",
        "# Example :\n",
        "account = BankAccount(1000)\n",
        "account.deposit(500)\n",
        "account.withdraw(300)\n",
        "account.check_balance()\n"
      ],
      "metadata": {
        "colab": {
          "base_uri": "https://localhost:8080/"
        },
        "id": "ghN2ylFzRsZy",
        "outputId": "e18bcb20-3291-44d0-b103-972a8d0ce8ee"
      },
      "execution_count": 6,
      "outputs": [
        {
          "output_type": "stream",
          "name": "stdout",
          "text": [
            "Deposited: 500\n",
            "Withdrawn: 300\n",
            "Current balance: 1200\n"
          ]
        }
      ]
    },
    {
      "cell_type": "markdown",
      "source": [
        "#**Q6) Demonstrate runtime polymorphism using a method play() in a base class Instrument. Derive classes Guitar and Piano that implement their own version of play().**"
      ],
      "metadata": {
        "id": "fACj0jpHStnx"
      }
    },
    {
      "cell_type": "code",
      "source": [
        "#A6)\n",
        "\n",
        "\n",
        "class Instrument:\n",
        "    def play(self):\n",
        "        print(\"Playing an instrument.\")\n",
        "\n",
        "\n",
        "class Guitar(Instrument):\n",
        "    def play(self):\n",
        "        print(\"Strumming the guitar.\")\n",
        "\n",
        "\n",
        "class Piano(Instrument):\n",
        "    def play(self):\n",
        "        print(\"Playing the piano keys.\")\n",
        "\n",
        "\n",
        "def start_playing(instrument):\n",
        "    instrument.play()\n",
        "\n",
        "# Example\n",
        "i1 = Guitar()\n",
        "i2 = Piano()\n",
        "\n",
        "start_playing(i1)\n",
        "start_playing(i2)"
      ],
      "metadata": {
        "colab": {
          "base_uri": "https://localhost:8080/"
        },
        "id": "rN-VrEJnSsGZ",
        "outputId": "564ce512-ed2f-4662-d55a-1e884a4b44aa"
      },
      "execution_count": 7,
      "outputs": [
        {
          "output_type": "stream",
          "name": "stdout",
          "text": [
            "Strumming the guitar.\n",
            "Playing the piano keys.\n"
          ]
        }
      ]
    },
    {
      "cell_type": "markdown",
      "source": [
        "#**Q7) Create a class MathOperations with a class method add_numbers() to add two numbers and a static method subtract_numbers() to subtract two numbers.**\n"
      ],
      "metadata": {
        "id": "eOFfHG5DTRNy"
      }
    },
    {
      "cell_type": "code",
      "source": [
        "#A7)\n",
        "\n",
        "class MathOperations:\n",
        "\n",
        "    @classmethod\n",
        "    def add_numbers(cls, a, b):\n",
        "        return a + b\n",
        "\n",
        "    @staticmethod\n",
        "    def subtract_numbers(a, b):\n",
        "        return a - b\n",
        "\n",
        "# Example\n",
        "print(\"Addition:\", MathOperations.add_numbers(10, 5))\n",
        "print(\"Subtraction:\", MathOperations.subtract_numbers(10, 5))\n",
        "\n"
      ],
      "metadata": {
        "colab": {
          "base_uri": "https://localhost:8080/"
        },
        "id": "DfOWD0v7TNIz",
        "outputId": "d2c33b8d-e500-4784-e108-79c54948d987"
      },
      "execution_count": 9,
      "outputs": [
        {
          "output_type": "stream",
          "name": "stdout",
          "text": [
            "Addition: 15\n",
            "Subtraction: 5\n"
          ]
        }
      ]
    },
    {
      "cell_type": "markdown",
      "source": [
        "#**Q8)Implement a class Person with a class method to count the total number of persons created.**"
      ],
      "metadata": {
        "id": "qxFjDsSBTpQO"
      }
    },
    {
      "cell_type": "code",
      "source": [
        "#A8)\n",
        "\n",
        "class Person:\n",
        "    count = 0\n",
        "\n",
        "    def __init__(self, name):\n",
        "        self.name = name\n",
        "        Person.count += 1\n",
        "\n",
        "    @classmethod\n",
        "    def total_persons(cls):\n",
        "        return cls.count\n",
        "\n",
        "\n",
        "p1 = Person(\"Ali\")\n",
        "p2 = Person(\"Sara\")\n",
        "p3 = Person(\"John\")\n",
        "\n",
        "print(\"Total persons created:\", Person.total_persons())\n"
      ],
      "metadata": {
        "colab": {
          "base_uri": "https://localhost:8080/"
        },
        "id": "O7ruQ6m_Ti8E",
        "outputId": "b20c655a-16d3-4562-e2e5-3a5d474a2c56"
      },
      "execution_count": 10,
      "outputs": [
        {
          "output_type": "stream",
          "name": "stdout",
          "text": [
            "Total persons created: 3\n"
          ]
        }
      ]
    },
    {
      "cell_type": "markdown",
      "source": [
        "#**Q9)Write a class Fraction with attributes numerator and denominator. Override the str method to display the fraction as \"numerator/denominator\".**"
      ],
      "metadata": {
        "id": "1VER0KrLUNjT"
      }
    },
    {
      "cell_type": "code",
      "source": [
        "#A9)\n",
        "\n",
        "class Fraction:\n",
        "    def __init__(self, numerator, denominator):\n",
        "        self.numerator = numerator\n",
        "        self.denominator = denominator\n",
        "\n",
        "    def __str__(self):\n",
        "        return f\"{self.numerator}/{self.denominator}\"\n",
        "\n",
        "\n",
        "f1 = Fraction(3, 4)\n",
        "print(f1)\n",
        "\n"
      ],
      "metadata": {
        "colab": {
          "base_uri": "https://localhost:8080/"
        },
        "id": "Vaw4AuyWUIB7",
        "outputId": "de57e4f2-8d0b-4b70-d4f4-e47b3cff476d"
      },
      "execution_count": 11,
      "outputs": [
        {
          "output_type": "stream",
          "name": "stdout",
          "text": [
            "3/4\n"
          ]
        }
      ]
    },
    {
      "cell_type": "markdown",
      "source": [
        "#**Q10) Demonstrate operator overloading by creating a class Vector and overriding the add method to add two vectors.**"
      ],
      "metadata": {
        "id": "S9gDMyecUqXo"
      }
    },
    {
      "cell_type": "code",
      "source": [
        "#A10)\n",
        "\n",
        "class Vector:\n",
        "    def __init__(self, x, y):\n",
        "        self.x = x\n",
        "        self.y = y\n",
        "\n",
        "\n",
        "    def __add__(self, other):\n",
        "        return Vector(self.x + other.x, self.y + other.y)\n",
        "\n",
        "    def __str__(self):\n",
        "        return f\"({self.x}, {self.y})\"\n",
        "\n",
        "\n",
        "v1 = Vector(2, 3)\n",
        "v2 = Vector(4, 5)\n",
        "\n",
        "v3 = v1 + v2\n",
        "print(\"Resultant Vector:\", v3)\n"
      ],
      "metadata": {
        "colab": {
          "base_uri": "https://localhost:8080/"
        },
        "id": "eB19vm22UjiC",
        "outputId": "bebabcaa-59d9-43ba-bac8-6793f8b2cca3"
      },
      "execution_count": 12,
      "outputs": [
        {
          "output_type": "stream",
          "name": "stdout",
          "text": [
            "Resultant Vector: (6, 8)\n"
          ]
        }
      ]
    },
    {
      "cell_type": "markdown",
      "source": [
        "#**Q11)Create a class Person with attributes name and age. Add a method gree() that prints \"Hello, my name is{name} and I am {age} years old.\"**\n",
        "\n",
        "\n"
      ],
      "metadata": {
        "id": "ifoA-_0-VNgx"
      }
    },
    {
      "cell_type": "code",
      "source": [
        "#A11)\n",
        "\n",
        "class Person:\n",
        "    def __init__(self, name, age):\n",
        "        self.name = name\n",
        "        self.age = age\n",
        "\n",
        "    def greet(self):\n",
        "        print(f\"Hello, my name is {self.name} and I am {self.age} years old.\")\n",
        "\n",
        "\n",
        "p1 = Person(\"Waiz\", 23)\n",
        "p1.greet()\n"
      ],
      "metadata": {
        "colab": {
          "base_uri": "https://localhost:8080/"
        },
        "id": "kOAYccHAU8kN",
        "outputId": "6ca2e5e2-8f23-41df-f14c-79bd7af315f1"
      },
      "execution_count": 13,
      "outputs": [
        {
          "output_type": "stream",
          "name": "stdout",
          "text": [
            "Hello, my name is Waiz and I am 23 years old.\n"
          ]
        }
      ]
    },
    {
      "cell_type": "markdown",
      "source": [
        "#**Q12)Implement a class Student with attributes name and grades. Create a method average_grade() to compute the average of the grades.**"
      ],
      "metadata": {
        "id": "zsbyZpnXVkCb"
      }
    },
    {
      "cell_type": "code",
      "source": [
        "#A12)\n",
        "\n",
        "class Student:\n",
        "    def __init__(self, name, grades):\n",
        "        self.name = name\n",
        "        self.grades = grades\n",
        "\n",
        "    def average_grade(self):\n",
        "        if self.grades:\n",
        "            return sum(self.grades) / len(self.grades)\n",
        "        else:\n",
        "            return 0\n",
        "\n",
        "\n",
        "s1 = Student(\"Waiz\", [85, 90, 78, 92])\n",
        "print(f\"Average grade of {s1.name} is:\", s1.average_grade())\n"
      ],
      "metadata": {
        "colab": {
          "base_uri": "https://localhost:8080/"
        },
        "id": "t_YJcP5nVhFH",
        "outputId": "a16ab03c-faac-4c9d-fbde-624c9026b474"
      },
      "execution_count": 14,
      "outputs": [
        {
          "output_type": "stream",
          "name": "stdout",
          "text": [
            "Average grade of Waiz is: 86.25\n"
          ]
        }
      ]
    },
    {
      "cell_type": "markdown",
      "source": [
        "#**Q13) Create a class Rectangle with methods set_dimensions() to set the dimensions and area() to calculate the area.**"
      ],
      "metadata": {
        "id": "0ghVLrHmV7eX"
      }
    },
    {
      "cell_type": "code",
      "source": [
        "#A13)\n",
        "\n",
        "class Rectangle:\n",
        "    def __init__(self):\n",
        "        self.length = 0\n",
        "        self.width = 0\n",
        "\n",
        "    def set_dimensions(self, length, width):\n",
        "        self.length = length\n",
        "        self.width = width\n",
        "\n",
        "    def area(self):\n",
        "        return self.length * self.width\n",
        "\n",
        "\n",
        "rect = Rectangle()\n",
        "rect.set_dimensions(5, 3)\n",
        "print(\"Area of rectangle:\", rect.area())\n"
      ],
      "metadata": {
        "colab": {
          "base_uri": "https://localhost:8080/"
        },
        "id": "HKjLKY9kV4y3",
        "outputId": "93cc5ea7-3ae2-42c2-cb4e-13bf9ab45789"
      },
      "execution_count": 15,
      "outputs": [
        {
          "output_type": "stream",
          "name": "stdout",
          "text": [
            "Area of rectangle: 15\n"
          ]
        }
      ]
    },
    {
      "cell_type": "markdown",
      "source": [
        "#**Q14)Create a class Employee with a method calculate_salary() that computes the salary based on hours worked and hourly rate. Create a derived class Manager that adds a bonus to the salary.**"
      ],
      "metadata": {
        "id": "MvPLvBDWWOYg"
      }
    },
    {
      "cell_type": "code",
      "source": [
        "#A14)\n",
        "\n",
        "\n",
        "class Employee:\n",
        "    def __init__(self, hours_worked, hourly_rate):\n",
        "        self.hours_worked = hours_worked\n",
        "        self.hourly_rate = hourly_rate\n",
        "\n",
        "    def calculate_salary(self):\n",
        "        return self.hours_worked * self.hourly_rate\n",
        "\n",
        "\n",
        "class Manager(Employee):\n",
        "    def __init__(self, hours_worked, hourly_rate, bonus):\n",
        "        super().__init__(hours_worked, hourly_rate)\n",
        "        self.bonus = bonus\n",
        "\n",
        "    def calculate_salary(self):\n",
        "        base_salary = super().calculate_salary()\n",
        "        return base_salary + self.bonus\n",
        "\n",
        "\n",
        "e1 = Employee(40, 200)\n",
        "print(\"Employee Salary:\", e1.calculate_salary())\n",
        "\n",
        "m1 = Manager(40, 200, 5000)\n",
        "print(\"Manager Salary:\", m1.calculate_salary())\n"
      ],
      "metadata": {
        "colab": {
          "base_uri": "https://localhost:8080/"
        },
        "id": "0JuFZVY8WLuZ",
        "outputId": "aef3090d-306b-4925-8d49-f4102a0e993f"
      },
      "execution_count": 16,
      "outputs": [
        {
          "output_type": "stream",
          "name": "stdout",
          "text": [
            "Employee Salary: 8000\n",
            "Manager Salary: 13000\n"
          ]
        }
      ]
    },
    {
      "cell_type": "markdown",
      "source": [
        "#**Q15) Create a class Product with attributes name, price, and quantity. Implement a method total_price() that calculates the total price of the product**"
      ],
      "metadata": {
        "id": "NMil4dnU_60o"
      }
    },
    {
      "cell_type": "code",
      "source": [
        "#A15)\n",
        "\n",
        "class Employee:\n",
        "    def __init__(self, hours_worked, hourly_rate):\n",
        "        self.hours_worked = hours_worked\n",
        "        self.hourly_rate = hourly_rate\n",
        "\n",
        "    def calculate_salary(self):\n",
        "        return self.hours_worked * self.hourly_rate\n",
        "\n",
        "\n",
        "class Manager(Employee):\n",
        "    def __init__(self, hours_worked, hourly_rate, bonus):\n",
        "        super().__init__(hours_worked, hourly_rate)\n",
        "        self.bonus = bonus\n",
        "\n",
        "    def calculate_salary(self):\n",
        "        base_salary = super().calculate_salary()\n",
        "        return base_salary + self.bonus\n",
        "\n",
        "\n",
        "e1 = Employee(40, 200)\n",
        "print(\"Employee Salary:\", e1.calculate_salary())\n",
        "\n",
        "m1 = Manager(40, 200, 5000)\n",
        "print(\"Manager Salary:\", m1.calculate_salary())\n",
        "\n"
      ],
      "metadata": {
        "colab": {
          "base_uri": "https://localhost:8080/"
        },
        "id": "kFuVRnCCWiVj",
        "outputId": "b48880d9-d461-42ee-9725-f0be5df58456"
      },
      "execution_count": 1,
      "outputs": [
        {
          "output_type": "stream",
          "name": "stdout",
          "text": [
            "Employee Salary: 8000\n",
            "Manager Salary: 13000\n"
          ]
        }
      ]
    },
    {
      "cell_type": "markdown",
      "source": [
        "#**Q16)Create a class Animal with an abstract method sound(). Create two derived classes Cow and Sheep that implement the sound() method.**"
      ],
      "metadata": {
        "id": "iSOcMUxmA5XF"
      }
    },
    {
      "cell_type": "code",
      "source": [
        "#A16)\n",
        "\n",
        "from abc import ABC, abstractmethod\n",
        "\n",
        "\n",
        "class Animal(ABC):\n",
        "    @abstractmethod\n",
        "    def sound(self):\n",
        "        pass\n",
        "\n",
        "\n",
        "class Cow(Animal):\n",
        "    def sound(self):\n",
        "        print(\"Cow says Moo!\")\n",
        "\n",
        "\n",
        "class Sheep(Animal):\n",
        "    def sound(self):\n",
        "        print(\"Sheep says Baa!\")\n",
        "\n",
        "\n",
        "c = Cow()\n",
        "s = Sheep()\n",
        "\n",
        "c.sound()\n",
        "s.sound()\n"
      ],
      "metadata": {
        "colab": {
          "base_uri": "https://localhost:8080/"
        },
        "id": "5fewEkysAvxo",
        "outputId": "38211a3e-0691-4475-ff46-e033d5ae2a55"
      },
      "execution_count": 2,
      "outputs": [
        {
          "output_type": "stream",
          "name": "stdout",
          "text": [
            "Cow says Moo!\n",
            "Sheep says Baa!\n"
          ]
        }
      ]
    },
    {
      "cell_type": "markdown",
      "source": [
        "#**Q17)Create a class Book with attributes title, author, and year_published. Add a method get_book_info() that returns a formatted string with the book's details.**"
      ],
      "metadata": {
        "id": "I-eXeK0zBWZd"
      }
    },
    {
      "cell_type": "code",
      "source": [
        "#A17)\n",
        "\n",
        "class Book:\n",
        "    def __init__(self, title, author, year_published):\n",
        "        self.title = title\n",
        "        self.author = author\n",
        "        self.year_published = year_published\n",
        "\n",
        "    def get_book_info(self):\n",
        "        return f\"'{self.title}' by {self.author}, published in {self.year_published}\"\n",
        "\n",
        "\n",
        "book1 = Book(\"The Alchemist\", \"Paulo Coelho\", 1988)\n",
        "print(book1.get_book_info())\n"
      ],
      "metadata": {
        "colab": {
          "base_uri": "https://localhost:8080/"
        },
        "id": "H8N1-9iNBQIc",
        "outputId": "1e457a6c-e242-4dba-d550-435093a5443c"
      },
      "execution_count": 3,
      "outputs": [
        {
          "output_type": "stream",
          "name": "stdout",
          "text": [
            "'The Alchemist' by Paulo Coelho, published in 1988\n"
          ]
        }
      ]
    },
    {
      "cell_type": "markdown",
      "source": [
        "#**Q18) Create a class House with attributes address and price. Create a derived class Mansion that adds an attribute number_of_rooms.**"
      ],
      "metadata": {
        "id": "2MfML8wxBnDD"
      }
    },
    {
      "cell_type": "code",
      "source": [
        "#A18)\n",
        "\n",
        "\n",
        "class House:\n",
        "    def __init__(self, address, price):\n",
        "        self.address = address\n",
        "        self.price = price\n",
        "\n",
        "\n",
        "class Mansion(House):\n",
        "    def __init__(self, address, price, number_of_rooms):\n",
        "        super().__init__(address, price)\n",
        "        self.number_of_rooms = number_of_rooms\n",
        "\n",
        "    def display_info(self):\n",
        "        print(f\"Address: {self.address}\")\n",
        "        print(f\"Price: {self.price}\")\n",
        "        print(f\"Number of Rooms: {self.number_of_rooms}\")\n",
        "\n",
        "\n",
        "m1 = Mansion(\"123 Luxury Lane\", 50000000, 10)\n",
        "m1.display_info()\n"
      ],
      "metadata": {
        "colab": {
          "base_uri": "https://localhost:8080/"
        },
        "id": "nK6UsImgBhKD",
        "outputId": "053abf4f-8144-4bec-ec67-ddb951470b2d"
      },
      "execution_count": 4,
      "outputs": [
        {
          "output_type": "stream",
          "name": "stdout",
          "text": [
            "Address: 123 Luxury Lane\n",
            "Price: 50000000\n",
            "Number of Rooms: 10\n"
          ]
        }
      ]
    },
    {
      "cell_type": "code",
      "source": [],
      "metadata": {
        "id": "-yqhCzefB2fs"
      },
      "execution_count": null,
      "outputs": []
    }
  ]
}